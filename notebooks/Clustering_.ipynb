{
 "cells": [
  {
   "cell_type": "code",
   "execution_count": 1,
   "id": "3fde55f2",
   "metadata": {},
   "outputs": [],
   "source": [
    "import pandas as pd\n",
    "import numpy as np"
   ]
  },
  {
   "cell_type": "code",
   "execution_count": 123,
   "id": "3e97a3cb",
   "metadata": {
    "scrolled": true
   },
   "outputs": [
    {
     "data": {
      "text/html": [
       "<div>\n",
       "<style scoped>\n",
       "    .dataframe tbody tr th:only-of-type {\n",
       "        vertical-align: middle;\n",
       "    }\n",
       "\n",
       "    .dataframe tbody tr th {\n",
       "        vertical-align: top;\n",
       "    }\n",
       "\n",
       "    .dataframe thead th {\n",
       "        text-align: right;\n",
       "    }\n",
       "</style>\n",
       "<table border=\"1\" class=\"dataframe\">\n",
       "  <thead>\n",
       "    <tr style=\"text-align: right;\">\n",
       "      <th></th>\n",
       "      <th>user-id</th>\n",
       "      <th>user-age</th>\n",
       "      <th>user-gender</th>\n",
       "      <th>user-nationality</th>\n",
       "      <th>user-knowledge</th>\n",
       "      <th>user-loyalty</th>\n",
       "      <th>user-loan</th>\n",
       "      <th>user-income</th>\n",
       "      <th>user-savings</th>\n",
       "      <th>user-properties</th>\n",
       "      <th>...</th>\n",
       "      <th>user-dependents</th>\n",
       "      <th>user-pension</th>\n",
       "      <th>product-type</th>\n",
       "      <th>product-risk</th>\n",
       "      <th>product-term</th>\n",
       "      <th>product-yield</th>\n",
       "      <th>transaction-id</th>\n",
       "      <th>year</th>\n",
       "      <th>month</th>\n",
       "      <th>score</th>\n",
       "    </tr>\n",
       "  </thead>\n",
       "  <tbody>\n",
       "    <tr>\n",
       "      <th>0</th>\n",
       "      <td>500</td>\n",
       "      <td>41</td>\n",
       "      <td>0</td>\n",
       "      <td>0</td>\n",
       "      <td>0</td>\n",
       "      <td>1</td>\n",
       "      <td>0</td>\n",
       "      <td>10822</td>\n",
       "      <td>132392</td>\n",
       "      <td>0</td>\n",
       "      <td>...</td>\n",
       "      <td>0</td>\n",
       "      <td>483040</td>\n",
       "      <td>1</td>\n",
       "      <td>1</td>\n",
       "      <td>30</td>\n",
       "      <td>1</td>\n",
       "      <td>5000</td>\n",
       "      <td>2019</td>\n",
       "      <td>9</td>\n",
       "      <td>0.061877</td>\n",
       "    </tr>\n",
       "    <tr>\n",
       "      <th>1</th>\n",
       "      <td>500</td>\n",
       "      <td>41</td>\n",
       "      <td>0</td>\n",
       "      <td>0</td>\n",
       "      <td>0</td>\n",
       "      <td>1</td>\n",
       "      <td>0</td>\n",
       "      <td>10822</td>\n",
       "      <td>132392</td>\n",
       "      <td>0</td>\n",
       "      <td>...</td>\n",
       "      <td>0</td>\n",
       "      <td>483040</td>\n",
       "      <td>2</td>\n",
       "      <td>2</td>\n",
       "      <td>10</td>\n",
       "      <td>2</td>\n",
       "      <td>5001</td>\n",
       "      <td>2019</td>\n",
       "      <td>10</td>\n",
       "      <td>0.179746</td>\n",
       "    </tr>\n",
       "    <tr>\n",
       "      <th>2</th>\n",
       "      <td>500</td>\n",
       "      <td>41</td>\n",
       "      <td>0</td>\n",
       "      <td>0</td>\n",
       "      <td>0</td>\n",
       "      <td>1</td>\n",
       "      <td>0</td>\n",
       "      <td>10822</td>\n",
       "      <td>132392</td>\n",
       "      <td>0</td>\n",
       "      <td>...</td>\n",
       "      <td>0</td>\n",
       "      <td>483040</td>\n",
       "      <td>0</td>\n",
       "      <td>2</td>\n",
       "      <td>10</td>\n",
       "      <td>2</td>\n",
       "      <td>5002</td>\n",
       "      <td>2019</td>\n",
       "      <td>9</td>\n",
       "      <td>0.767918</td>\n",
       "    </tr>\n",
       "    <tr>\n",
       "      <th>3</th>\n",
       "      <td>500</td>\n",
       "      <td>41</td>\n",
       "      <td>0</td>\n",
       "      <td>0</td>\n",
       "      <td>0</td>\n",
       "      <td>1</td>\n",
       "      <td>0</td>\n",
       "      <td>10822</td>\n",
       "      <td>132392</td>\n",
       "      <td>0</td>\n",
       "      <td>...</td>\n",
       "      <td>0</td>\n",
       "      <td>483040</td>\n",
       "      <td>0</td>\n",
       "      <td>0</td>\n",
       "      <td>20</td>\n",
       "      <td>0</td>\n",
       "      <td>5003</td>\n",
       "      <td>2017</td>\n",
       "      <td>12</td>\n",
       "      <td>0.606241</td>\n",
       "    </tr>\n",
       "    <tr>\n",
       "      <th>4</th>\n",
       "      <td>501</td>\n",
       "      <td>25</td>\n",
       "      <td>1</td>\n",
       "      <td>0</td>\n",
       "      <td>0</td>\n",
       "      <td>0</td>\n",
       "      <td>0</td>\n",
       "      <td>5284</td>\n",
       "      <td>51806</td>\n",
       "      <td>0</td>\n",
       "      <td>...</td>\n",
       "      <td>5</td>\n",
       "      <td>113300</td>\n",
       "      <td>0</td>\n",
       "      <td>0</td>\n",
       "      <td>1</td>\n",
       "      <td>0</td>\n",
       "      <td>5004</td>\n",
       "      <td>2019</td>\n",
       "      <td>10</td>\n",
       "      <td>0.829035</td>\n",
       "    </tr>\n",
       "  </tbody>\n",
       "</table>\n",
       "<p>5 rows × 22 columns</p>\n",
       "</div>"
      ],
      "text/plain": [
       "   user-id  user-age  user-gender  user-nationality  user-knowledge  \\\n",
       "0      500        41            0                 0               0   \n",
       "1      500        41            0                 0               0   \n",
       "2      500        41            0                 0               0   \n",
       "3      500        41            0                 0               0   \n",
       "4      501        25            1                 0               0   \n",
       "\n",
       "   user-loyalty  user-loan  user-income  user-savings  user-properties  ...  \\\n",
       "0             1          0        10822        132392                0  ...   \n",
       "1             1          0        10822        132392                0  ...   \n",
       "2             1          0        10822        132392                0  ...   \n",
       "3             1          0        10822        132392                0  ...   \n",
       "4             0          0         5284         51806                0  ...   \n",
       "\n",
       "   user-dependents  user-pension  product-type  product-risk  product-term  \\\n",
       "0                0        483040             1             1            30   \n",
       "1                0        483040             2             2            10   \n",
       "2                0        483040             0             2            10   \n",
       "3                0        483040             0             0            20   \n",
       "4                5        113300             0             0             1   \n",
       "\n",
       "   product-yield  transaction-id  year  month     score  \n",
       "0              1            5000  2019      9  0.061877  \n",
       "1              2            5001  2019     10  0.179746  \n",
       "2              2            5002  2019      9  0.767918  \n",
       "3              0            5003  2017     12  0.606241  \n",
       "4              0            5004  2019     10  0.829035  \n",
       "\n",
       "[5 rows x 22 columns]"
      ]
     },
     "execution_count": 123,
     "metadata": {},
     "output_type": "execute_result"
    }
   ],
   "source": [
    "df=pd.read_csv('D:/Python/Github_ML/Machine-Learning/data/_preprocessed.csv', index_col=0)\n",
    "df.head()"
   ]
  },
  {
   "cell_type": "code",
   "execution_count": 124,
   "id": "754796a5",
   "metadata": {},
   "outputs": [],
   "source": [
    "idx=df.index[df['product-type']==0]\n",
    "idx=idx[:3400]\n",
    "df=df.drop(labels=idx, axis=0)"
   ]
  },
  {
   "cell_type": "code",
   "execution_count": 158,
   "id": "9cf20556",
   "metadata": {},
   "outputs": [],
   "source": [
    "df=df.reindex(columns=[\n",
    " 'user-age',\n",
    " 'user-income',\n",
    " 'user-savings',\n",
    " 'user-properties',                   \n",
    " 'user-dependents',  \n",
    " 'user-pension',                   \n",
    " 'product-term',   \n",
    " 'year',\n",
    " 'month',\n",
    " 'score',\n",
    "    \n",
    " 'user-gender',\n",
    " 'user-nationality',\n",
    " 'user-knowledge',\n",
    " 'user-loyalty',\n",
    " 'user-loan',\n",
    " 'user-riskAversion',\n",
    " 'user-marital',\n",
    " 'product-yield',  \n",
    " 'product-risk',\n",
    "    \n",
    " 'product-type'\n",
    " \n",
    "])"
   ]
  },
  {
   "cell_type": "markdown",
   "id": "9d8c7c57",
   "metadata": {},
   "source": [
    "# Task 1"
   ]
  },
  {
   "cell_type": "markdown",
   "id": "23044391",
   "metadata": {},
   "source": [
    "Применить четыре предложенных метода понижения размерности к своим данным для классификации. Оценить качество работы моделей классификации (минимум 2) на этих данных до и после отбора признаков."
   ]
  },
  {
   "cell_type": "markdown",
   "id": "15e26a75",
   "metadata": {},
   "source": [
    "## Одномерный отбор признаков¶"
   ]
  },
  {
   "cell_type": "code",
   "execution_count": 68,
   "id": "7d2e218f",
   "metadata": {},
   "outputs": [],
   "source": [
    "from sklearn.feature_selection import SelectKBest\n",
    "from sklearn.feature_selection import chi2"
   ]
  },
  {
   "cell_type": "code",
   "execution_count": 126,
   "id": "1fde99bc",
   "metadata": {},
   "outputs": [],
   "source": [
    "X = df.iloc[:, :-1].values\n",
    "y = df[\"product-type\"]"
   ]
  },
  {
   "cell_type": "code",
   "execution_count": 127,
   "id": "8a2a2d13",
   "metadata": {},
   "outputs": [],
   "source": [
    "Y = df.iloc[:, -1].values"
   ]
  },
  {
   "cell_type": "code",
   "execution_count": 70,
   "id": "c95e5027",
   "metadata": {},
   "outputs": [],
   "source": [
    "# feature extraction\n",
    "test = SelectKBest(score_func=chi2, k=4)\n",
    "fit = test.fit(X, y)"
   ]
  },
  {
   "cell_type": "code",
   "execution_count": 71,
   "id": "b2c6f5e4",
   "metadata": {},
   "outputs": [
    {
     "name": "stdout",
     "output_type": "stream",
     "text": [
      "[1.492e+02 9.096e+04 4.206e+05 1.866e+01 6.461e+01 6.459e+07 2.410e+01\n",
      " 6.526e-04 1.340e+00 8.523e-01 2.143e-01 2.292e+00 4.628e+01 7.515e-01\n",
      " 3.612e+01 4.368e+01 2.018e+00 1.627e+01 1.627e+01]\n"
     ]
    }
   ],
   "source": [
    "# summarize scores\n",
    "np.set_printoptions(precision=3)\n",
    "print(fit.scores_)\n",
    "features = fit.transform(X)"
   ]
  },
  {
   "cell_type": "code",
   "execution_count": 72,
   "id": "d192a006",
   "metadata": {},
   "outputs": [
    {
     "name": "stdout",
     "output_type": "stream",
     "text": [
      "[[4.100e+01 1.082e+04 1.324e+05 4.830e+05]\n",
      " [4.100e+01 1.082e+04 1.324e+05 4.830e+05]\n",
      " [2.500e+01 5.284e+03 5.181e+04 1.133e+05]\n",
      " [2.500e+01 5.284e+03 5.181e+04 1.133e+05]\n",
      " [2.700e+01 5.072e+03 4.657e+04 5.953e+05]]\n"
     ]
    }
   ],
   "source": [
    "# summarize selected features\n",
    "print(features[0:5,:])\n",
    "X1 = features"
   ]
  },
  {
   "cell_type": "markdown",
   "id": "d88d4a17",
   "metadata": {},
   "source": [
    "## Рекурсивное исключение признаков"
   ]
  },
  {
   "cell_type": "code",
   "execution_count": 73,
   "id": "b0594ecb",
   "metadata": {},
   "outputs": [],
   "source": [
    "from pandas import read_csv\n",
    "from sklearn.feature_selection import RFE\n",
    "from sklearn.linear_model import LogisticRegression\n",
    "\n",
    "X = df.iloc[:, :-1].values\n",
    "y = df[\"product-type\"]\n"
   ]
  },
  {
   "cell_type": "code",
   "execution_count": 74,
   "id": "380d2f49",
   "metadata": {},
   "outputs": [
    {
     "data": {
      "text/plain": [
       "(11385,)"
      ]
     },
     "execution_count": 74,
     "metadata": {},
     "output_type": "execute_result"
    }
   ],
   "source": [
    "Y.shape"
   ]
  },
  {
   "cell_type": "code",
   "execution_count": 75,
   "id": "50a6ce8d",
   "metadata": {},
   "outputs": [],
   "source": [
    "# feature extraction\n",
    "model = LogisticRegression()\n",
    "rfe = RFE(model, step = 4)\n",
    "fit = rfe.fit(X, y)"
   ]
  },
  {
   "cell_type": "code",
   "execution_count": 76,
   "id": "cf69d311",
   "metadata": {},
   "outputs": [
    {
     "name": "stdout",
     "output_type": "stream",
     "text": [
      "Num Features:  9\n",
      "Selected Features:  [ True  True  True False  True  True  True  True  True False False False\n",
      "  True False False False False False False]\n",
      "Feature Ranking:  [1 1 1 3 1 1 1 1 1 4 4 4 1 4 3 3 3 2 2]\n"
     ]
    }
   ],
   "source": [
    "print(\"Num Features: \", fit.n_features_)\n",
    "print(\"Selected Features: \", fit.support_)\n",
    "print(\"Feature Ranking: \", fit.ranking_)"
   ]
  },
  {
   "cell_type": "markdown",
   "id": "44546ccb",
   "metadata": {},
   "source": [
    "## Отбор на основе важности"
   ]
  },
  {
   "cell_type": "code",
   "execution_count": 77,
   "id": "d423fb8f",
   "metadata": {},
   "outputs": [
    {
     "name": "stdout",
     "output_type": "stream",
     "text": [
      "[0.076 0.083 0.085 0.062 0.048 0.083 0.075 0.077 0.093 0.102 0.034 0.024\n",
      " 0.026 0.04  0.011 0.007 0.04  0.018 0.017]\n"
     ]
    }
   ],
   "source": [
    "from pandas import read_csv\n",
    "from sklearn.ensemble import ExtraTreesClassifier \n",
    "\n",
    "# feature extraction\n",
    "model = ExtraTreesClassifier()\n",
    "model.fit(X, y)\n",
    "print(model.feature_importances_)"
   ]
  },
  {
   "cell_type": "markdown",
   "id": "4c05a6a7",
   "metadata": {},
   "source": [
    "## Метод главных компонент"
   ]
  },
  {
   "cell_type": "code",
   "execution_count": 78,
   "id": "1deec58f",
   "metadata": {
    "scrolled": true
   },
   "outputs": [
    {
     "name": "stdout",
     "output_type": "stream",
     "text": [
      "Explained Variance:  [9.997e-01 2.895e-04 6.796e-07]\n",
      "[[-1.866e+06  4.975e+04  6.296e+02]\n",
      " [-1.866e+06  4.975e+04  6.296e+02]\n",
      " [-2.237e+06 -2.673e+04 -1.634e+03]\n",
      " [-2.237e+06 -2.673e+04 -1.634e+03]\n",
      " [-1.755e+06 -3.752e+04 -1.981e+03]]\n"
     ]
    }
   ],
   "source": [
    "from pandas import read_csv\n",
    "from sklearn.decomposition import PCA\n",
    "\n",
    "# feature extraction\n",
    "pca = PCA(n_components=3)\n",
    "fit = pca.fit(X)\n",
    "features = fit.transform(X)\n",
    "\n",
    "# summarize components\n",
    "print(\"Explained Variance: \", fit.explained_variance_ratio_)\n",
    "print(features[0:5,:])\n",
    "X2 = features"
   ]
  },
  {
   "cell_type": "markdown",
   "id": "d99d50df",
   "metadata": {},
   "source": [
    "## Оценка качества работы моделей после отбора признаков"
   ]
  },
  {
   "cell_type": "code",
   "execution_count": 145,
   "id": "9a8817a5",
   "metadata": {},
   "outputs": [],
   "source": [
    "from sklearn.model_selection import train_test_split"
   ]
  },
  {
   "cell_type": "code",
   "execution_count": 159,
   "id": "969a6f60",
   "metadata": {},
   "outputs": [
    {
     "data": {
      "text/plain": [
       "Series([], Name: product-type, dtype: int64)"
      ]
     },
     "execution_count": 159,
     "metadata": {},
     "output_type": "execute_result"
    }
   ],
   "source": [
    "df['product-type'].value_counts()"
   ]
  },
  {
   "cell_type": "code",
   "execution_count": 154,
   "id": "6c77902f",
   "metadata": {},
   "outputs": [],
   "source": [
    "X_train, X_test, y_train, y_test = train_test_split(X1, y, test_size=0.20, random_state=44)"
   ]
  },
  {
   "cell_type": "code",
   "execution_count": 155,
   "id": "a2582c24",
   "metadata": {},
   "outputs": [],
   "source": [
    "from sklearn.preprocessing import StandardScaler\n",
    "\n",
    "scaler = StandardScaler()\n",
    "scaler.fit(X_train)\n",
    "\n",
    "X_train = scaler.transform(X_train)\n",
    "X_test = scaler.transform(X_test)"
   ]
  },
  {
   "cell_type": "markdown",
   "id": "641c1c0e",
   "metadata": {},
   "source": [
    "### Одномерный отбор признаков"
   ]
  },
  {
   "cell_type": "code",
   "execution_count": 83,
   "id": "c67f837f",
   "metadata": {},
   "outputs": [
    {
     "data": {
      "text/plain": [
       "KNeighborsClassifier(n_neighbors=1)"
      ]
     },
     "execution_count": 83,
     "metadata": {},
     "output_type": "execute_result"
    }
   ],
   "source": [
    "from sklearn.neighbors import KNeighborsClassifier\n",
    "clf = KNeighborsClassifier(n_neighbors=1)\n",
    "clf.fit(X_train, y_train)"
   ]
  },
  {
   "cell_type": "code",
   "execution_count": 84,
   "id": "7b049d06",
   "metadata": {},
   "outputs": [
    {
     "name": "stdout",
     "output_type": "stream",
     "text": [
      "[[290 139 126]\n",
      " [175 193 193]\n",
      " [128 192 161]]\n",
      "              precision    recall  f1-score   support\n",
      "\n",
      "           0       0.49      0.52      0.51       555\n",
      "           1       0.37      0.34      0.36       561\n",
      "           2       0.34      0.33      0.34       481\n",
      "\n",
      "    accuracy                           0.40      1597\n",
      "   macro avg       0.40      0.40      0.40      1597\n",
      "weighted avg       0.40      0.40      0.40      1597\n",
      "\n"
     ]
    }
   ],
   "source": [
    "from sklearn.metrics import classification_report, confusion_matrix\n",
    "\n",
    "y_pred = clf.predict(X_test)\n",
    "print(confusion_matrix(y_test, y_pred))\n",
    "print(classification_report(y_test, y_pred))"
   ]
  },
  {
   "cell_type": "markdown",
   "id": "e662e2aa",
   "metadata": {},
   "source": [
    "### Метод главных компонент"
   ]
  },
  {
   "cell_type": "code",
   "execution_count": 156,
   "id": "5661e5c9",
   "metadata": {},
   "outputs": [
    {
     "data": {
      "text/plain": [
       "KNeighborsClassifier(n_neighbors=1)"
      ]
     },
     "execution_count": 156,
     "metadata": {},
     "output_type": "execute_result"
    }
   ],
   "source": [
    "clf = KNeighborsClassifier(n_neighbors=1)\n",
    "clf.fit(X_train, y_train)"
   ]
  },
  {
   "cell_type": "code",
   "execution_count": 157,
   "id": "b9ad6910",
   "metadata": {
    "scrolled": true
   },
   "outputs": [
    {
     "name": "stdout",
     "output_type": "stream",
     "text": [
      "[[290 139 126]\n",
      " [175 193 193]\n",
      " [128 192 161]]\n",
      "              precision    recall  f1-score   support\n",
      "\n",
      "           0       0.49      0.52      0.51       555\n",
      "           1       0.37      0.34      0.36       561\n",
      "           2       0.34      0.33      0.34       481\n",
      "\n",
      "    accuracy                           0.40      1597\n",
      "   macro avg       0.40      0.40      0.40      1597\n",
      "weighted avg       0.40      0.40      0.40      1597\n",
      "\n"
     ]
    }
   ],
   "source": [
    "y_pred = clf.predict(X_test)\n",
    "print(confusion_matrix(y_test, y_pred))\n",
    "print(classification_report(y_test, y_pred))"
   ]
  },
  {
   "cell_type": "markdown",
   "id": "8833be27",
   "metadata": {},
   "source": [
    "# Task 2"
   ]
  },
  {
   "cell_type": "markdown",
   "id": "6edff5d7",
   "metadata": {},
   "source": [
    "### Метод K-Means"
   ]
  },
  {
   "cell_type": "code",
   "execution_count": 104,
   "id": "c8857f35",
   "metadata": {},
   "outputs": [],
   "source": [
    "from sklearn.cluster import KMeans\n",
    "\n",
    "model = KMeans(n_clusters=2)"
   ]
  },
  {
   "cell_type": "code",
   "execution_count": 105,
   "id": "4e293ab1",
   "metadata": {},
   "outputs": [
    {
     "data": {
      "text/plain": [
       "KMeans(n_clusters=2)"
      ]
     },
     "execution_count": 105,
     "metadata": {},
     "output_type": "execute_result"
    }
   ],
   "source": [
    "model.fit(df)"
   ]
  },
  {
   "cell_type": "code",
   "execution_count": 106,
   "id": "c5fa10f4",
   "metadata": {},
   "outputs": [],
   "source": [
    "all_predictions = model.predict(df)"
   ]
  },
  {
   "cell_type": "code",
   "execution_count": 130,
   "id": "7a98ac30",
   "metadata": {},
   "outputs": [
    {
     "name": "stdout",
     "output_type": "stream",
     "text": [
      "[0 0 0 0 0 1 1 0 0 1 0 0 0 0 0]\n"
     ]
    },
    {
     "data": {
      "text/plain": [
       "array([1, 2, 2, 1, 2, 1, 1, 1, 2, 1, 2, 2, 2, 1, 2], dtype=int64)"
      ]
     },
     "execution_count": 130,
     "metadata": {},
     "output_type": "execute_result"
    }
   ],
   "source": [
    "print(all_predictions[0:15])\n",
    "\n",
    "Y[0:15]"
   ]
  },
  {
   "cell_type": "code",
   "execution_count": 132,
   "id": "93f55349",
   "metadata": {},
   "outputs": [
    {
     "name": "stdout",
     "output_type": "stream",
     "text": [
      "0.36743894802755167\n"
     ]
    }
   ],
   "source": [
    "mapping_preds = [mapping[pred] for pred in all_predictions]\n",
    "print(float(sum(mapping_preds == Y)) / len(Y))"
   ]
  },
  {
   "cell_type": "markdown",
   "id": "36124a22",
   "metadata": {},
   "source": [
    "### метод t-SNE"
   ]
  },
  {
   "cell_type": "code",
   "execution_count": 115,
   "id": "4b5e8016",
   "metadata": {},
   "outputs": [],
   "source": [
    "from sklearn.manifold import TSNE\n",
    "import matplotlib.pyplot as plt\n",
    "\n",
    "model = TSNE(learning_rate=100)"
   ]
  },
  {
   "cell_type": "code",
   "execution_count": 116,
   "id": "bd8b8eab",
   "metadata": {},
   "outputs": [
    {
     "name": "stderr",
     "output_type": "stream",
     "text": [
      "D:\\Annexes\\forConda\\lib\\site-packages\\sklearn\\manifold\\_t_sne.py:780: FutureWarning: The default initialization in TSNE will change from 'random' to 'pca' in 1.2.\n",
      "  warnings.warn(\n"
     ]
    }
   ],
   "source": [
    "transformed = model.fit_transform(df)"
   ]
  },
  {
   "cell_type": "code",
   "execution_count": 117,
   "id": "0ebf98ce",
   "metadata": {},
   "outputs": [],
   "source": [
    "import matplotlib.pyplot as plt\n",
    "import seaborn as sns"
   ]
  },
  {
   "cell_type": "code",
   "execution_count": 121,
   "id": "28aa8586",
   "metadata": {},
   "outputs": [
    {
     "data": {
      "image/png": "[encoded data removed]",
      "text/plain": [
       "<Figure size 432x288 with 1 Axes>"
      ]
     },
     "metadata": {
      "needs_background": "light"
     },
     "output_type": "display_data"
    }
   ],
   "source": [
    "x_axis = transformed[:, 0]\n",
    "y_axis = transformed[:, 1]\n",
    "\n",
    "\n",
    "plt.scatter(x_axis, y_axis, c=Y)\n",
    "plt.show()"
   ]
  },
  {
   "cell_type": "markdown",
   "id": "234596cb",
   "metadata": {},
   "source": [
    "### метод DBSCAN¶"
   ]
  },
  {
   "cell_type": "code",
   "execution_count": 143,
   "id": "5ddde224",
   "metadata": {},
   "outputs": [],
   "source": [
    "ds=df.reindex(columns=[\n",
    " 'user-age',\n",
    " 'user-income',\n",
    " 'user-savings',\n",
    " 'user-properties',                   \n",
    " 'user-dependents',  \n",
    " 'user-pension',                   \n",
    " 'product-term',   \n",
    " 'year',\n",
    " 'month',\n",
    " 'score',\n",
    "    \n",
    " 'user-gender',\n",
    " 'user-nationality',\n",
    " 'user-knowledge',\n",
    " 'user-loyalty',\n",
    " 'user-loan',\n",
    " 'user-riskAversion',\n",
    " 'user-marital',\n",
    " 'product-yield',  \n",
    " 'product-risk',\n",
    "    \n",
    " \n",
    " \n",
    "])"
   ]
  },
  {
   "cell_type": "code",
   "execution_count": 144,
   "id": "d8d6afea",
   "metadata": {},
   "outputs": [
    {
     "data": {
      "image/png": "[encoded data removed]",
      "text/plain": [
       "<Figure size 432x288 with 1 Axes>"
      ]
     },
     "metadata": {
      "needs_background": "light"
     },
     "output_type": "display_data"
    }
   ],
   "source": [
    "# Определяем модель\n",
    "\n",
    "dbscan = DBSCAN()\n",
    "\n",
    "# Обучаем\n",
    "dbscan.fit(ds)\n",
    "\n",
    "# Уменьшаем размерность при помощи метода главных компонент\n",
    "pca = PCA(n_components=2).fit(ds)\n",
    "pca_2d = pca.transform(ds)\n",
    "\n",
    "# Строим в соответствии с тремя классами\n",
    "for i in range(0, pca_2d.shape[0]):\n",
    "    if dbscan.labels_[i] == 0:\n",
    "        c1 = plt.scatter(pca_2d[i, 0], pca_2d[i, 1], c='r', marker='+')\n",
    "    elif dbscan.labels_[i] == 1:\n",
    "        c2 = plt.scatter(pca_2d[i, 0], pca_2d[i, 1], c='g', marker='o')\n",
    "    elif dbscan.labels_[i] == -1:\n",
    "        c3 = plt.scatter(pca_2d[i, 0], pca_2d[i, 1], c='b', marker='*')\n",
    "\n",
    "plt.legend([c1, c2, c3], ['Кластер 1', 'Кластер 2', 'Шум'])\n",
    "plt.title('DBSCAN нашел 2 кластера и шум')\n",
    "\n",
    "plt.show()"
   ]
  },
  {
   "cell_type": "markdown",
   "id": "ad13aec4",
   "metadata": {},
   "source": [
    "### Иерархическая кластеризация¶"
   ]
  },
  {
   "cell_type": "code",
   "execution_count": 120,
   "id": "17cb47ee",
   "metadata": {},
   "outputs": [
    {
     "data": {
      "image/png": "[encoded data removed]",
      "text/plain": [
       "<Figure size 432x288 with 1 Axes>"
      ]
     },
     "metadata": {
      "needs_background": "light"
     },
     "output_type": "display_data"
    }
   ],
   "source": [
    "# Импортируем библиотеки\n",
    "from scipy.cluster.hierarchy import linkage, dendrogram\n",
    "import matplotlib.pyplot as plt\n",
    "import pandas as pd\n",
    "\n",
    "# Исключаем информацию об образцах зерна, сохраняем для дальнейшего использования\n",
    "varieties = list(df.pop('product-type'))\n",
    "\n",
    "# Извлекаем измерения как массив NumPy\n",
    "samples = df.values\n",
    "\n",
    "# Реализация иерархической кластеризации при помощи функции linkage\n",
    "mergings = linkage(samples, method='complete')\n",
    "\n",
    "# Строим дендрограмму, указав параметры удобные для отображения\n",
    "dendrogram(mergings,\n",
    "           labels=varieties,\n",
    "           leaf_rotation=90,\n",
    "           leaf_font_size=6,\n",
    "           )\n",
    "\n",
    "plt.show()"
   ]
  }
 ],
 "metadata": {
  "kernelspec": {
   "display_name": "Python 3",
   "language": "python",
   "name": "python3"
  },
  "language_info": {
   "codemirror_mode": {
    "name": "ipython",
    "version": 3
   },
   "file_extension": ".py",
   "mimetype": "text/x-python",
   "name": "python",
   "nbconvert_exporter": "python",
   "pygments_lexer": "ipython3",
   "version": "3.8.8"
  }
 },
 "nbformat": 4,
 "nbformat_minor": 5
}
