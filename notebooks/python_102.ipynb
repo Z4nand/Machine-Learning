{
 "cells": [
  {
   "cell_type": "code",
   "execution_count": 1,
   "id": "f7839eff",
   "metadata": {},
   "outputs": [],
   "source": [
    "import pandas as pd\n",
    "import numpy as np\n",
    "import seaborn as sns"
   ]
  },
  {
   "cell_type": "code",
   "execution_count": 6,
   "id": "1722e83d",
   "metadata": {},
   "outputs": [],
   "source": [
    "df=pd.read_csv('D:/Python/Github_ML/Machine-Learning/data/_preprocessed.csv', index_col=0)"
   ]
  },
  {
   "cell_type": "code",
   "execution_count": 7,
   "id": "33f610f4",
   "metadata": {},
   "outputs": [
    {
     "name": "stdout",
     "output_type": "stream",
     "text": [
      "<class 'pandas.core.frame.DataFrame'>\n",
      "Int64Index: 11385 entries, 0 to 11384\n",
      "Data columns (total 22 columns):\n",
      " #   Column             Non-Null Count  Dtype  \n",
      "---  ------             --------------  -----  \n",
      " 0   user-id            11385 non-null  int64  \n",
      " 1   user-age           11385 non-null  int64  \n",
      " 2   user-gender        11385 non-null  int64  \n",
      " 3   user-nationality   11385 non-null  int64  \n",
      " 4   user-knowledge     11385 non-null  int64  \n",
      " 5   user-loyalty       11385 non-null  int64  \n",
      " 6   user-loan          11385 non-null  int64  \n",
      " 7   user-income        11385 non-null  int64  \n",
      " 8   user-savings       11385 non-null  int64  \n",
      " 9   user-properties    11385 non-null  int64  \n",
      " 10  user-riskAversion  11385 non-null  int64  \n",
      " 11  user-marital       11385 non-null  int64  \n",
      " 12  user-dependents    11385 non-null  int64  \n",
      " 13  user-pension       11385 non-null  int64  \n",
      " 14  product-type       11385 non-null  int64  \n",
      " 15  product-risk       11385 non-null  int64  \n",
      " 16  product-term       11385 non-null  int64  \n",
      " 17  product-yield      11385 non-null  int64  \n",
      " 18  transaction-id     11385 non-null  int64  \n",
      " 19  year               11385 non-null  int64  \n",
      " 20  month              11385 non-null  int64  \n",
      " 21  score              11385 non-null  float64\n",
      "dtypes: float64(1), int64(21)\n",
      "memory usage: 2.0 MB\n"
     ]
    }
   ],
   "source": [
    "df.info()"
   ]
  },
  {
   "cell_type": "code",
   "execution_count": 11,
   "id": "3994698c",
   "metadata": {},
   "outputs": [
    {
     "data": {
      "text/html": [
       "<div>\n",
       "<style scoped>\n",
       "    .dataframe tbody tr th:only-of-type {\n",
       "        vertical-align: middle;\n",
       "    }\n",
       "\n",
       "    .dataframe tbody tr th {\n",
       "        vertical-align: top;\n",
       "    }\n",
       "\n",
       "    .dataframe thead th {\n",
       "        text-align: right;\n",
       "    }\n",
       "</style>\n",
       "<table border=\"1\" class=\"dataframe\">\n",
       "  <thead>\n",
       "    <tr style=\"text-align: right;\">\n",
       "      <th></th>\n",
       "      <th>user-id</th>\n",
       "      <th>user-age</th>\n",
       "      <th>user-gender</th>\n",
       "      <th>user-nationality</th>\n",
       "      <th>user-knowledge</th>\n",
       "      <th>user-loyalty</th>\n",
       "      <th>user-loan</th>\n",
       "      <th>user-income</th>\n",
       "      <th>user-savings</th>\n",
       "      <th>user-properties</th>\n",
       "      <th>...</th>\n",
       "      <th>user-dependents</th>\n",
       "      <th>user-pension</th>\n",
       "      <th>product-type</th>\n",
       "      <th>product-risk</th>\n",
       "      <th>product-term</th>\n",
       "      <th>product-yield</th>\n",
       "      <th>transaction-id</th>\n",
       "      <th>year</th>\n",
       "      <th>month</th>\n",
       "      <th>score</th>\n",
       "    </tr>\n",
       "  </thead>\n",
       "  <tbody>\n",
       "    <tr>\n",
       "      <th>0</th>\n",
       "      <td>500</td>\n",
       "      <td>41</td>\n",
       "      <td>0</td>\n",
       "      <td>0</td>\n",
       "      <td>0</td>\n",
       "      <td>1</td>\n",
       "      <td>0</td>\n",
       "      <td>10822</td>\n",
       "      <td>132392</td>\n",
       "      <td>0</td>\n",
       "      <td>...</td>\n",
       "      <td>0</td>\n",
       "      <td>483040</td>\n",
       "      <td>1</td>\n",
       "      <td>1</td>\n",
       "      <td>30</td>\n",
       "      <td>1</td>\n",
       "      <td>5000</td>\n",
       "      <td>2019</td>\n",
       "      <td>9</td>\n",
       "      <td>0.061877</td>\n",
       "    </tr>\n",
       "    <tr>\n",
       "      <th>1</th>\n",
       "      <td>500</td>\n",
       "      <td>41</td>\n",
       "      <td>0</td>\n",
       "      <td>0</td>\n",
       "      <td>0</td>\n",
       "      <td>1</td>\n",
       "      <td>0</td>\n",
       "      <td>10822</td>\n",
       "      <td>132392</td>\n",
       "      <td>0</td>\n",
       "      <td>...</td>\n",
       "      <td>0</td>\n",
       "      <td>483040</td>\n",
       "      <td>2</td>\n",
       "      <td>2</td>\n",
       "      <td>10</td>\n",
       "      <td>2</td>\n",
       "      <td>5001</td>\n",
       "      <td>2019</td>\n",
       "      <td>10</td>\n",
       "      <td>0.179746</td>\n",
       "    </tr>\n",
       "    <tr>\n",
       "      <th>2</th>\n",
       "      <td>500</td>\n",
       "      <td>41</td>\n",
       "      <td>0</td>\n",
       "      <td>0</td>\n",
       "      <td>0</td>\n",
       "      <td>1</td>\n",
       "      <td>0</td>\n",
       "      <td>10822</td>\n",
       "      <td>132392</td>\n",
       "      <td>0</td>\n",
       "      <td>...</td>\n",
       "      <td>0</td>\n",
       "      <td>483040</td>\n",
       "      <td>0</td>\n",
       "      <td>2</td>\n",
       "      <td>10</td>\n",
       "      <td>2</td>\n",
       "      <td>5002</td>\n",
       "      <td>2019</td>\n",
       "      <td>9</td>\n",
       "      <td>0.767918</td>\n",
       "    </tr>\n",
       "    <tr>\n",
       "      <th>3</th>\n",
       "      <td>500</td>\n",
       "      <td>41</td>\n",
       "      <td>0</td>\n",
       "      <td>0</td>\n",
       "      <td>0</td>\n",
       "      <td>1</td>\n",
       "      <td>0</td>\n",
       "      <td>10822</td>\n",
       "      <td>132392</td>\n",
       "      <td>0</td>\n",
       "      <td>...</td>\n",
       "      <td>0</td>\n",
       "      <td>483040</td>\n",
       "      <td>0</td>\n",
       "      <td>0</td>\n",
       "      <td>20</td>\n",
       "      <td>0</td>\n",
       "      <td>5003</td>\n",
       "      <td>2017</td>\n",
       "      <td>12</td>\n",
       "      <td>0.606241</td>\n",
       "    </tr>\n",
       "    <tr>\n",
       "      <th>4</th>\n",
       "      <td>501</td>\n",
       "      <td>25</td>\n",
       "      <td>1</td>\n",
       "      <td>0</td>\n",
       "      <td>0</td>\n",
       "      <td>0</td>\n",
       "      <td>0</td>\n",
       "      <td>5284</td>\n",
       "      <td>51806</td>\n",
       "      <td>0</td>\n",
       "      <td>...</td>\n",
       "      <td>5</td>\n",
       "      <td>113300</td>\n",
       "      <td>0</td>\n",
       "      <td>0</td>\n",
       "      <td>1</td>\n",
       "      <td>0</td>\n",
       "      <td>5004</td>\n",
       "      <td>2019</td>\n",
       "      <td>10</td>\n",
       "      <td>0.829035</td>\n",
       "    </tr>\n",
       "  </tbody>\n",
       "</table>\n",
       "<p>5 rows × 22 columns</p>\n",
       "</div>"
      ],
      "text/plain": [
       "   user-id  user-age  user-gender  user-nationality  user-knowledge  \\\n",
       "0      500        41            0                 0               0   \n",
       "1      500        41            0                 0               0   \n",
       "2      500        41            0                 0               0   \n",
       "3      500        41            0                 0               0   \n",
       "4      501        25            1                 0               0   \n",
       "\n",
       "   user-loyalty  user-loan  user-income  user-savings  user-properties  ...  \\\n",
       "0             1          0        10822        132392                0  ...   \n",
       "1             1          0        10822        132392                0  ...   \n",
       "2             1          0        10822        132392                0  ...   \n",
       "3             1          0        10822        132392                0  ...   \n",
       "4             0          0         5284         51806                0  ...   \n",
       "\n",
       "   user-dependents  user-pension  product-type  product-risk  product-term  \\\n",
       "0                0        483040             1             1            30   \n",
       "1                0        483040             2             2            10   \n",
       "2                0        483040             0             2            10   \n",
       "3                0        483040             0             0            20   \n",
       "4                5        113300             0             0             1   \n",
       "\n",
       "   product-yield  transaction-id  year  month     score  \n",
       "0              1            5000  2019      9  0.061877  \n",
       "1              2            5001  2019     10  0.179746  \n",
       "2              2            5002  2019      9  0.767918  \n",
       "3              0            5003  2017     12  0.606241  \n",
       "4              0            5004  2019     10  0.829035  \n",
       "\n",
       "[5 rows x 22 columns]"
      ]
     },
     "execution_count": 11,
     "metadata": {},
     "output_type": "execute_result"
    }
   ],
   "source": [
    "df.head()"
   ]
  },
  {
   "cell_type": "code",
   "execution_count": 19,
   "id": "cbe09305",
   "metadata": {},
   "outputs": [
    {
     "data": {
      "image/png": "[encoded data removed]",
      "text/plain": [
       "<Figure size 432x288 with 1 Axes>"
      ]
     },
     "metadata": {
      "needs_background": "light"
     },
     "output_type": "display_data"
    }
   ],
   "source": [
    "df.plot(y='user-age', kind='hist', \n",
    "           color='blue',  title='Возрастные категории');"
   ]
  },
  {
   "cell_type": "markdown",
   "id": "2cb75771",
   "metadata": {},
   "source": [
    "#### Из гистограммы видно, что большинство клиентов - это люди около 40 лет, но в то же время порок входа старше 20"
   ]
  },
  {
   "cell_type": "code",
   "execution_count": 34,
   "id": "c368ade3",
   "metadata": {},
   "outputs": [
    {
     "data": {
      "text/plain": [
       "product-type  user-knowledge\n",
       "0             0                 4423\n",
       "              1                 1213\n",
       "              2                  594\n",
       "1             0                 2185\n",
       "              1                  433\n",
       "              2                  225\n",
       "2             0                 1673\n",
       "              1                  406\n",
       "              2                  233\n",
       "dtype: int64"
      ]
     },
     "execution_count": 34,
     "metadata": {},
     "output_type": "execute_result"
    }
   ],
   "source": [
    "df.groupby(['product-type','user-knowledge']).size()"
   ]
  },
  {
   "cell_type": "markdown",
   "id": "3c9dc493",
   "metadata": {},
   "source": [
    "#### У основная части клиентской базы низние инвестиционные знания, причём наблюдается на всех типах предоставляемых услуг"
   ]
  },
  {
   "cell_type": "code",
   "execution_count": 37,
   "id": "73d01a25",
   "metadata": {},
   "outputs": [
    {
     "data": {
      "image/png": "[encoded data removed]",
      "text/plain": [
       "<Figure size 432x288 with 1 Axes>"
      ]
     },
     "metadata": {},
     "output_type": "display_data"
    }
   ],
   "source": [
    "df['user-loyalty'].value_counts().plot.pie();"
   ]
  },
  {
   "cell_type": "markdown",
   "id": "12f9da58",
   "metadata": {},
   "source": [
    "#### Основная часть клиентов-это новые люди, затем спорадические, а затем и постоянные клиенты"
   ]
  }
 ],
 "metadata": {
  "kernelspec": {
   "display_name": "Python 3",
   "language": "python",
   "name": "python3"
  },
  "language_info": {
   "codemirror_mode": {
    "name": "ipython",
    "version": 3
   },
   "file_extension": ".py",
   "mimetype": "text/x-python",
   "name": "python",
   "nbconvert_exporter": "python",
   "pygments_lexer": "ipython3",
   "version": "3.8.8"
  }
 },
 "nbformat": 4,
 "nbformat_minor": 5
}
