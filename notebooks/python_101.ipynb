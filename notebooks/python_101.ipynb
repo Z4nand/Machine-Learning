{
 "cells": [
  {
   "cell_type": "markdown",
   "id": "c89e719a",
   "metadata": {},
   "source": [
    "#### Дан лист чисел. Каждое число встречается в этом листе два раза. При этом в листе имеется одно число, которое встречается ровно один раз. Вывести это число. Решение оформить в виде функции и вызывающего её кода."
   ]
  },
  {
   "cell_type": "code",
   "execution_count": 3,
   "id": "1a931fbb",
   "metadata": {},
   "outputs": [],
   "source": [
    "l=[1,1,2,3,3,4,4]"
   ]
  },
  {
   "cell_type": "code",
   "execution_count": 4,
   "id": "816ca856",
   "metadata": {},
   "outputs": [],
   "source": [
    "def one_filter(l):\n",
    "    return list(filter(lambda i: l.count(i)==1,l))"
   ]
  },
  {
   "cell_type": "code",
   "execution_count": 5,
   "id": "383a2063",
   "metadata": {},
   "outputs": [
    {
     "data": {
      "text/plain": [
       "[2]"
      ]
     },
     "execution_count": 5,
     "metadata": {},
     "output_type": "execute_result"
    }
   ],
   "source": [
    "one_filter(l)"
   ]
  }
 ],
 "metadata": {
  "kernelspec": {
   "display_name": "Python 3",
   "language": "python",
   "name": "python3"
  },
  "language_info": {
   "codemirror_mode": {
    "name": "ipython",
    "version": 3
   },
   "file_extension": ".py",
   "mimetype": "text/x-python",
   "name": "python",
   "nbconvert_exporter": "python",
   "pygments_lexer": "ipython3",
   "version": "3.8.8"
  }
 },
 "nbformat": 4,
 "nbformat_minor": 5
}
