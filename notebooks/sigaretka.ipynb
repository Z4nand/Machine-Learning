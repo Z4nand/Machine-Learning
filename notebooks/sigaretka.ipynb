{
  "nbformat": 4,
  "nbformat_minor": 0,
  "metadata": {
    "colab": {
      "name": "Копия блокнота \"Kaus_FIT_201.ipynb\"",
      "provenance": [],
      "collapsed_sections": []
    },
    "kernelspec": {
      "name": "python3",
      "display_name": "Python 3"
    },
    "language_info": {
      "name": "python"
    }
  },
  "cells": [
    {
      "cell_type": "markdown",
      "source": [
        "#Модуль А"
      ],
      "metadata": {
        "id": "VvHRwedOPUjY"
      }
    },
    {
      "cell_type": "code",
      "execution_count": null,
      "metadata": {
        "id": "fnY9IVclL-2T"
      },
      "outputs": [],
      "source": [
        "import pandas as pd\n",
        "import numpy as np\n",
        "import matplotlib as plt\n",
        "import seaborn as sns\n",
        "from pylab import rcParams"
      ]
    },
    {
      "cell_type": "code",
      "source": [
        "smoking_dataframe = pd.read_csv('smoking_data.csv', sep = \";\") #загрузка датасета в формате pandas dataframe"
      ],
      "metadata": {
        "id": "_2xLK_Y3PZwZ"
      },
      "execution_count": null,
      "outputs": []
    },
    {
      "cell_type": "code",
      "source": [
        "smoking_dataframe.head(5) #вывод первых 5 объектов датасета"
      ],
      "metadata": {
        "colab": {
          "base_uri": "https://localhost:8080/",
          "height": 297
        },
        "id": "gbZFuySvPp-D",
        "outputId": "e0ee902d-74ba-4436-ae42-8f92fd3895cf"
      },
      "execution_count": null,
      "outputs": [
        {
          "output_type": "execute_result",
          "data": {
            "text/plain": [
              "   ID gender   age  height(cm)  weight(kg)  waist(cm) eyesight(left, right)  \\\n",
              "0   0      F  40.0       155.0        60.0       81.3              1.2, 1.0   \n",
              "1   1      F  40.0       160.0        60.0       81.0              0.8, 0.6   \n",
              "2   2      M  55.0       170.0        60.0       80.0              0.8, 0.8   \n",
              "3   3      M  40.0       165.0        70.0       88.0              1.5, 1.5   \n",
              "4   4      F  40.0       155.0        60.0       86.0              1.0, 1.0   \n",
              "\n",
              "  hearing(left, right)  systolic  relaxation  ...    LDL  hemoglobin  \\\n",
              "0             1.0, 1.0     114.0        73.0  ...  126.0        12.9   \n",
              "1             1.0, 1.0     119.0        70.0  ...  127.0        12.7   \n",
              "2             1.0, 1.0     138.0        86.0  ...  151.0        15.8   \n",
              "3             1.0, 1.0     100.0        60.0  ...  226.0        14.7   \n",
              "4             1.0, 1.0     120.0        74.0  ...  107.0        12.5   \n",
              "\n",
              "   Urine protein  serum creatinine   AST   ALT   Gtp  dental caries  tartar  \\\n",
              "0            1.0               0.7  18.0  19.0  27.0              N       Y   \n",
              "1            1.0               0.6  22.0  19.0  18.0              N       Y   \n",
              "2            1.0               1.0  21.0  16.0  22.0              N       N   \n",
              "3            1.0               1.0  19.0  26.0  18.0              N       Y   \n",
              "4            1.0               0.6  16.0  14.0  22.0              N       N   \n",
              "\n",
              "   smoking  \n",
              "0        N  \n",
              "1        N  \n",
              "2        Y  \n",
              "3        N  \n",
              "4        N  \n",
              "\n",
              "[5 rows x 24 columns]"
            ],
            "text/html": [
              "\n",
              "  <div id=\"df-1e4c5017-a0eb-4a40-b5a4-981c3169ff74\">\n",
              "    <div class=\"colab-df-container\">\n",
              "      <div>\n",
              "<style scoped>\n",
              "    .dataframe tbody tr th:only-of-type {\n",
              "        vertical-align: middle;\n",
              "    }\n",
              "\n",
              "    .dataframe tbody tr th {\n",
              "        vertical-align: top;\n",
              "    }\n",
              "\n",
              "    .dataframe thead th {\n",
              "        text-align: right;\n",
              "    }\n",
              "</style>\n",
              "<table border=\"1\" class=\"dataframe\">\n",
              "  <thead>\n",
              "    <tr style=\"text-align: right;\">\n",
              "      <th></th>\n",
              "      <th>ID</th>\n",
              "      <th>gender</th>\n",
              "      <th>age</th>\n",
              "      <th>height(cm)</th>\n",
              "      <th>weight(kg)</th>\n",
              "      <th>waist(cm)</th>\n",
              "      <th>eyesight(left, right)</th>\n",
              "      <th>hearing(left, right)</th>\n",
              "      <th>systolic</th>\n",
              "      <th>relaxation</th>\n",
              "      <th>...</th>\n",
              "      <th>LDL</th>\n",
              "      <th>hemoglobin</th>\n",
              "      <th>Urine protein</th>\n",
              "      <th>serum creatinine</th>\n",
              "      <th>AST</th>\n",
              "      <th>ALT</th>\n",
              "      <th>Gtp</th>\n",
              "      <th>dental caries</th>\n",
              "      <th>tartar</th>\n",
              "      <th>smoking</th>\n",
              "    </tr>\n",
              "  </thead>\n",
              "  <tbody>\n",
              "    <tr>\n",
              "      <th>0</th>\n",
              "      <td>0</td>\n",
              "      <td>F</td>\n",
              "      <td>40.0</td>\n",
              "      <td>155.0</td>\n",
              "      <td>60.0</td>\n",
              "      <td>81.3</td>\n",
              "      <td>1.2, 1.0</td>\n",
              "      <td>1.0, 1.0</td>\n",
              "      <td>114.0</td>\n",
              "      <td>73.0</td>\n",
              "      <td>...</td>\n",
              "      <td>126.0</td>\n",
              "      <td>12.9</td>\n",
              "      <td>1.0</td>\n",
              "      <td>0.7</td>\n",
              "      <td>18.0</td>\n",
              "      <td>19.0</td>\n",
              "      <td>27.0</td>\n",
              "      <td>N</td>\n",
              "      <td>Y</td>\n",
              "      <td>N</td>\n",
              "    </tr>\n",
              "    <tr>\n",
              "      <th>1</th>\n",
              "      <td>1</td>\n",
              "      <td>F</td>\n",
              "      <td>40.0</td>\n",
              "      <td>160.0</td>\n",
              "      <td>60.0</td>\n",
              "      <td>81.0</td>\n",
              "      <td>0.8, 0.6</td>\n",
              "      <td>1.0, 1.0</td>\n",
              "      <td>119.0</td>\n",
              "      <td>70.0</td>\n",
              "      <td>...</td>\n",
              "      <td>127.0</td>\n",
              "      <td>12.7</td>\n",
              "      <td>1.0</td>\n",
              "      <td>0.6</td>\n",
              "      <td>22.0</td>\n",
              "      <td>19.0</td>\n",
              "      <td>18.0</td>\n",
              "      <td>N</td>\n",
              "      <td>Y</td>\n",
              "      <td>N</td>\n",
              "    </tr>\n",
              "    <tr>\n",
              "      <th>2</th>\n",
              "      <td>2</td>\n",
              "      <td>M</td>\n",
              "      <td>55.0</td>\n",
              "      <td>170.0</td>\n",
              "      <td>60.0</td>\n",
              "      <td>80.0</td>\n",
              "      <td>0.8, 0.8</td>\n",
              "      <td>1.0, 1.0</td>\n",
              "      <td>138.0</td>\n",
              "      <td>86.0</td>\n",
              "      <td>...</td>\n",
              "      <td>151.0</td>\n",
              "      <td>15.8</td>\n",
              "      <td>1.0</td>\n",
              "      <td>1.0</td>\n",
              "      <td>21.0</td>\n",
              "      <td>16.0</td>\n",
              "      <td>22.0</td>\n",
              "      <td>N</td>\n",
              "      <td>N</td>\n",
              "      <td>Y</td>\n",
              "    </tr>\n",
              "    <tr>\n",
              "      <th>3</th>\n",
              "      <td>3</td>\n",
              "      <td>M</td>\n",
              "      <td>40.0</td>\n",
              "      <td>165.0</td>\n",
              "      <td>70.0</td>\n",
              "      <td>88.0</td>\n",
              "      <td>1.5, 1.5</td>\n",
              "      <td>1.0, 1.0</td>\n",
              "      <td>100.0</td>\n",
              "      <td>60.0</td>\n",
              "      <td>...</td>\n",
              "      <td>226.0</td>\n",
              "      <td>14.7</td>\n",
              "      <td>1.0</td>\n",
              "      <td>1.0</td>\n",
              "      <td>19.0</td>\n",
              "      <td>26.0</td>\n",
              "      <td>18.0</td>\n",
              "      <td>N</td>\n",
              "      <td>Y</td>\n",
              "      <td>N</td>\n",
              "    </tr>\n",
              "    <tr>\n",
              "      <th>4</th>\n",
              "      <td>4</td>\n",
              "      <td>F</td>\n",
              "      <td>40.0</td>\n",
              "      <td>155.0</td>\n",
              "      <td>60.0</td>\n",
              "      <td>86.0</td>\n",
              "      <td>1.0, 1.0</td>\n",
              "      <td>1.0, 1.0</td>\n",
              "      <td>120.0</td>\n",
              "      <td>74.0</td>\n",
              "      <td>...</td>\n",
              "      <td>107.0</td>\n",
              "      <td>12.5</td>\n",
              "      <td>1.0</td>\n",
              "      <td>0.6</td>\n",
              "      <td>16.0</td>\n",
              "      <td>14.0</td>\n",
              "      <td>22.0</td>\n",
              "      <td>N</td>\n",
              "      <td>N</td>\n",
              "      <td>N</td>\n",
              "    </tr>\n",
              "  </tbody>\n",
              "</table>\n",
              "<p>5 rows × 24 columns</p>\n",
              "</div>\n",
              "      <button class=\"colab-df-convert\" onclick=\"convertToInteractive('df-1e4c5017-a0eb-4a40-b5a4-981c3169ff74')\"\n",
              "              title=\"Convert this dataframe to an interactive table.\"\n",
              "              style=\"display:none;\">\n",
              "        \n",
              "  <svg xmlns=\"http://www.w3.org/2000/svg\" height=\"24px\"viewBox=\"0 0 24 24\"\n",
              "       width=\"24px\">\n",
              "    <path d=\"M0 0h24v24H0V0z\" fill=\"none\"/>\n",
              "    <path d=\"M18.56 5.44l.94 2.06.94-2.06 2.06-.94-2.06-.94-.94-2.06-.94 2.06-2.06.94zm-11 1L8.5 8.5l.94-2.06 2.06-.94-2.06-.94L8.5 2.5l-.94 2.06-2.06.94zm10 10l.94 2.06.94-2.06 2.06-.94-2.06-.94-.94-2.06-.94 2.06-2.06.94z\"/><path d=\"M17.41 7.96l-1.37-1.37c-.4-.4-.92-.59-1.43-.59-.52 0-1.04.2-1.43.59L10.3 9.45l-7.72 7.72c-.78.78-.78 2.05 0 2.83L4 21.41c.39.39.9.59 1.41.59.51 0 1.02-.2 1.41-.59l7.78-7.78 2.81-2.81c.8-.78.8-2.07 0-2.86zM5.41 20L4 18.59l7.72-7.72 1.47 1.35L5.41 20z\"/>\n",
              "  </svg>\n",
              "      </button>\n",
              "      \n",
              "  <style>\n",
              "    .colab-df-container {\n",
              "      display:flex;\n",
              "      flex-wrap:wrap;\n",
              "      gap: 12px;\n",
              "    }\n",
              "\n",
              "    .colab-df-convert {\n",
              "      background-color: #E8F0FE;\n",
              "      border: none;\n",
              "      border-radius: 50%;\n",
              "      cursor: pointer;\n",
              "      display: none;\n",
              "      fill: #1967D2;\n",
              "      height: 32px;\n",
              "      padding: 0 0 0 0;\n",
              "      width: 32px;\n",
              "    }\n",
              "\n",
              "    .colab-df-convert:hover {\n",
              "      background-color: #E2EBFA;\n",
              "      box-shadow: 0px 1px 2px rgba(60, 64, 67, 0.3), 0px 1px 3px 1px rgba(60, 64, 67, 0.15);\n",
              "      fill: #174EA6;\n",
              "    }\n",
              "\n",
              "    [theme=dark] .colab-df-convert {\n",
              "      background-color: #3B4455;\n",
              "      fill: #D2E3FC;\n",
              "    }\n",
              "\n",
              "    [theme=dark] .colab-df-convert:hover {\n",
              "      background-color: #434B5C;\n",
              "      box-shadow: 0px 1px 3px 1px rgba(0, 0, 0, 0.15);\n",
              "      filter: drop-shadow(0px 1px 2px rgba(0, 0, 0, 0.3));\n",
              "      fill: #FFFFFF;\n",
              "    }\n",
              "  </style>\n",
              "\n",
              "      <script>\n",
              "        const buttonEl =\n",
              "          document.querySelector('#df-1e4c5017-a0eb-4a40-b5a4-981c3169ff74 button.colab-df-convert');\n",
              "        buttonEl.style.display =\n",
              "          google.colab.kernel.accessAllowed ? 'block' : 'none';\n",
              "\n",
              "        async function convertToInteractive(key) {\n",
              "          const element = document.querySelector('#df-1e4c5017-a0eb-4a40-b5a4-981c3169ff74');\n",
              "          const dataTable =\n",
              "            await google.colab.kernel.invokeFunction('convertToInteractive',\n",
              "                                                     [key], {});\n",
              "          if (!dataTable) return;\n",
              "\n",
              "          const docLinkHtml = 'Like what you see? Visit the ' +\n",
              "            '<a target=\"_blank\" href=https://colab.research.google.com/notebooks/data_table.ipynb>data table notebook</a>'\n",
              "            + ' to learn more about interactive tables.';\n",
              "          element.innerHTML = '';\n",
              "          dataTable['output_type'] = 'display_data';\n",
              "          await google.colab.output.renderOutput(dataTable, element);\n",
              "          const docLink = document.createElement('div');\n",
              "          docLink.innerHTML = docLinkHtml;\n",
              "          element.appendChild(docLink);\n",
              "        }\n",
              "      </script>\n",
              "    </div>\n",
              "  </div>\n",
              "  "
            ]
          },
          "metadata": {},
          "execution_count": 433
        }
      ]
    },
    {
      "cell_type": "code",
      "source": [
        "#Смотри на то, какие названия у столбцов, смотрим на значения признаков в столбцах, не вошедших в вывод через команду head"
      ],
      "metadata": {
        "id": "FLhMioNWcsQ3"
      },
      "execution_count": null,
      "outputs": []
    },
    {
      "cell_type": "code",
      "source": [
        "smoking_dataframe.columns"
      ],
      "metadata": {
        "colab": {
          "base_uri": "https://localhost:8080/"
        },
        "id": "yuOz9o4wXaPo",
        "outputId": "ba6cf0ec-62d7-4707-ab4f-a09279fe5271"
      },
      "execution_count": null,
      "outputs": [
        {
          "output_type": "execute_result",
          "data": {
            "text/plain": [
              "Index(['ID', 'gender', 'age', 'height(cm)', 'weight(kg)', 'waist(cm)',\n",
              "       'eyesight(left, right)', 'hearing(left, right)', 'systolic',\n",
              "       'relaxation', 'fasting blood sugar', 'Cholesterol', 'triglyceride',\n",
              "       'HDL', 'LDL', 'hemoglobin', 'Urine protein', 'serum creatinine', 'AST',\n",
              "       'ALT', 'Gtp', 'dental caries', 'tartar', 'smoking'],\n",
              "      dtype='object')"
            ]
          },
          "metadata": {},
          "execution_count": 435
        }
      ]
    },
    {
      "cell_type": "code",
      "source": [
        "smoking_dataframe['fasting blood sugar']"
      ],
      "metadata": {
        "colab": {
          "base_uri": "https://localhost:8080/"
        },
        "id": "ASCfPh1ScBQQ",
        "outputId": "ccbe6bb5-fa21-4f78-caa3-364694b2a920"
      },
      "execution_count": null,
      "outputs": [
        {
          "output_type": "execute_result",
          "data": {
            "text/plain": [
              "0         94.0\n",
              "1        130.0\n",
              "2         89.0\n",
              "3         96.0\n",
              "4         80.0\n",
              "         ...  \n",
              "55687     89.0\n",
              "55688      NaN\n",
              "55689     88.0\n",
              "55690    107.0\n",
              "55691     82.0\n",
              "Name: fasting blood sugar, Length: 55692, dtype: float64"
            ]
          },
          "metadata": {},
          "execution_count": 436
        }
      ]
    },
    {
      "cell_type": "code",
      "source": [
        "smoking_dataframe['Cholesterol']"
      ],
      "metadata": {
        "colab": {
          "base_uri": "https://localhost:8080/"
        },
        "id": "LAPjs0prceSx",
        "outputId": "414c8fd9-d9e2-47e3-d772-01f413da7223"
      },
      "execution_count": null,
      "outputs": [
        {
          "output_type": "execute_result",
          "data": {
            "text/plain": [
              "0        215.0\n",
              "1        192.0\n",
              "2        242.0\n",
              "3        322.0\n",
              "4        184.0\n",
              "         ...  \n",
              "55687    213.0\n",
              "55688    166.0\n",
              "55689    158.0\n",
              "55690    210.0\n",
              "55691    213.0\n",
              "Name: Cholesterol, Length: 55692, dtype: float64"
            ]
          },
          "metadata": {},
          "execution_count": 437
        }
      ]
    },
    {
      "cell_type": "code",
      "source": [
        "smoking_dataframe['triglyceride']"
      ],
      "metadata": {
        "colab": {
          "base_uri": "https://localhost:8080/"
        },
        "id": "QWd5gTJ_chDQ",
        "outputId": "610e3726-a393-4bfa-e0c3-af843e8f8b1c"
      },
      "execution_count": null,
      "outputs": [
        {
          "output_type": "execute_result",
          "data": {
            "text/plain": [
              "0          NaN\n",
              "1          NaN\n",
              "2        182.0\n",
              "3        254.0\n",
              "4         74.0\n",
              "         ...  \n",
              "55687     99.0\n",
              "55688     69.0\n",
              "55689     77.0\n",
              "55690     79.0\n",
              "55691      NaN\n",
              "Name: triglyceride, Length: 55692, dtype: float64"
            ]
          },
          "metadata": {},
          "execution_count": 438
        }
      ]
    },
    {
      "cell_type": "code",
      "source": [
        "smoking_dataframe['HDL'] "
      ],
      "metadata": {
        "colab": {
          "base_uri": "https://localhost:8080/"
        },
        "id": "eaNFurMUclPw",
        "outputId": "ed5f44c6-da3d-4de1-e998-240fa5f3409e"
      },
      "execution_count": null,
      "outputs": [
        {
          "output_type": "execute_result",
          "data": {
            "text/plain": [
              "0        73.0\n",
              "1        42.0\n",
              "2        55.0\n",
              "3        45.0\n",
              "4        62.0\n",
              "         ... \n",
              "55687    75.0\n",
              "55688    73.0\n",
              "55689    79.0\n",
              "55690    48.0\n",
              "55691     NaN\n",
              "Name: HDL, Length: 55692, dtype: float64"
            ]
          },
          "metadata": {},
          "execution_count": 439
        }
      ]
    },
    {
      "cell_type": "markdown",
      "source": [
        "##Анализ данных, перекодирование признаков"
      ],
      "metadata": {
        "id": "VA2dz0quXNv5"
      }
    },
    {
      "cell_type": "code",
      "source": [
        "#Необходимо разделить столбцы eyesight(left, right)\thearing(left, right) на четыре "
      ],
      "metadata": {
        "id": "DELAFL22XXhg"
      },
      "execution_count": null,
      "outputs": []
    },
    {
      "cell_type": "code",
      "source": [
        "new_df_eyes = smoking_dataframe['eyesight(left, right)'].str.split(',',expand=True)"
      ],
      "metadata": {
        "id": "uDn2h8gFY2xJ"
      },
      "execution_count": null,
      "outputs": []
    },
    {
      "cell_type": "code",
      "source": [
        "new_df_eyes.columns = ['eyesight_left', 'eyesight_right']"
      ],
      "metadata": {
        "id": "zyr9V-hoZpcg"
      },
      "execution_count": null,
      "outputs": []
    },
    {
      "cell_type": "code",
      "source": [
        "new_df_eyes"
      ],
      "metadata": {
        "colab": {
          "base_uri": "https://localhost:8080/",
          "height": 424
        },
        "id": "QiH2MMZIaHLI",
        "outputId": "9a70612e-6689-4644-cff7-8b402fc7e27c"
      },
      "execution_count": null,
      "outputs": [
        {
          "output_type": "execute_result",
          "data": {
            "text/plain": [
              "      eyesight_left eyesight_right\n",
              "0               1.2            1.0\n",
              "1               0.8            0.6\n",
              "2               0.8            0.8\n",
              "3               1.5            1.5\n",
              "4               1.0            1.0\n",
              "...             ...            ...\n",
              "55687           0.9            0.9\n",
              "55688           1.2            1.2\n",
              "55689           1.0            1.2\n",
              "55690           NaN            NaN\n",
              "55691           0.9            0.7\n",
              "\n",
              "[55692 rows x 2 columns]"
            ],
            "text/html": [
              "\n",
              "  <div id=\"df-1d0e9e82-8f88-4768-99a2-85c22d491b93\">\n",
              "    <div class=\"colab-df-container\">\n",
              "      <div>\n",
              "<style scoped>\n",
              "    .dataframe tbody tr th:only-of-type {\n",
              "        vertical-align: middle;\n",
              "    }\n",
              "\n",
              "    .dataframe tbody tr th {\n",
              "        vertical-align: top;\n",
              "    }\n",
              "\n",
              "    .dataframe thead th {\n",
              "        text-align: right;\n",
              "    }\n",
              "</style>\n",
              "<table border=\"1\" class=\"dataframe\">\n",
              "  <thead>\n",
              "    <tr style=\"text-align: right;\">\n",
              "      <th></th>\n",
              "      <th>eyesight_left</th>\n",
              "      <th>eyesight_right</th>\n",
              "    </tr>\n",
              "  </thead>\n",
              "  <tbody>\n",
              "    <tr>\n",
              "      <th>0</th>\n",
              "      <td>1.2</td>\n",
              "      <td>1.0</td>\n",
              "    </tr>\n",
              "    <tr>\n",
              "      <th>1</th>\n",
              "      <td>0.8</td>\n",
              "      <td>0.6</td>\n",
              "    </tr>\n",
              "    <tr>\n",
              "      <th>2</th>\n",
              "      <td>0.8</td>\n",
              "      <td>0.8</td>\n",
              "    </tr>\n",
              "    <tr>\n",
              "      <th>3</th>\n",
              "      <td>1.5</td>\n",
              "      <td>1.5</td>\n",
              "    </tr>\n",
              "    <tr>\n",
              "      <th>4</th>\n",
              "      <td>1.0</td>\n",
              "      <td>1.0</td>\n",
              "    </tr>\n",
              "    <tr>\n",
              "      <th>...</th>\n",
              "      <td>...</td>\n",
              "      <td>...</td>\n",
              "    </tr>\n",
              "    <tr>\n",
              "      <th>55687</th>\n",
              "      <td>0.9</td>\n",
              "      <td>0.9</td>\n",
              "    </tr>\n",
              "    <tr>\n",
              "      <th>55688</th>\n",
              "      <td>1.2</td>\n",
              "      <td>1.2</td>\n",
              "    </tr>\n",
              "    <tr>\n",
              "      <th>55689</th>\n",
              "      <td>1.0</td>\n",
              "      <td>1.2</td>\n",
              "    </tr>\n",
              "    <tr>\n",
              "      <th>55690</th>\n",
              "      <td>NaN</td>\n",
              "      <td>NaN</td>\n",
              "    </tr>\n",
              "    <tr>\n",
              "      <th>55691</th>\n",
              "      <td>0.9</td>\n",
              "      <td>0.7</td>\n",
              "    </tr>\n",
              "  </tbody>\n",
              "</table>\n",
              "<p>55692 rows × 2 columns</p>\n",
              "</div>\n",
              "      <button class=\"colab-df-convert\" onclick=\"convertToInteractive('df-1d0e9e82-8f88-4768-99a2-85c22d491b93')\"\n",
              "              title=\"Convert this dataframe to an interactive table.\"\n",
              "              style=\"display:none;\">\n",
              "        \n",
              "  <svg xmlns=\"http://www.w3.org/2000/svg\" height=\"24px\"viewBox=\"0 0 24 24\"\n",
              "       width=\"24px\">\n",
              "    <path d=\"M0 0h24v24H0V0z\" fill=\"none\"/>\n",
              "    <path d=\"M18.56 5.44l.94 2.06.94-2.06 2.06-.94-2.06-.94-.94-2.06-.94 2.06-2.06.94zm-11 1L8.5 8.5l.94-2.06 2.06-.94-2.06-.94L8.5 2.5l-.94 2.06-2.06.94zm10 10l.94 2.06.94-2.06 2.06-.94-2.06-.94-.94-2.06-.94 2.06-2.06.94z\"/><path d=\"M17.41 7.96l-1.37-1.37c-.4-.4-.92-.59-1.43-.59-.52 0-1.04.2-1.43.59L10.3 9.45l-7.72 7.72c-.78.78-.78 2.05 0 2.83L4 21.41c.39.39.9.59 1.41.59.51 0 1.02-.2 1.41-.59l7.78-7.78 2.81-2.81c.8-.78.8-2.07 0-2.86zM5.41 20L4 18.59l7.72-7.72 1.47 1.35L5.41 20z\"/>\n",
              "  </svg>\n",
              "      </button>\n",
              "      \n",
              "  <style>\n",
              "    .colab-df-container {\n",
              "      display:flex;\n",
              "      flex-wrap:wrap;\n",
              "      gap: 12px;\n",
              "    }\n",
              "\n",
              "    .colab-df-convert {\n",
              "      background-color: #E8F0FE;\n",
              "      border: none;\n",
              "      border-radius: 50%;\n",
              "      cursor: pointer;\n",
              "      display: none;\n",
              "      fill: #1967D2;\n",
              "      height: 32px;\n",
              "      padding: 0 0 0 0;\n",
              "      width: 32px;\n",
              "    }\n",
              "\n",
              "    .colab-df-convert:hover {\n",
              "      background-color: #E2EBFA;\n",
              "      box-shadow: 0px 1px 2px rgba(60, 64, 67, 0.3), 0px 1px 3px 1px rgba(60, 64, 67, 0.15);\n",
              "      fill: #174EA6;\n",
              "    }\n",
              "\n",
              "    [theme=dark] .colab-df-convert {\n",
              "      background-color: #3B4455;\n",
              "      fill: #D2E3FC;\n",
              "    }\n",
              "\n",
              "    [theme=dark] .colab-df-convert:hover {\n",
              "      background-color: #434B5C;\n",
              "      box-shadow: 0px 1px 3px 1px rgba(0, 0, 0, 0.15);\n",
              "      filter: drop-shadow(0px 1px 2px rgba(0, 0, 0, 0.3));\n",
              "      fill: #FFFFFF;\n",
              "    }\n",
              "  </style>\n",
              "\n",
              "      <script>\n",
              "        const buttonEl =\n",
              "          document.querySelector('#df-1d0e9e82-8f88-4768-99a2-85c22d491b93 button.colab-df-convert');\n",
              "        buttonEl.style.display =\n",
              "          google.colab.kernel.accessAllowed ? 'block' : 'none';\n",
              "\n",
              "        async function convertToInteractive(key) {\n",
              "          const element = document.querySelector('#df-1d0e9e82-8f88-4768-99a2-85c22d491b93');\n",
              "          const dataTable =\n",
              "            await google.colab.kernel.invokeFunction('convertToInteractive',\n",
              "                                                     [key], {});\n",
              "          if (!dataTable) return;\n",
              "\n",
              "          const docLinkHtml = 'Like what you see? Visit the ' +\n",
              "            '<a target=\"_blank\" href=https://colab.research.google.com/notebooks/data_table.ipynb>data table notebook</a>'\n",
              "            + ' to learn more about interactive tables.';\n",
              "          element.innerHTML = '';\n",
              "          dataTable['output_type'] = 'display_data';\n",
              "          await google.colab.output.renderOutput(dataTable, element);\n",
              "          const docLink = document.createElement('div');\n",
              "          docLink.innerHTML = docLinkHtml;\n",
              "          element.appendChild(docLink);\n",
              "        }\n",
              "      </script>\n",
              "    </div>\n",
              "  </div>\n",
              "  "
            ]
          },
          "metadata": {},
          "execution_count": 443
        }
      ]
    },
    {
      "cell_type": "code",
      "source": [
        "new_df_hear = smoking_dataframe['hearing(left, right)'].str.split(',',expand=True)"
      ],
      "metadata": {
        "id": "0tY0ULDoaPg5"
      },
      "execution_count": null,
      "outputs": []
    },
    {
      "cell_type": "code",
      "source": [
        "new_df_hear.columns = ['hear_left', 'hear_right']"
      ],
      "metadata": {
        "id": "dkhX0L5NaK2Z"
      },
      "execution_count": null,
      "outputs": []
    },
    {
      "cell_type": "code",
      "source": [
        "new_df_hear"
      ],
      "metadata": {
        "colab": {
          "base_uri": "https://localhost:8080/",
          "height": 424
        },
        "id": "8Gtp5Ue6ahsZ",
        "outputId": "b236967c-d4a6-401d-a854-68e80ffb56c6"
      },
      "execution_count": null,
      "outputs": [
        {
          "output_type": "execute_result",
          "data": {
            "text/plain": [
              "      hear_left hear_right\n",
              "0           1.0        1.0\n",
              "1           1.0        1.0\n",
              "2           1.0        1.0\n",
              "3           1.0        1.0\n",
              "4           1.0        1.0\n",
              "...         ...        ...\n",
              "55687       1.0        1.0\n",
              "55688       1.0        1.0\n",
              "55689       1.0        1.0\n",
              "55690       1.0        1.0\n",
              "55691       1.0        1.0\n",
              "\n",
              "[55692 rows x 2 columns]"
            ],
            "text/html": [
              "\n",
              "  <div id=\"df-b0ebc261-81ee-49e4-a296-5b4264ee78c4\">\n",
              "    <div class=\"colab-df-container\">\n",
              "      <div>\n",
              "<style scoped>\n",
              "    .dataframe tbody tr th:only-of-type {\n",
              "        vertical-align: middle;\n",
              "    }\n",
              "\n",
              "    .dataframe tbody tr th {\n",
              "        vertical-align: top;\n",
              "    }\n",
              "\n",
              "    .dataframe thead th {\n",
              "        text-align: right;\n",
              "    }\n",
              "</style>\n",
              "<table border=\"1\" class=\"dataframe\">\n",
              "  <thead>\n",
              "    <tr style=\"text-align: right;\">\n",
              "      <th></th>\n",
              "      <th>hear_left</th>\n",
              "      <th>hear_right</th>\n",
              "    </tr>\n",
              "  </thead>\n",
              "  <tbody>\n",
              "    <tr>\n",
              "      <th>0</th>\n",
              "      <td>1.0</td>\n",
              "      <td>1.0</td>\n",
              "    </tr>\n",
              "    <tr>\n",
              "      <th>1</th>\n",
              "      <td>1.0</td>\n",
              "      <td>1.0</td>\n",
              "    </tr>\n",
              "    <tr>\n",
              "      <th>2</th>\n",
              "      <td>1.0</td>\n",
              "      <td>1.0</td>\n",
              "    </tr>\n",
              "    <tr>\n",
              "      <th>3</th>\n",
              "      <td>1.0</td>\n",
              "      <td>1.0</td>\n",
              "    </tr>\n",
              "    <tr>\n",
              "      <th>4</th>\n",
              "      <td>1.0</td>\n",
              "      <td>1.0</td>\n",
              "    </tr>\n",
              "    <tr>\n",
              "      <th>...</th>\n",
              "      <td>...</td>\n",
              "      <td>...</td>\n",
              "    </tr>\n",
              "    <tr>\n",
              "      <th>55687</th>\n",
              "      <td>1.0</td>\n",
              "      <td>1.0</td>\n",
              "    </tr>\n",
              "    <tr>\n",
              "      <th>55688</th>\n",
              "      <td>1.0</td>\n",
              "      <td>1.0</td>\n",
              "    </tr>\n",
              "    <tr>\n",
              "      <th>55689</th>\n",
              "      <td>1.0</td>\n",
              "      <td>1.0</td>\n",
              "    </tr>\n",
              "    <tr>\n",
              "      <th>55690</th>\n",
              "      <td>1.0</td>\n",
              "      <td>1.0</td>\n",
              "    </tr>\n",
              "    <tr>\n",
              "      <th>55691</th>\n",
              "      <td>1.0</td>\n",
              "      <td>1.0</td>\n",
              "    </tr>\n",
              "  </tbody>\n",
              "</table>\n",
              "<p>55692 rows × 2 columns</p>\n",
              "</div>\n",
              "      <button class=\"colab-df-convert\" onclick=\"convertToInteractive('df-b0ebc261-81ee-49e4-a296-5b4264ee78c4')\"\n",
              "              title=\"Convert this dataframe to an interactive table.\"\n",
              "              style=\"display:none;\">\n",
              "        \n",
              "  <svg xmlns=\"http://www.w3.org/2000/svg\" height=\"24px\"viewBox=\"0 0 24 24\"\n",
              "       width=\"24px\">\n",
              "    <path d=\"M0 0h24v24H0V0z\" fill=\"none\"/>\n",
              "    <path d=\"M18.56 5.44l.94 2.06.94-2.06 2.06-.94-2.06-.94-.94-2.06-.94 2.06-2.06.94zm-11 1L8.5 8.5l.94-2.06 2.06-.94-2.06-.94L8.5 2.5l-.94 2.06-2.06.94zm10 10l.94 2.06.94-2.06 2.06-.94-2.06-.94-.94-2.06-.94 2.06-2.06.94z\"/><path d=\"M17.41 7.96l-1.37-1.37c-.4-.4-.92-.59-1.43-.59-.52 0-1.04.2-1.43.59L10.3 9.45l-7.72 7.72c-.78.78-.78 2.05 0 2.83L4 21.41c.39.39.9.59 1.41.59.51 0 1.02-.2 1.41-.59l7.78-7.78 2.81-2.81c.8-.78.8-2.07 0-2.86zM5.41 20L4 18.59l7.72-7.72 1.47 1.35L5.41 20z\"/>\n",
              "  </svg>\n",
              "      </button>\n",
              "      \n",
              "  <style>\n",
              "    .colab-df-container {\n",
              "      display:flex;\n",
              "      flex-wrap:wrap;\n",
              "      gap: 12px;\n",
              "    }\n",
              "\n",
              "    .colab-df-convert {\n",
              "      background-color: #E8F0FE;\n",
              "      border: none;\n",
              "      border-radius: 50%;\n",
              "      cursor: pointer;\n",
              "      display: none;\n",
              "      fill: #1967D2;\n",
              "      height: 32px;\n",
              "      padding: 0 0 0 0;\n",
              "      width: 32px;\n",
              "    }\n",
              "\n",
              "    .colab-df-convert:hover {\n",
              "      background-color: #E2EBFA;\n",
              "      box-shadow: 0px 1px 2px rgba(60, 64, 67, 0.3), 0px 1px 3px 1px rgba(60, 64, 67, 0.15);\n",
              "      fill: #174EA6;\n",
              "    }\n",
              "\n",
              "    [theme=dark] .colab-df-convert {\n",
              "      background-color: #3B4455;\n",
              "      fill: #D2E3FC;\n",
              "    }\n",
              "\n",
              "    [theme=dark] .colab-df-convert:hover {\n",
              "      background-color: #434B5C;\n",
              "      box-shadow: 0px 1px 3px 1px rgba(0, 0, 0, 0.15);\n",
              "      filter: drop-shadow(0px 1px 2px rgba(0, 0, 0, 0.3));\n",
              "      fill: #FFFFFF;\n",
              "    }\n",
              "  </style>\n",
              "\n",
              "      <script>\n",
              "        const buttonEl =\n",
              "          document.querySelector('#df-b0ebc261-81ee-49e4-a296-5b4264ee78c4 button.colab-df-convert');\n",
              "        buttonEl.style.display =\n",
              "          google.colab.kernel.accessAllowed ? 'block' : 'none';\n",
              "\n",
              "        async function convertToInteractive(key) {\n",
              "          const element = document.querySelector('#df-b0ebc261-81ee-49e4-a296-5b4264ee78c4');\n",
              "          const dataTable =\n",
              "            await google.colab.kernel.invokeFunction('convertToInteractive',\n",
              "                                                     [key], {});\n",
              "          if (!dataTable) return;\n",
              "\n",
              "          const docLinkHtml = 'Like what you see? Visit the ' +\n",
              "            '<a target=\"_blank\" href=https://colab.research.google.com/notebooks/data_table.ipynb>data table notebook</a>'\n",
              "            + ' to learn more about interactive tables.';\n",
              "          element.innerHTML = '';\n",
              "          dataTable['output_type'] = 'display_data';\n",
              "          await google.colab.output.renderOutput(dataTable, element);\n",
              "          const docLink = document.createElement('div');\n",
              "          docLink.innerHTML = docLinkHtml;\n",
              "          element.appendChild(docLink);\n",
              "        }\n",
              "      </script>\n",
              "    </div>\n",
              "  </div>\n",
              "  "
            ]
          },
          "metadata": {},
          "execution_count": 446
        }
      ]
    },
    {
      "cell_type": "code",
      "source": [
        "smoking_dataframe = smoking_dataframe.join(new_df_eyes) #добавляем перекодированные столбцы"
      ],
      "metadata": {
        "id": "s5ROCH88ajiH"
      },
      "execution_count": null,
      "outputs": []
    },
    {
      "cell_type": "code",
      "source": [
        "smoking_dataframe = smoking_dataframe.join(new_df_hear)"
      ],
      "metadata": {
        "id": "i-bPXtMOa2LS"
      },
      "execution_count": null,
      "outputs": []
    },
    {
      "cell_type": "code",
      "source": [
        "smoking_dataframe.head(5) #вывод первых 5 объектов датасета"
      ],
      "metadata": {
        "colab": {
          "base_uri": "https://localhost:8080/",
          "height": 317
        },
        "id": "kyj2X0FYbaIR",
        "outputId": "b493576a-1b11-4909-b2a1-e6b249747493"
      },
      "execution_count": null,
      "outputs": [
        {
          "output_type": "execute_result",
          "data": {
            "text/plain": [
              "   ID gender   age  height(cm)  weight(kg)  waist(cm) eyesight(left, right)  \\\n",
              "0   0      F  40.0       155.0        60.0       81.3              1.2, 1.0   \n",
              "1   1      F  40.0       160.0        60.0       81.0              0.8, 0.6   \n",
              "2   2      M  55.0       170.0        60.0       80.0              0.8, 0.8   \n",
              "3   3      M  40.0       165.0        70.0       88.0              1.5, 1.5   \n",
              "4   4      F  40.0       155.0        60.0       86.0              1.0, 1.0   \n",
              "\n",
              "  hearing(left, right)  systolic  relaxation  ...   AST   ALT   Gtp  \\\n",
              "0             1.0, 1.0     114.0        73.0  ...  18.0  19.0  27.0   \n",
              "1             1.0, 1.0     119.0        70.0  ...  22.0  19.0  18.0   \n",
              "2             1.0, 1.0     138.0        86.0  ...  21.0  16.0  22.0   \n",
              "3             1.0, 1.0     100.0        60.0  ...  19.0  26.0  18.0   \n",
              "4             1.0, 1.0     120.0        74.0  ...  16.0  14.0  22.0   \n",
              "\n",
              "   dental caries  tartar  smoking  eyesight_left  eyesight_right  hear_left  \\\n",
              "0              N       Y        N            1.2             1.0        1.0   \n",
              "1              N       Y        N            0.8             0.6        1.0   \n",
              "2              N       N        Y            0.8             0.8        1.0   \n",
              "3              N       Y        N            1.5             1.5        1.0   \n",
              "4              N       N        N            1.0             1.0        1.0   \n",
              "\n",
              "   hear_right  \n",
              "0         1.0  \n",
              "1         1.0  \n",
              "2         1.0  \n",
              "3         1.0  \n",
              "4         1.0  \n",
              "\n",
              "[5 rows x 28 columns]"
            ],
            "text/html": [
              "\n",
              "  <div id=\"df-25f5b34d-2ae0-4017-8db0-47b295b3142d\">\n",
              "    <div class=\"colab-df-container\">\n",
              "      <div>\n",
              "<style scoped>\n",
              "    .dataframe tbody tr th:only-of-type {\n",
              "        vertical-align: middle;\n",
              "    }\n",
              "\n",
              "    .dataframe tbody tr th {\n",
              "        vertical-align: top;\n",
              "    }\n",
              "\n",
              "    .dataframe thead th {\n",
              "        text-align: right;\n",
              "    }\n",
              "</style>\n",
              "<table border=\"1\" class=\"dataframe\">\n",
              "  <thead>\n",
              "    <tr style=\"text-align: right;\">\n",
              "      <th></th>\n",
              "      <th>ID</th>\n",
              "      <th>gender</th>\n",
              "      <th>age</th>\n",
              "      <th>height(cm)</th>\n",
              "      <th>weight(kg)</th>\n",
              "      <th>waist(cm)</th>\n",
              "      <th>eyesight(left, right)</th>\n",
              "      <th>hearing(left, right)</th>\n",
              "      <th>systolic</th>\n",
              "      <th>relaxation</th>\n",
              "      <th>...</th>\n",
              "      <th>AST</th>\n",
              "      <th>ALT</th>\n",
              "      <th>Gtp</th>\n",
              "      <th>dental caries</th>\n",
              "      <th>tartar</th>\n",
              "      <th>smoking</th>\n",
              "      <th>eyesight_left</th>\n",
              "      <th>eyesight_right</th>\n",
              "      <th>hear_left</th>\n",
              "      <th>hear_right</th>\n",
              "    </tr>\n",
              "  </thead>\n",
              "  <tbody>\n",
              "    <tr>\n",
              "      <th>0</th>\n",
              "      <td>0</td>\n",
              "      <td>F</td>\n",
              "      <td>40.0</td>\n",
              "      <td>155.0</td>\n",
              "      <td>60.0</td>\n",
              "      <td>81.3</td>\n",
              "      <td>1.2, 1.0</td>\n",
              "      <td>1.0, 1.0</td>\n",
              "      <td>114.0</td>\n",
              "      <td>73.0</td>\n",
              "      <td>...</td>\n",
              "      <td>18.0</td>\n",
              "      <td>19.0</td>\n",
              "      <td>27.0</td>\n",
              "      <td>N</td>\n",
              "      <td>Y</td>\n",
              "      <td>N</td>\n",
              "      <td>1.2</td>\n",
              "      <td>1.0</td>\n",
              "      <td>1.0</td>\n",
              "      <td>1.0</td>\n",
              "    </tr>\n",
              "    <tr>\n",
              "      <th>1</th>\n",
              "      <td>1</td>\n",
              "      <td>F</td>\n",
              "      <td>40.0</td>\n",
              "      <td>160.0</td>\n",
              "      <td>60.0</td>\n",
              "      <td>81.0</td>\n",
              "      <td>0.8, 0.6</td>\n",
              "      <td>1.0, 1.0</td>\n",
              "      <td>119.0</td>\n",
              "      <td>70.0</td>\n",
              "      <td>...</td>\n",
              "      <td>22.0</td>\n",
              "      <td>19.0</td>\n",
              "      <td>18.0</td>\n",
              "      <td>N</td>\n",
              "      <td>Y</td>\n",
              "      <td>N</td>\n",
              "      <td>0.8</td>\n",
              "      <td>0.6</td>\n",
              "      <td>1.0</td>\n",
              "      <td>1.0</td>\n",
              "    </tr>\n",
              "    <tr>\n",
              "      <th>2</th>\n",
              "      <td>2</td>\n",
              "      <td>M</td>\n",
              "      <td>55.0</td>\n",
              "      <td>170.0</td>\n",
              "      <td>60.0</td>\n",
              "      <td>80.0</td>\n",
              "      <td>0.8, 0.8</td>\n",
              "      <td>1.0, 1.0</td>\n",
              "      <td>138.0</td>\n",
              "      <td>86.0</td>\n",
              "      <td>...</td>\n",
              "      <td>21.0</td>\n",
              "      <td>16.0</td>\n",
              "      <td>22.0</td>\n",
              "      <td>N</td>\n",
              "      <td>N</td>\n",
              "      <td>Y</td>\n",
              "      <td>0.8</td>\n",
              "      <td>0.8</td>\n",
              "      <td>1.0</td>\n",
              "      <td>1.0</td>\n",
              "    </tr>\n",
              "    <tr>\n",
              "      <th>3</th>\n",
              "      <td>3</td>\n",
              "      <td>M</td>\n",
              "      <td>40.0</td>\n",
              "      <td>165.0</td>\n",
              "      <td>70.0</td>\n",
              "      <td>88.0</td>\n",
              "      <td>1.5, 1.5</td>\n",
              "      <td>1.0, 1.0</td>\n",
              "      <td>100.0</td>\n",
              "      <td>60.0</td>\n",
              "      <td>...</td>\n",
              "      <td>19.0</td>\n",
              "      <td>26.0</td>\n",
              "      <td>18.0</td>\n",
              "      <td>N</td>\n",
              "      <td>Y</td>\n",
              "      <td>N</td>\n",
              "      <td>1.5</td>\n",
              "      <td>1.5</td>\n",
              "      <td>1.0</td>\n",
              "      <td>1.0</td>\n",
              "    </tr>\n",
              "    <tr>\n",
              "      <th>4</th>\n",
              "      <td>4</td>\n",
              "      <td>F</td>\n",
              "      <td>40.0</td>\n",
              "      <td>155.0</td>\n",
              "      <td>60.0</td>\n",
              "      <td>86.0</td>\n",
              "      <td>1.0, 1.0</td>\n",
              "      <td>1.0, 1.0</td>\n",
              "      <td>120.0</td>\n",
              "      <td>74.0</td>\n",
              "      <td>...</td>\n",
              "      <td>16.0</td>\n",
              "      <td>14.0</td>\n",
              "      <td>22.0</td>\n",
              "      <td>N</td>\n",
              "      <td>N</td>\n",
              "      <td>N</td>\n",
              "      <td>1.0</td>\n",
              "      <td>1.0</td>\n",
              "      <td>1.0</td>\n",
              "      <td>1.0</td>\n",
              "    </tr>\n",
              "  </tbody>\n",
              "</table>\n",
              "<p>5 rows × 28 columns</p>\n",
              "</div>\n",
              "      <button class=\"colab-df-convert\" onclick=\"convertToInteractive('df-25f5b34d-2ae0-4017-8db0-47b295b3142d')\"\n",
              "              title=\"Convert this dataframe to an interactive table.\"\n",
              "              style=\"display:none;\">\n",
              "        \n",
              "  <svg xmlns=\"http://www.w3.org/2000/svg\" height=\"24px\"viewBox=\"0 0 24 24\"\n",
              "       width=\"24px\">\n",
              "    <path d=\"M0 0h24v24H0V0z\" fill=\"none\"/>\n",
              "    <path d=\"M18.56 5.44l.94 2.06.94-2.06 2.06-.94-2.06-.94-.94-2.06-.94 2.06-2.06.94zm-11 1L8.5 8.5l.94-2.06 2.06-.94-2.06-.94L8.5 2.5l-.94 2.06-2.06.94zm10 10l.94 2.06.94-2.06 2.06-.94-2.06-.94-.94-2.06-.94 2.06-2.06.94z\"/><path d=\"M17.41 7.96l-1.37-1.37c-.4-.4-.92-.59-1.43-.59-.52 0-1.04.2-1.43.59L10.3 9.45l-7.72 7.72c-.78.78-.78 2.05 0 2.83L4 21.41c.39.39.9.59 1.41.59.51 0 1.02-.2 1.41-.59l7.78-7.78 2.81-2.81c.8-.78.8-2.07 0-2.86zM5.41 20L4 18.59l7.72-7.72 1.47 1.35L5.41 20z\"/>\n",
              "  </svg>\n",
              "      </button>\n",
              "      \n",
              "  <style>\n",
              "    .colab-df-container {\n",
              "      display:flex;\n",
              "      flex-wrap:wrap;\n",
              "      gap: 12px;\n",
              "    }\n",
              "\n",
              "    .colab-df-convert {\n",
              "      background-color: #E8F0FE;\n",
              "      border: none;\n",
              "      border-radius: 50%;\n",
              "      cursor: pointer;\n",
              "      display: none;\n",
              "      fill: #1967D2;\n",
              "      height: 32px;\n",
              "      padding: 0 0 0 0;\n",
              "      width: 32px;\n",
              "    }\n",
              "\n",
              "    .colab-df-convert:hover {\n",
              "      background-color: #E2EBFA;\n",
              "      box-shadow: 0px 1px 2px rgba(60, 64, 67, 0.3), 0px 1px 3px 1px rgba(60, 64, 67, 0.15);\n",
              "      fill: #174EA6;\n",
              "    }\n",
              "\n",
              "    [theme=dark] .colab-df-convert {\n",
              "      background-color: #3B4455;\n",
              "      fill: #D2E3FC;\n",
              "    }\n",
              "\n",
              "    [theme=dark] .colab-df-convert:hover {\n",
              "      background-color: #434B5C;\n",
              "      box-shadow: 0px 1px 3px 1px rgba(0, 0, 0, 0.15);\n",
              "      filter: drop-shadow(0px 1px 2px rgba(0, 0, 0, 0.3));\n",
              "      fill: #FFFFFF;\n",
              "    }\n",
              "  </style>\n",
              "\n",
              "      <script>\n",
              "        const buttonEl =\n",
              "          document.querySelector('#df-25f5b34d-2ae0-4017-8db0-47b295b3142d button.colab-df-convert');\n",
              "        buttonEl.style.display =\n",
              "          google.colab.kernel.accessAllowed ? 'block' : 'none';\n",
              "\n",
              "        async function convertToInteractive(key) {\n",
              "          const element = document.querySelector('#df-25f5b34d-2ae0-4017-8db0-47b295b3142d');\n",
              "          const dataTable =\n",
              "            await google.colab.kernel.invokeFunction('convertToInteractive',\n",
              "                                                     [key], {});\n",
              "          if (!dataTable) return;\n",
              "\n",
              "          const docLinkHtml = 'Like what you see? Visit the ' +\n",
              "            '<a target=\"_blank\" href=https://colab.research.google.com/notebooks/data_table.ipynb>data table notebook</a>'\n",
              "            + ' to learn more about interactive tables.';\n",
              "          element.innerHTML = '';\n",
              "          dataTable['output_type'] = 'display_data';\n",
              "          await google.colab.output.renderOutput(dataTable, element);\n",
              "          const docLink = document.createElement('div');\n",
              "          docLink.innerHTML = docLinkHtml;\n",
              "          element.appendChild(docLink);\n",
              "        }\n",
              "      </script>\n",
              "    </div>\n",
              "  </div>\n",
              "  "
            ]
          },
          "metadata": {},
          "execution_count": 449
        }
      ]
    },
    {
      "cell_type": "code",
      "source": [
        "smoking_dataframe = smoking_dataframe.drop(columns = ['eyesight(left, right)', 'hearing(left, right)']) #выбрасываем из датафрейма старые объединённые признаки"
      ],
      "metadata": {
        "id": "Po9XJpRCbU5p"
      },
      "execution_count": null,
      "outputs": []
    },
    {
      "cell_type": "markdown",
      "source": [
        "##Перекодирование категориальных и бинарных признаков, заполнение пропусков"
      ],
      "metadata": {
        "id": "X6uUkb2zb1QX"
      }
    },
    {
      "cell_type": "code",
      "source": [
        "#Перекодируем бинарные признаки методом ordinal_encoding"
      ],
      "metadata": {
        "id": "-2_hDQS2bzHI"
      },
      "execution_count": null,
      "outputs": []
    },
    {
      "cell_type": "code",
      "source": [
        "for elem in smoking_dataframe.drop(columns = ['ID', 'age', 'height(cm)', 'weight(kg)', 'waist(cm)',\n",
        "       'systolic',\n",
        "       'relaxation', 'fasting blood sugar', 'Cholesterol', 'triglyceride',\n",
        "       'HDL', 'LDL', 'hemoglobin', 'Urine protein', 'serum creatinine', 'AST','eyesight_left', 'eyesight_right', 'hear_left', 'hear_right',\n",
        "       'ALT', 'Gtp'], axis = 1): \n",
        "  set_name = set(smoking_dataframe[elem]) #добавляем в множество уникальные значения марок автомобилей\n",
        "map_name = {}\n",
        "i = 0\n",
        "for elem in set_name:\n",
        "  map_name[elem] = i \n",
        "  i += 1\n",
        "print(map_name) #добавляем в словарь для ordinal encoding"
      ],
      "metadata": {
        "colab": {
          "base_uri": "https://localhost:8080/"
        },
        "id": "l68gkHxQdMdo",
        "outputId": "49671726-377b-4dfa-f370-1d8ee57c42b4"
      },
      "execution_count": null,
      "outputs": [
        {
          "output_type": "stream",
          "name": "stdout",
          "text": [
            "{'N': 0, 'Y': 1}\n"
          ]
        }
      ]
    },
    {
      "cell_type": "code",
      "source": [
        "map_gender = {'M': 0, 'F' : 1} # объявляем словарь на бинарный признак пола\n",
        "map_all = {'N': 0, 'Y' : 1} # объявляем словарь на все прочие бинарные признаки\n",
        "smoking_dataframe['gender'] =  smoking_dataframe['gender'].map(map_gender) # перекодируем бинарный признак \n",
        "smoking_dataframe['dental caries'] =  smoking_dataframe['dental caries'].map(map_all) # перекодируем бинарный признак\n",
        "smoking_dataframe['tartar'] =  smoking_dataframe['tartar'].map(map_all) # перекодируем бинарный признак\n",
        "smoking_dataframe['smoking'] =  smoking_dataframe['smoking'].map(map_all) # перекодируем бинарный признак"
      ],
      "metadata": {
        "id": "DJL-eoF8dA74"
      },
      "execution_count": null,
      "outputs": []
    },
    {
      "cell_type": "code",
      "source": [
        "smoking_dataframe.head(5) #смотрим, что всё перекодировалось успешно"
      ],
      "metadata": {
        "colab": {
          "base_uri": "https://localhost:8080/",
          "height": 334
        },
        "id": "jVRBw-gufb-x",
        "outputId": "1996e485-1bf3-4eb1-c22b-a67dee13a2f6"
      },
      "execution_count": null,
      "outputs": [
        {
          "output_type": "execute_result",
          "data": {
            "text/plain": [
              "   ID  gender   age  height(cm)  weight(kg)  waist(cm)  systolic  relaxation  \\\n",
              "0   0     1.0  40.0       155.0        60.0       81.3     114.0        73.0   \n",
              "1   1     1.0  40.0       160.0        60.0       81.0     119.0        70.0   \n",
              "2   2     0.0  55.0       170.0        60.0       80.0     138.0        86.0   \n",
              "3   3     0.0  40.0       165.0        70.0       88.0     100.0        60.0   \n",
              "4   4     1.0  40.0       155.0        60.0       86.0     120.0        74.0   \n",
              "\n",
              "   fasting blood sugar  Cholesterol  ...   AST   ALT   Gtp  dental caries  \\\n",
              "0                 94.0        215.0  ...  18.0  19.0  27.0            0.0   \n",
              "1                130.0        192.0  ...  22.0  19.0  18.0            0.0   \n",
              "2                 89.0        242.0  ...  21.0  16.0  22.0            0.0   \n",
              "3                 96.0        322.0  ...  19.0  26.0  18.0            0.0   \n",
              "4                 80.0        184.0  ...  16.0  14.0  22.0            0.0   \n",
              "\n",
              "   tartar  smoking  eyesight_left  eyesight_right  hear_left  hear_right  \n",
              "0     1.0        0            1.2             1.0        1.0         1.0  \n",
              "1     1.0        0            0.8             0.6        1.0         1.0  \n",
              "2     0.0        1            0.8             0.8        1.0         1.0  \n",
              "3     1.0        0            1.5             1.5        1.0         1.0  \n",
              "4     0.0        0            1.0             1.0        1.0         1.0  \n",
              "\n",
              "[5 rows x 26 columns]"
            ],
            "text/html": [
              "\n",
              "  <div id=\"df-52429ccf-10c3-4b6d-aa5d-703e682d80f9\">\n",
              "    <div class=\"colab-df-container\">\n",
              "      <div>\n",
              "<style scoped>\n",
              "    .dataframe tbody tr th:only-of-type {\n",
              "        vertical-align: middle;\n",
              "    }\n",
              "\n",
              "    .dataframe tbody tr th {\n",
              "        vertical-align: top;\n",
              "    }\n",
              "\n",
              "    .dataframe thead th {\n",
              "        text-align: right;\n",
              "    }\n",
              "</style>\n",
              "<table border=\"1\" class=\"dataframe\">\n",
              "  <thead>\n",
              "    <tr style=\"text-align: right;\">\n",
              "      <th></th>\n",
              "      <th>ID</th>\n",
              "      <th>gender</th>\n",
              "      <th>age</th>\n",
              "      <th>height(cm)</th>\n",
              "      <th>weight(kg)</th>\n",
              "      <th>waist(cm)</th>\n",
              "      <th>systolic</th>\n",
              "      <th>relaxation</th>\n",
              "      <th>fasting blood sugar</th>\n",
              "      <th>Cholesterol</th>\n",
              "      <th>...</th>\n",
              "      <th>AST</th>\n",
              "      <th>ALT</th>\n",
              "      <th>Gtp</th>\n",
              "      <th>dental caries</th>\n",
              "      <th>tartar</th>\n",
              "      <th>smoking</th>\n",
              "      <th>eyesight_left</th>\n",
              "      <th>eyesight_right</th>\n",
              "      <th>hear_left</th>\n",
              "      <th>hear_right</th>\n",
              "    </tr>\n",
              "  </thead>\n",
              "  <tbody>\n",
              "    <tr>\n",
              "      <th>0</th>\n",
              "      <td>0</td>\n",
              "      <td>1.0</td>\n",
              "      <td>40.0</td>\n",
              "      <td>155.0</td>\n",
              "      <td>60.0</td>\n",
              "      <td>81.3</td>\n",
              "      <td>114.0</td>\n",
              "      <td>73.0</td>\n",
              "      <td>94.0</td>\n",
              "      <td>215.0</td>\n",
              "      <td>...</td>\n",
              "      <td>18.0</td>\n",
              "      <td>19.0</td>\n",
              "      <td>27.0</td>\n",
              "      <td>0.0</td>\n",
              "      <td>1.0</td>\n",
              "      <td>0</td>\n",
              "      <td>1.2</td>\n",
              "      <td>1.0</td>\n",
              "      <td>1.0</td>\n",
              "      <td>1.0</td>\n",
              "    </tr>\n",
              "    <tr>\n",
              "      <th>1</th>\n",
              "      <td>1</td>\n",
              "      <td>1.0</td>\n",
              "      <td>40.0</td>\n",
              "      <td>160.0</td>\n",
              "      <td>60.0</td>\n",
              "      <td>81.0</td>\n",
              "      <td>119.0</td>\n",
              "      <td>70.0</td>\n",
              "      <td>130.0</td>\n",
              "      <td>192.0</td>\n",
              "      <td>...</td>\n",
              "      <td>22.0</td>\n",
              "      <td>19.0</td>\n",
              "      <td>18.0</td>\n",
              "      <td>0.0</td>\n",
              "      <td>1.0</td>\n",
              "      <td>0</td>\n",
              "      <td>0.8</td>\n",
              "      <td>0.6</td>\n",
              "      <td>1.0</td>\n",
              "      <td>1.0</td>\n",
              "    </tr>\n",
              "    <tr>\n",
              "      <th>2</th>\n",
              "      <td>2</td>\n",
              "      <td>0.0</td>\n",
              "      <td>55.0</td>\n",
              "      <td>170.0</td>\n",
              "      <td>60.0</td>\n",
              "      <td>80.0</td>\n",
              "      <td>138.0</td>\n",
              "      <td>86.0</td>\n",
              "      <td>89.0</td>\n",
              "      <td>242.0</td>\n",
              "      <td>...</td>\n",
              "      <td>21.0</td>\n",
              "      <td>16.0</td>\n",
              "      <td>22.0</td>\n",
              "      <td>0.0</td>\n",
              "      <td>0.0</td>\n",
              "      <td>1</td>\n",
              "      <td>0.8</td>\n",
              "      <td>0.8</td>\n",
              "      <td>1.0</td>\n",
              "      <td>1.0</td>\n",
              "    </tr>\n",
              "    <tr>\n",
              "      <th>3</th>\n",
              "      <td>3</td>\n",
              "      <td>0.0</td>\n",
              "      <td>40.0</td>\n",
              "      <td>165.0</td>\n",
              "      <td>70.0</td>\n",
              "      <td>88.0</td>\n",
              "      <td>100.0</td>\n",
              "      <td>60.0</td>\n",
              "      <td>96.0</td>\n",
              "      <td>322.0</td>\n",
              "      <td>...</td>\n",
              "      <td>19.0</td>\n",
              "      <td>26.0</td>\n",
              "      <td>18.0</td>\n",
              "      <td>0.0</td>\n",
              "      <td>1.0</td>\n",
              "      <td>0</td>\n",
              "      <td>1.5</td>\n",
              "      <td>1.5</td>\n",
              "      <td>1.0</td>\n",
              "      <td>1.0</td>\n",
              "    </tr>\n",
              "    <tr>\n",
              "      <th>4</th>\n",
              "      <td>4</td>\n",
              "      <td>1.0</td>\n",
              "      <td>40.0</td>\n",
              "      <td>155.0</td>\n",
              "      <td>60.0</td>\n",
              "      <td>86.0</td>\n",
              "      <td>120.0</td>\n",
              "      <td>74.0</td>\n",
              "      <td>80.0</td>\n",
              "      <td>184.0</td>\n",
              "      <td>...</td>\n",
              "      <td>16.0</td>\n",
              "      <td>14.0</td>\n",
              "      <td>22.0</td>\n",
              "      <td>0.0</td>\n",
              "      <td>0.0</td>\n",
              "      <td>0</td>\n",
              "      <td>1.0</td>\n",
              "      <td>1.0</td>\n",
              "      <td>1.0</td>\n",
              "      <td>1.0</td>\n",
              "    </tr>\n",
              "  </tbody>\n",
              "</table>\n",
              "<p>5 rows × 26 columns</p>\n",
              "</div>\n",
              "      <button class=\"colab-df-convert\" onclick=\"convertToInteractive('df-52429ccf-10c3-4b6d-aa5d-703e682d80f9')\"\n",
              "              title=\"Convert this dataframe to an interactive table.\"\n",
              "              style=\"display:none;\">\n",
              "        \n",
              "  <svg xmlns=\"http://www.w3.org/2000/svg\" height=\"24px\"viewBox=\"0 0 24 24\"\n",
              "       width=\"24px\">\n",
              "    <path d=\"M0 0h24v24H0V0z\" fill=\"none\"/>\n",
              "    <path d=\"M18.56 5.44l.94 2.06.94-2.06 2.06-.94-2.06-.94-.94-2.06-.94 2.06-2.06.94zm-11 1L8.5 8.5l.94-2.06 2.06-.94-2.06-.94L8.5 2.5l-.94 2.06-2.06.94zm10 10l.94 2.06.94-2.06 2.06-.94-2.06-.94-.94-2.06-.94 2.06-2.06.94z\"/><path d=\"M17.41 7.96l-1.37-1.37c-.4-.4-.92-.59-1.43-.59-.52 0-1.04.2-1.43.59L10.3 9.45l-7.72 7.72c-.78.78-.78 2.05 0 2.83L4 21.41c.39.39.9.59 1.41.59.51 0 1.02-.2 1.41-.59l7.78-7.78 2.81-2.81c.8-.78.8-2.07 0-2.86zM5.41 20L4 18.59l7.72-7.72 1.47 1.35L5.41 20z\"/>\n",
              "  </svg>\n",
              "      </button>\n",
              "      \n",
              "  <style>\n",
              "    .colab-df-container {\n",
              "      display:flex;\n",
              "      flex-wrap:wrap;\n",
              "      gap: 12px;\n",
              "    }\n",
              "\n",
              "    .colab-df-convert {\n",
              "      background-color: #E8F0FE;\n",
              "      border: none;\n",
              "      border-radius: 50%;\n",
              "      cursor: pointer;\n",
              "      display: none;\n",
              "      fill: #1967D2;\n",
              "      height: 32px;\n",
              "      padding: 0 0 0 0;\n",
              "      width: 32px;\n",
              "    }\n",
              "\n",
              "    .colab-df-convert:hover {\n",
              "      background-color: #E2EBFA;\n",
              "      box-shadow: 0px 1px 2px rgba(60, 64, 67, 0.3), 0px 1px 3px 1px rgba(60, 64, 67, 0.15);\n",
              "      fill: #174EA6;\n",
              "    }\n",
              "\n",
              "    [theme=dark] .colab-df-convert {\n",
              "      background-color: #3B4455;\n",
              "      fill: #D2E3FC;\n",
              "    }\n",
              "\n",
              "    [theme=dark] .colab-df-convert:hover {\n",
              "      background-color: #434B5C;\n",
              "      box-shadow: 0px 1px 3px 1px rgba(0, 0, 0, 0.15);\n",
              "      filter: drop-shadow(0px 1px 2px rgba(0, 0, 0, 0.3));\n",
              "      fill: #FFFFFF;\n",
              "    }\n",
              "  </style>\n",
              "\n",
              "      <script>\n",
              "        const buttonEl =\n",
              "          document.querySelector('#df-52429ccf-10c3-4b6d-aa5d-703e682d80f9 button.colab-df-convert');\n",
              "        buttonEl.style.display =\n",
              "          google.colab.kernel.accessAllowed ? 'block' : 'none';\n",
              "\n",
              "        async function convertToInteractive(key) {\n",
              "          const element = document.querySelector('#df-52429ccf-10c3-4b6d-aa5d-703e682d80f9');\n",
              "          const dataTable =\n",
              "            await google.colab.kernel.invokeFunction('convertToInteractive',\n",
              "                                                     [key], {});\n",
              "          if (!dataTable) return;\n",
              "\n",
              "          const docLinkHtml = 'Like what you see? Visit the ' +\n",
              "            '<a target=\"_blank\" href=https://colab.research.google.com/notebooks/data_table.ipynb>data table notebook</a>'\n",
              "            + ' to learn more about interactive tables.';\n",
              "          element.innerHTML = '';\n",
              "          dataTable['output_type'] = 'display_data';\n",
              "          await google.colab.output.renderOutput(dataTable, element);\n",
              "          const docLink = document.createElement('div');\n",
              "          docLink.innerHTML = docLinkHtml;\n",
              "          element.appendChild(docLink);\n",
              "        }\n",
              "      </script>\n",
              "    </div>\n",
              "  </div>\n",
              "  "
            ]
          },
          "metadata": {},
          "execution_count": 454
        }
      ]
    },
    {
      "cell_type": "code",
      "source": [
        "#Заполним пропуски. Выделим способ, которым можно это сделать:"
      ],
      "metadata": {
        "id": "Wa6usI6Sfmeo"
      },
      "execution_count": null,
      "outputs": []
    },
    {
      "cell_type": "code",
      "source": [
        "smoking_dataframe.info()"
      ],
      "metadata": {
        "colab": {
          "base_uri": "https://localhost:8080/"
        },
        "id": "NmTliZEUfp_Q",
        "outputId": "58c9d439-a021-4efb-df57-7875c1a6b513"
      },
      "execution_count": null,
      "outputs": [
        {
          "output_type": "stream",
          "name": "stdout",
          "text": [
            "<class 'pandas.core.frame.DataFrame'>\n",
            "RangeIndex: 55692 entries, 0 to 55691\n",
            "Data columns (total 26 columns):\n",
            " #   Column               Non-Null Count  Dtype  \n",
            "---  ------               --------------  -----  \n",
            " 0   ID                   55692 non-null  int64  \n",
            " 1   gender               50000 non-null  float64\n",
            " 2   age                  50000 non-null  float64\n",
            " 3   height(cm)           50000 non-null  float64\n",
            " 4   weight(kg)           50000 non-null  float64\n",
            " 5   waist(cm)            50000 non-null  float64\n",
            " 6   systolic             50000 non-null  float64\n",
            " 7   relaxation           50000 non-null  float64\n",
            " 8   fasting blood sugar  50000 non-null  float64\n",
            " 9   Cholesterol          50000 non-null  float64\n",
            " 10  triglyceride         50000 non-null  float64\n",
            " 11  HDL                  50000 non-null  float64\n",
            " 12  LDL                  50000 non-null  float64\n",
            " 13  hemoglobin           50000 non-null  float64\n",
            " 14  Urine protein        50000 non-null  float64\n",
            " 15  serum creatinine     50000 non-null  float64\n",
            " 16  AST                  50000 non-null  float64\n",
            " 17  ALT                  50000 non-null  float64\n",
            " 18  Gtp                  50000 non-null  float64\n",
            " 19  dental caries        50000 non-null  float64\n",
            " 20  tartar               50000 non-null  float64\n",
            " 21  smoking              55692 non-null  int64  \n",
            " 22  eyesight_left        50000 non-null  object \n",
            " 23  eyesight_right       50000 non-null  object \n",
            " 24  hear_left            50000 non-null  object \n",
            " 25  hear_right           50000 non-null  object \n",
            "dtypes: float64(20), int64(2), object(4)\n",
            "memory usage: 11.0+ MB\n"
          ]
        }
      ]
    },
    {
      "cell_type": "code",
      "source": [
        "smoking_dataframe = smoking_dataframe.dropna()"
      ],
      "metadata": {
        "id": "KfxBIjgLhhu4"
      },
      "execution_count": null,
      "outputs": []
    },
    {
      "cell_type": "code",
      "source": [
        "smoking_dataframe.isnull().sum() #удалим пропуски из набора данных. Осталось более 5600 объектов дляо обучения"
      ],
      "metadata": {
        "colab": {
          "base_uri": "https://localhost:8080/"
        },
        "id": "RIKqX-0gf3kn",
        "outputId": "9d66fde9-6725-4e49-9384-7f2f49138f3b"
      },
      "execution_count": null,
      "outputs": [
        {
          "output_type": "execute_result",
          "data": {
            "text/plain": [
              "ID                     0\n",
              "gender                 0\n",
              "age                    0\n",
              "height(cm)             0\n",
              "weight(kg)             0\n",
              "waist(cm)              0\n",
              "systolic               0\n",
              "relaxation             0\n",
              "fasting blood sugar    0\n",
              "Cholesterol            0\n",
              "triglyceride           0\n",
              "HDL                    0\n",
              "LDL                    0\n",
              "hemoglobin             0\n",
              "Urine protein          0\n",
              "serum creatinine       0\n",
              "AST                    0\n",
              "ALT                    0\n",
              "Gtp                    0\n",
              "dental caries          0\n",
              "tartar                 0\n",
              "smoking                0\n",
              "eyesight_left          0\n",
              "eyesight_right         0\n",
              "hear_left              0\n",
              "hear_right             0\n",
              "dtype: int64"
            ]
          },
          "metadata": {},
          "execution_count": 458
        }
      ]
    },
    {
      "cell_type": "markdown",
      "source": [
        "##Визуализация"
      ],
      "metadata": {
        "id": "PD7JWiy6gwmI"
      }
    },
    {
      "cell_type": "code",
      "source": [
        "labels = 'smoking', 'no smoking' \n",
        "colors = ['pink', 'cyan']\n",
        "smoking_dataframe.smoking.value_counts().plot(kind = 'pie', labels = labels, autopct='%1.1f%%', colors=colors) #соотношение примерно 6 к 4. Выборка сбалансирована\n",
        "#методы over или under sampling не требуются"
      ],
      "metadata": {
        "colab": {
          "base_uri": "https://localhost:8080/",
          "height": 265
        },
        "id": "z3eS6_HEgeCg",
        "outputId": "7ba8d57a-eb8d-4b6e-fc98-e7080a82d542"
      },
      "execution_count": null,
      "outputs": [
        {
          "output_type": "execute_result",
          "data": {
            "text/plain": [
              "<matplotlib.axes._subplots.AxesSubplot at 0x7f0fb1b48d10>"
            ]
          },
          "metadata": {},
          "execution_count": 459
        },
        {
          "output_type": "display_data",
          "data": {
            "text/plain": [
              "<Figure size 432x288 with 1 Axes>"
            ],
            "image/png": "[encoded data removed]"
          },
          "metadata": {}
        }
      ]
    },
    {
      "cell_type": "code",
      "source": [
        "cols = ['smoking', 'gender', 'dental caries']\n",
        "sns_plot = sns.pairplot(smoking_dataframe[cols])  #строим график по бинарным признакам \n",
        "sns_plot.savefig('pairplot.png') # сохраняем график"
      ],
      "metadata": {
        "colab": {
          "base_uri": "https://localhost:8080/",
          "height": 550
        },
        "id": "52zepYvVhAho",
        "outputId": "32d52f98-7dd1-4f44-c01a-65c6dd0897d9"
      },
      "execution_count": null,
      "outputs": [
        {
          "output_type": "display_data",
          "data": {
            "text/plain": [
              "<Figure size 540x540 with 12 Axes>"
            ],
            "image/png": "[encoded data removed]"
          },
          "metadata": {
            "needs_background": "light"
          }
        }
      ]
    },
    {
      "cell_type": "code",
      "source": [
        "import plotly.express as px\n",
        "#функции по отрисовке гистограмм с дисплеем \n",
        "def plot_histgram(feature):    \n",
        "    fig = px.histogram(smoking_dataframe, x=feature,\n",
        "                       color=\"smoking\", \n",
        "                       marginal=\"box\",\n",
        "                       barmode =\"overlay\",\n",
        "                       histnorm ='density'\n",
        "                      )  \n",
        "    fig.update_layout(\n",
        "        title={\n",
        "            'text': feature+\" histogram\",\n",
        "            'x':0.5,\n",
        "            'xanchor': 'center',\n",
        "            'yanchor': 'top'},\n",
        "    )\n",
        "    fig.show()\n",
        "\n",
        "def display_stat(feature):\n",
        "    mean = smoking_dataframe[feature].mean()\n",
        "    std = smoking_dataframe[feature].std()\n",
        "    skew = smoking_dataframe[feature].skew()\n",
        "    kurtosis = smoking_dataframe[feature].kurtosis()\n",
        "    print('mean: {0:.4f}, std: {1:.4f}, skew: {2:.4f}, kurtosis: {3:.4f} '.format(mean, std, skew, kurtosis))"
      ],
      "metadata": {
        "id": "sqDZ2bDUig2o"
      },
      "execution_count": null,
      "outputs": []
    },
    {
      "cell_type": "code",
      "source": [
        "plot_histgram('fasting blood sugar') #зависимость курения от уровня сахара в крови\n",
        "display_stat('fasting blood sugar')"
      ],
      "metadata": {
        "colab": {
          "base_uri": "https://localhost:8080/",
          "height": 559
        },
        "id": "1W4flrCLivDh",
        "outputId": "567ec77f-4c11-417d-df37-7ec638716dd6"
      },
      "execution_count": null,
      "outputs": [
        {
          "output_type": "display_data",
          "data": {
            "text/html": [
              "<html>\n",
              "<head><meta charset=\"utf-8\" /></head>\n",
              "<body>\n",
              "    <div>            <script src=\"https://cdnjs.cloudflare.com/ajax/libs/mathjax/2.7.5/MathJax.js?config=TeX-AMS-MML_SVG\"></script><script type=\"text/javascript\">if (window.MathJax) {MathJax.Hub.Config({SVG: {font: \"STIX-Web\"}});}</script>                <script type=\"text/javascript\">window.PlotlyConfig = {MathJaxConfig: 'local'};</script>\n",
              "        <script src=\"https://cdn.plot.ly/plotly-2.8.3.min.js\"></script>                <div id=\"c51ab7f5-272d-4e5a-84eb-94cb54268884\" class=\"plotly-graph-div\" style=\"height:525px; width:100%;\"></div>            <script type=\"text/javascript\">                                    window.PLOTLYENV=window.PLOTLYENV || {};                                    if (document.getElementById(\"c51ab7f5-272d-4e5a-84eb-94cb54268884\")) {                    Plotly.newPlot(                        \"c51ab7f5-272d-4e5a-84eb-94cb54268884\",                        [{\"alignmentgroup\":\"True\",\"bingroup\":\"x\",\"histnorm\":\"density\",\"hovertemplate\":\"smoking=1<br>fasting blood sugar=%{x}<br>density=%{y}<extra></extra>\",\"legendgroup\":\"1\",\"marker\":{\"color\":\"#636efa\",\"opacity\":0.5,\"pattern\":{\"shape\":\"\"}},\"name\":\"1\",\"offsetgroup\":\"1\",\"orientation\":\"v\",\"showlegend\":true,\"x\":[89.0,115.0,87.0,95.0,80.0,110.0,115.0,90.0,96.0,92.0,107.0,100.0,98.0,100.0,89.0,107.0,89.0,121.0,90.0,86.0,91.0,103.0,107.0,132.0,79.0,77.0,84.0,94.0,81.0,88.0,118.0,106.0,100.0,102.0,98.0,104.0,89.0,249.0,93.0,98.0,102.0,71.0,106.0,112.0,91.0,91.0,115.0,102.0,109.0,113.0,86.0,103.0,106.0,93.0,85.0,85.0,93.0,78.0,86.0,82.0,107.0,98.0,84.0,99.0,107.0,86.0,95.0,93.0,103.0,83.0,109.0,92.0,107.0,103.0,147.0,97.0,85.0,85.0,95.0,92.0,98.0,107.0,110.0,107.0,99.0,84.0,94.0,103.0,83.0,91.0,98.0,86.0,102.0,98.0,81.0,97.0,88.0,106.0,138.0,97.0,97.0,105.0,99.0,100.0,166.0,119.0,94.0,125.0,98.0,127.0,78.0,109.0,93.0,243.0,94.0,128.0,112.0,97.0,68.0,102.0,95.0,98.0,102.0,83.0,93.0,89.0,86.0,181.0,112.0,102.0,93.0,109.0,125.0,118.0,109.0,101.0,100.0,98.0,84.0,89.0,239.0,88.0,94.0,94.0,128.0,164.0,97.0,101.0,90.0,105.0,94.0,99.0,105.0,103.0,80.0,101.0,97.0,98.0,95.0,100.0,105.0,115.0,105.0,81.0,107.0,119.0,84.0,89.0,97.0,100.0,100.0,88.0,96.0,92.0,101.0,97.0,84.0,80.0,112.0,96.0,99.0,90.0,95.0,219.0,93.0,88.0,93.0,83.0,93.0,125.0,97.0,92.0,95.0,101.0,96.0,83.0,93.0,98.0,73.0,122.0,198.0,103.0,102.0,100.0,92.0,93.0,92.0,113.0,116.0,100.0,100.0,105.0,198.0,91.0,95.0,85.0,77.0,67.0,98.0,100.0,131.0,99.0,92.0,86.0,94.0,99.0,109.0,84.0,86.0,116.0,109.0,101.0,108.0,110.0,125.0,104.0,97.0,109.0,70.0,96.0,97.0,85.0,92.0,82.0,101.0,85.0,86.0,80.0,98.0,106.0,83.0,110.0,108.0,101.0,88.0,87.0,125.0,150.0,95.0,90.0,91.0,100.0,104.0,86.0,108.0,91.0,183.0,99.0,177.0,102.0,119.0,86.0,92.0,95.0,89.0,97.0,80.0,68.0,117.0,74.0,131.0,98.0,98.0,135.0,302.0,99.0,96.0,105.0,185.0,84.0,88.0,87.0,98.0,100.0,102.0,87.0,97.0,101.0,80.0,95.0,90.0,105.0,98.0,83.0,97.0,75.0,78.0,102.0,90.0,100.0,105.0,91.0,93.0,96.0,93.0,90.0,92.0,100.0,83.0,126.0,113.0,107.0,100.0,108.0,117.0,97.0,104.0,95.0,109.0,103.0,101.0,100.0,88.0,94.0,91.0,100.0,99.0,93.0,89.0,87.0,103.0,86.0,107.0,93.0,135.0,92.0,96.0,103.0,80.0,120.0,86.0,97.0,92.0,88.0,110.0,112.0,86.0,306.0,99.0,110.0,84.0,94.0,95.0,116.0,78.0,73.0,96.0,97.0,105.0,94.0,87.0,90.0,199.0,94.0,110.0,89.0,104.0,169.0,89.0,101.0,82.0,83.0,79.0,102.0,104.0,89.0,100.0,100.0,84.0,103.0,94.0,86.0,92.0,82.0,91.0,106.0,98.0,95.0,94.0,93.0,77.0,109.0,108.0,107.0,97.0,121.0,121.0,94.0,111.0,92.0,92.0,123.0,94.0,112.0,110.0,93.0,100.0,109.0,106.0,96.0,97.0,107.0,92.0,163.0,103.0,82.0,132.0,107.0,87.0,98.0,113.0,95.0,80.0,85.0,83.0,80.0,83.0,129.0,120.0,88.0,93.0,84.0,84.0,104.0,111.0,108.0,100.0,92.0,92.0,100.0,91.0,79.0,94.0,99.0,130.0,101.0,114.0,96.0,122.0,80.0,104.0,89.0,148.0,101.0,75.0,114.0,93.0,106.0,104.0,93.0,85.0,104.0,122.0,114.0,116.0,98.0,98.0,101.0,101.0,118.0,233.0,92.0,107.0,95.0,125.0,95.0,103.0,110.0,102.0,104.0,99.0,151.0,103.0,117.0,109.0,98.0,92.0,98.0,105.0,83.0,91.0,105.0,94.0,104.0,111.0,110.0,94.0,98.0,98.0,76.0,105.0,101.0,92.0,113.0,107.0,89.0,107.0,93.0,105.0,120.0,102.0,92.0,93.0,140.0,95.0,87.0,95.0,101.0,127.0,89.0,176.0,97.0,93.0,168.0,90.0,102.0,145.0,83.0,93.0,100.0,87.0,90.0,88.0,94.0,131.0,106.0,260.0,79.0,85.0,96.0,87.0,115.0,84.0,120.0,90.0,93.0,97.0,93.0,91.0,97.0,86.0,94.0,91.0,90.0,128.0,90.0,91.0,100.0,114.0,86.0,95.0,93.0,90.0,84.0,95.0,92.0,107.0,77.0,94.0,147.0,110.0,93.0,92.0,86.0,86.0,98.0,93.0,108.0,94.0,126.0,105.0,97.0,91.0,105.0,103.0,100.0,86.0,99.0,103.0,81.0,73.0,94.0,98.0,99.0,84.0,98.0,96.0,96.0,110.0,103.0,98.0,105.0,88.0,90.0,84.0,93.0,105.0,85.0,102.0,112.0,100.0,100.0,102.0,107.0,97.0,75.0,98.0,82.0,102.0,91.0,98.0,93.0,139.0,104.0,84.0,85.0,93.0,93.0,91.0,92.0,97.0,97.0,93.0,91.0,83.0,90.0,82.0,85.0,100.0,104.0,115.0,102.0,90.0,103.0,126.0,97.0,96.0,87.0,114.0,111.0,92.0,106.0,99.0,101.0,105.0,103.0,305.0,136.0,106.0,101.0,107.0,117.0,155.0,91.0,128.0,105.0,86.0,98.0,83.0,86.0,91.0,80.0,107.0,92.0,97.0,109.0,187.0,95.0,152.0,92.0,97.0,90.0,97.0,97.0,95.0,122.0,107.0,142.0,95.0,86.0,81.0,249.0,92.0,108.0,90.0,134.0,112.0,106.0,97.0,94.0,132.0,88.0,99.0,76.0,83.0,99.0,92.0,107.0,92.0,103.0,102.0,95.0,97.0,128.0,119.0,92.0,94.0,160.0,102.0,94.0,102.0,92.0,84.0,133.0,104.0,85.0,153.0,101.0,88.0,114.0,70.0,86.0,118.0,97.0,117.0,103.0,101.0,97.0,89.0,86.0,84.0,97.0,98.0,126.0,145.0,88.0,115.0,88.0,84.0,81.0,90.0,94.0,103.0,77.0,100.0,107.0,93.0,81.0,95.0,94.0,102.0,91.0,97.0,95.0,123.0,80.0,120.0,86.0,115.0,81.0,91.0,107.0,103.0,122.0,105.0,105.0,91.0,111.0,89.0,110.0,95.0,107.0,99.0,82.0,90.0,115.0,122.0,117.0,88.0,87.0,111.0,95.0,101.0,211.0,90.0,98.0,108.0,93.0,92.0,103.0,101.0,110.0,95.0,93.0,140.0,85.0,75.0,112.0,88.0,95.0,96.0,103.0,158.0,143.0,115.0,92.0,122.0,87.0,82.0,86.0,105.0,127.0,99.0,103.0,86.0,95.0,104.0,110.0,98.0,82.0,70.0,85.0,82.0,96.0,94.0,123.0,133.0,97.0,84.0,113.0,109.0,99.0,104.0,91.0,94.0,80.0,101.0,109.0,107.0,93.0,103.0,102.0,97.0,161.0,98.0,94.0,109.0,109.0,93.0,109.0,103.0,105.0,93.0,98.0,94.0,76.0,88.0,103.0,104.0,104.0,104.0,144.0,105.0,90.0,80.0,88.0,92.0,81.0,141.0,77.0,113.0,95.0,87.0,102.0,97.0,98.0,98.0,125.0,105.0,95.0,92.0,122.0,198.0,94.0,154.0,144.0,130.0,81.0,106.0,84.0,83.0,99.0,111.0,86.0,89.0,149.0,106.0,74.0,87.0,117.0,95.0,108.0,93.0,279.0,90.0,81.0,121.0,98.0,139.0,107.0,89.0,99.0,83.0,104.0,93.0,96.0,77.0,92.0,104.0,99.0,91.0,95.0,95.0,133.0,101.0,116.0,97.0,82.0,101.0,125.0,118.0,105.0,107.0,83.0,84.0,88.0,89.0,99.0,80.0,105.0,93.0,74.0,87.0,96.0,102.0,89.0,108.0,85.0,86.0,110.0,92.0,109.0,101.0,81.0,98.0,100.0,82.0,108.0,81.0,100.0,102.0,93.0,88.0,93.0,86.0,100.0,96.0,83.0,96.0,71.0,88.0,98.0,96.0,89.0,107.0,91.0,81.0,88.0,89.0,117.0,86.0,78.0,103.0,72.0,124.0,101.0,92.0,125.0,121.0,96.0,127.0,90.0,92.0,140.0,88.0,90.0,115.0,90.0,109.0,83.0,128.0,99.0,104.0,91.0,89.0,122.0,91.0,110.0,97.0,106.0,89.0,75.0,108.0,92.0,77.0,134.0,90.0,92.0,106.0,101.0,263.0,99.0,87.0,86.0,132.0,98.0,98.0,98.0,130.0,90.0,93.0,97.0,107.0,94.0,126.0,99.0,91.0,98.0,78.0,84.0,84.0,170.0,99.0,110.0,110.0,93.0,107.0,121.0,74.0,95.0,77.0,91.0,100.0,93.0,99.0,103.0,110.0,81.0,92.0,96.0,99.0,100.0,98.0,89.0,92.0,98.0,117.0,119.0,134.0,90.0,111.0,87.0,100.0,93.0,103.0,114.0,98.0,85.0,83.0,99.0,108.0,86.0,97.0,104.0,100.0,92.0,94.0,90.0,71.0,89.0,97.0,90.0,114.0,120.0,91.0,101.0,103.0,95.0,76.0,105.0,77.0,88.0,88.0,173.0,100.0,86.0,107.0,95.0,116.0,143.0,90.0,347.0,109.0,110.0,105.0,96.0,105.0,100.0,116.0,98.0,100.0,111.0,148.0,95.0,92.0,101.0,89.0,89.0,103.0,140.0,105.0,94.0,132.0,97.0,79.0,82.0,111.0,83.0,102.0,97.0,108.0,88.0,87.0,98.0,99.0,99.0,104.0,103.0,103.0,94.0,99.0,103.0,102.0,112.0,103.0,77.0,88.0,167.0,92.0,165.0,118.0,82.0,98.0,97.0,115.0,124.0,127.0,94.0,97.0,106.0,87.0,110.0,98.0,103.0,79.0,80.0,105.0,92.0,98.0,89.0,80.0,91.0,104.0,94.0,94.0,93.0,94.0,91.0,79.0,111.0,101.0,89.0,111.0,106.0,113.0,92.0,104.0,104.0,90.0,94.0,230.0,100.0,110.0,119.0,102.0,108.0,85.0,113.0,88.0,97.0,106.0,85.0,92.0,95.0,87.0,97.0,113.0,103.0,86.0,116.0,92.0,82.0,159.0,114.0,161.0,98.0,83.0,97.0,100.0,105.0,91.0,99.0,89.0,93.0,123.0,95.0,94.0,98.0,93.0,98.0,103.0,86.0,70.0,96.0,91.0,133.0,77.0,73.0,75.0,106.0,91.0,121.0,88.0,85.0,177.0,101.0,79.0,85.0,97.0,114.0,90.0,102.0,76.0,101.0,116.0,99.0,84.0,147.0,109.0,86.0,78.0,99.0,101.0,123.0,97.0,99.0,107.0,85.0,82.0,88.0,110.0,105.0,98.0,103.0,103.0,80.0,102.0,119.0,92.0,105.0,87.0,92.0,103.0,97.0,107.0,82.0,81.0,143.0,117.0,99.0,99.0,90.0,120.0,95.0,97.0,99.0,126.0,93.0,140.0,67.0,110.0,106.0,101.0,95.0,90.0,105.0,78.0,83.0,89.0,95.0,101.0,90.0,98.0,89.0,166.0,86.0,71.0,88.0,99.0,87.0,97.0,115.0,92.0,93.0,103.0,92.0,99.0,173.0,76.0,85.0,109.0,93.0,92.0,93.0,102.0,94.0,97.0,90.0,92.0,100.0,99.0,85.0,97.0,90.0,106.0,95.0,107.0,87.0,91.0,147.0,96.0,91.0,86.0,211.0,98.0,92.0,88.0,98.0,93.0,93.0,88.0,103.0,123.0,98.0,93.0,86.0,77.0,122.0,98.0,97.0,98.0,101.0,110.0,95.0,70.0,97.0,94.0,91.0,86.0,94.0,96.0,104.0,90.0,94.0,80.0,100.0,92.0,103.0,91.0,109.0,104.0,101.0,73.0,96.0,100.0,139.0,95.0,106.0,85.0,107.0,92.0,141.0,113.0,97.0,93.0,98.0,90.0,80.0,89.0,94.0,98.0,90.0,99.0,143.0,96.0,86.0,94.0,73.0,120.0,150.0,100.0,97.0,97.0,104.0,85.0,88.0,95.0,89.0,104.0,93.0,90.0,90.0,94.0,120.0,93.0,89.0,120.0,94.0,86.0,94.0,101.0,80.0,188.0,101.0,109.0,95.0,91.0,89.0,81.0,90.0,209.0,86.0,168.0,102.0,104.0,83.0,91.0,118.0,92.0,85.0,162.0,111.0,100.0,96.0,117.0,86.0,93.0,110.0,86.0,123.0,107.0,99.0,91.0,91.0,85.0,84.0,108.0,90.0,94.0,91.0,97.0,107.0,85.0,111.0,84.0,82.0,82.0,109.0,95.0,89.0,100.0,122.0,118.0,129.0,100.0,90.0,114.0,109.0,104.0,95.0,91.0,100.0,83.0,102.0,102.0,117.0,84.0,81.0,102.0,98.0,110.0,103.0,100.0,142.0,98.0,86.0,92.0,118.0,92.0,97.0,92.0,109.0,101.0,85.0,106.0,88.0,77.0,100.0,95.0,115.0,105.0,94.0,106.0,90.0,93.0,126.0,111.0,123.0,109.0,114.0,103.0,89.0,91.0,96.0,99.0,85.0,97.0,96.0,76.0,102.0,78.0,110.0,75.0,97.0,99.0,76.0,102.0,92.0,88.0,91.0,110.0,88.0,95.0,86.0,103.0,101.0,101.0,107.0,91.0,82.0,101.0,102.0,182.0,102.0,100.0,136.0,104.0,72.0,85.0,91.0,94.0,99.0,78.0,106.0,115.0,89.0,97.0,88.0,91.0,95.0,89.0,125.0,83.0,109.0,95.0,146.0,89.0,123.0,90.0,188.0,89.0,105.0,78.0,95.0,90.0,93.0,105.0,89.0,90.0,71.0,92.0,104.0,102.0,90.0,103.0,85.0,104.0,91.0,100.0,101.0,96.0,91.0,84.0,88.0,92.0,101.0,87.0,91.0,84.0,134.0,94.0,95.0,101.0,96.0,85.0,102.0,107.0,96.0,106.0,87.0,79.0,87.0,97.0,140.0,97.0,89.0,152.0,80.0,118.0,89.0,105.0,97.0,87.0,170.0,115.0,117.0,88.0,106.0,102.0,89.0,97.0,98.0,90.0,75.0,180.0,90.0,113.0,100.0,108.0,98.0,89.0,89.0,91.0,94.0,81.0,93.0,95.0,108.0,89.0,114.0,91.0,144.0,86.0,98.0,91.0,122.0,80.0,129.0,83.0,102.0,104.0,93.0,114.0,78.0,80.0,82.0,119.0,90.0,77.0,95.0,106.0,85.0,79.0,142.0,110.0,101.0,89.0,103.0,98.0,88.0,102.0,104.0,105.0,175.0,104.0,130.0,199.0,97.0,82.0,84.0,88.0,96.0,104.0,98.0,98.0,87.0,138.0,110.0,99.0,93.0,93.0,86.0,89.0,92.0,99.0,117.0,87.0,99.0,100.0,94.0,70.0,114.0,101.0,80.0,92.0,102.0,88.0,111.0,88.0,99.0,110.0,87.0,203.0,97.0,80.0,86.0,197.0,86.0,97.0,104.0,107.0,81.0,100.0,106.0,88.0,107.0,102.0,125.0,98.0,113.0,107.0,103.0,96.0,99.0,96.0,90.0,98.0,90.0,96.0,111.0,100.0,113.0,96.0,103.0,121.0,89.0,101.0,98.0,139.0,93.0,93.0,85.0,94.0,88.0,245.0,162.0,100.0,86.0,93.0,114.0,110.0,88.0,86.0,191.0,109.0,91.0,101.0,103.0,89.0,89.0,87.0,94.0,113.0,88.0,82.0,104.0,94.0,96.0,97.0,79.0,106.0,87.0,123.0,121.0,108.0,83.0,98.0,121.0,101.0,110.0,162.0,102.0,97.0,93.0,102.0,90.0,111.0,85.0,99.0,106.0,89.0,103.0,80.0,85.0,89.0,97.0,100.0,100.0,90.0,103.0,111.0,98.0,88.0,101.0,78.0,112.0,101.0,96.0,109.0,93.0,101.0,109.0,85.0,110.0,220.0,101.0,79.0,103.0,125.0,91.0,88.0,107.0,94.0,114.0,104.0,85.0,94.0,107.0,92.0,112.0,92.0,83.0,97.0,94.0,96.0,91.0,100.0,124.0,120.0,99.0,98.0,110.0,104.0,94.0,83.0,104.0,119.0,106.0,97.0,94.0,103.0,116.0,124.0,92.0],\"xaxis\":\"x\",\"yaxis\":\"y\",\"type\":\"histogram\"},{\"alignmentgroup\":\"True\",\"hovertemplate\":\"smoking=1<br>fasting blood sugar=%{x}<extra></extra>\",\"legendgroup\":\"1\",\"marker\":{\"color\":\"#636efa\"},\"name\":\"1\",\"notched\":true,\"offsetgroup\":\"1\",\"showlegend\":false,\"x\":[89.0,115.0,87.0,95.0,80.0,110.0,115.0,90.0,96.0,92.0,107.0,100.0,98.0,100.0,89.0,107.0,89.0,121.0,90.0,86.0,91.0,103.0,107.0,132.0,79.0,77.0,84.0,94.0,81.0,88.0,118.0,106.0,100.0,102.0,98.0,104.0,89.0,249.0,93.0,98.0,102.0,71.0,106.0,112.0,91.0,91.0,115.0,102.0,109.0,113.0,86.0,103.0,106.0,93.0,85.0,85.0,93.0,78.0,86.0,82.0,107.0,98.0,84.0,99.0,107.0,86.0,95.0,93.0,103.0,83.0,109.0,92.0,107.0,103.0,147.0,97.0,85.0,85.0,95.0,92.0,98.0,107.0,110.0,107.0,99.0,84.0,94.0,103.0,83.0,91.0,98.0,86.0,102.0,98.0,81.0,97.0,88.0,106.0,138.0,97.0,97.0,105.0,99.0,100.0,166.0,119.0,94.0,125.0,98.0,127.0,78.0,109.0,93.0,243.0,94.0,128.0,112.0,97.0,68.0,102.0,95.0,98.0,102.0,83.0,93.0,89.0,86.0,181.0,112.0,102.0,93.0,109.0,125.0,118.0,109.0,101.0,100.0,98.0,84.0,89.0,239.0,88.0,94.0,94.0,128.0,164.0,97.0,101.0,90.0,105.0,94.0,99.0,105.0,103.0,80.0,101.0,97.0,98.0,95.0,100.0,105.0,115.0,105.0,81.0,107.0,119.0,84.0,89.0,97.0,100.0,100.0,88.0,96.0,92.0,101.0,97.0,84.0,80.0,112.0,96.0,99.0,90.0,95.0,219.0,93.0,88.0,93.0,83.0,93.0,125.0,97.0,92.0,95.0,101.0,96.0,83.0,93.0,98.0,73.0,122.0,198.0,103.0,102.0,100.0,92.0,93.0,92.0,113.0,116.0,100.0,100.0,105.0,198.0,91.0,95.0,85.0,77.0,67.0,98.0,100.0,131.0,99.0,92.0,86.0,94.0,99.0,109.0,84.0,86.0,116.0,109.0,101.0,108.0,110.0,125.0,104.0,97.0,109.0,70.0,96.0,97.0,85.0,92.0,82.0,101.0,85.0,86.0,80.0,98.0,106.0,83.0,110.0,108.0,101.0,88.0,87.0,125.0,150.0,95.0,90.0,91.0,100.0,104.0,86.0,108.0,91.0,183.0,99.0,177.0,102.0,119.0,86.0,92.0,95.0,89.0,97.0,80.0,68.0,117.0,74.0,131.0,98.0,98.0,135.0,302.0,99.0,96.0,105.0,185.0,84.0,88.0,87.0,98.0,100.0,102.0,87.0,97.0,101.0,80.0,95.0,90.0,105.0,98.0,83.0,97.0,75.0,78.0,102.0,90.0,100.0,105.0,91.0,93.0,96.0,93.0,90.0,92.0,100.0,83.0,126.0,113.0,107.0,100.0,108.0,117.0,97.0,104.0,95.0,109.0,103.0,101.0,100.0,88.0,94.0,91.0,100.0,99.0,93.0,89.0,87.0,103.0,86.0,107.0,93.0,135.0,92.0,96.0,103.0,80.0,120.0,86.0,97.0,92.0,88.0,110.0,112.0,86.0,306.0,99.0,110.0,84.0,94.0,95.0,116.0,78.0,73.0,96.0,97.0,105.0,94.0,87.0,90.0,199.0,94.0,110.0,89.0,104.0,169.0,89.0,101.0,82.0,83.0,79.0,102.0,104.0,89.0,100.0,100.0,84.0,103.0,94.0,86.0,92.0,82.0,91.0,106.0,98.0,95.0,94.0,93.0,77.0,109.0,108.0,107.0,97.0,121.0,121.0,94.0,111.0,92.0,92.0,123.0,94.0,112.0,110.0,93.0,100.0,109.0,106.0,96.0,97.0,107.0,92.0,163.0,103.0,82.0,132.0,107.0,87.0,98.0,113.0,95.0,80.0,85.0,83.0,80.0,83.0,129.0,120.0,88.0,93.0,84.0,84.0,104.0,111.0,108.0,100.0,92.0,92.0,100.0,91.0,79.0,94.0,99.0,130.0,101.0,114.0,96.0,122.0,80.0,104.0,89.0,148.0,101.0,75.0,114.0,93.0,106.0,104.0,93.0,85.0,104.0,122.0,114.0,116.0,98.0,98.0,101.0,101.0,118.0,233.0,92.0,107.0,95.0,125.0,95.0,103.0,110.0,102.0,104.0,99.0,151.0,103.0,117.0,109.0,98.0,92.0,98.0,105.0,83.0,91.0,105.0,94.0,104.0,111.0,110.0,94.0,98.0,98.0,76.0,105.0,101.0,92.0,113.0,107.0,89.0,107.0,93.0,105.0,120.0,102.0,92.0,93.0,140.0,95.0,87.0,95.0,101.0,127.0,89.0,176.0,97.0,93.0,168.0,90.0,102.0,145.0,83.0,93.0,100.0,87.0,90.0,88.0,94.0,131.0,106.0,260.0,79.0,85.0,96.0,87.0,115.0,84.0,120.0,90.0,93.0,97.0,93.0,91.0,97.0,86.0,94.0,91.0,90.0,128.0,90.0,91.0,100.0,114.0,86.0,95.0,93.0,90.0,84.0,95.0,92.0,107.0,77.0,94.0,147.0,110.0,93.0,92.0,86.0,86.0,98.0,93.0,108.0,94.0,126.0,105.0,97.0,91.0,105.0,103.0,100.0,86.0,99.0,103.0,81.0,73.0,94.0,98.0,99.0,84.0,98.0,96.0,96.0,110.0,103.0,98.0,105.0,88.0,90.0,84.0,93.0,105.0,85.0,102.0,112.0,100.0,100.0,102.0,107.0,97.0,75.0,98.0,82.0,102.0,91.0,98.0,93.0,139.0,104.0,84.0,85.0,93.0,93.0,91.0,92.0,97.0,97.0,93.0,91.0,83.0,90.0,82.0,85.0,100.0,104.0,115.0,102.0,90.0,103.0,126.0,97.0,96.0,87.0,114.0,111.0,92.0,106.0,99.0,101.0,105.0,103.0,305.0,136.0,106.0,101.0,107.0,117.0,155.0,91.0,128.0,105.0,86.0,98.0,83.0,86.0,91.0,80.0,107.0,92.0,97.0,109.0,187.0,95.0,152.0,92.0,97.0,90.0,97.0,97.0,95.0,122.0,107.0,142.0,95.0,86.0,81.0,249.0,92.0,108.0,90.0,134.0,112.0,106.0,97.0,94.0,132.0,88.0,99.0,76.0,83.0,99.0,92.0,107.0,92.0,103.0,102.0,95.0,97.0,128.0,119.0,92.0,94.0,160.0,102.0,94.0,102.0,92.0,84.0,133.0,104.0,85.0,153.0,101.0,88.0,114.0,70.0,86.0,118.0,97.0,117.0,103.0,101.0,97.0,89.0,86.0,84.0,97.0,98.0,126.0,145.0,88.0,115.0,88.0,84.0,81.0,90.0,94.0,103.0,77.0,100.0,107.0,93.0,81.0,95.0,94.0,102.0,91.0,97.0,95.0,123.0,80.0,120.0,86.0,115.0,81.0,91.0,107.0,103.0,122.0,105.0,105.0,91.0,111.0,89.0,110.0,95.0,107.0,99.0,82.0,90.0,115.0,122.0,117.0,88.0,87.0,111.0,95.0,101.0,211.0,90.0,98.0,108.0,93.0,92.0,103.0,101.0,110.0,95.0,93.0,140.0,85.0,75.0,112.0,88.0,95.0,96.0,103.0,158.0,143.0,115.0,92.0,122.0,87.0,82.0,86.0,105.0,127.0,99.0,103.0,86.0,95.0,104.0,110.0,98.0,82.0,70.0,85.0,82.0,96.0,94.0,123.0,133.0,97.0,84.0,113.0,109.0,99.0,104.0,91.0,94.0,80.0,101.0,109.0,107.0,93.0,103.0,102.0,97.0,161.0,98.0,94.0,109.0,109.0,93.0,109.0,103.0,105.0,93.0,98.0,94.0,76.0,88.0,103.0,104.0,104.0,104.0,144.0,105.0,90.0,80.0,88.0,92.0,81.0,141.0,77.0,113.0,95.0,87.0,102.0,97.0,98.0,98.0,125.0,105.0,95.0,92.0,122.0,198.0,94.0,154.0,144.0,130.0,81.0,106.0,84.0,83.0,99.0,111.0,86.0,89.0,149.0,106.0,74.0,87.0,117.0,95.0,108.0,93.0,279.0,90.0,81.0,121.0,98.0,139.0,107.0,89.0,99.0,83.0,104.0,93.0,96.0,77.0,92.0,104.0,99.0,91.0,95.0,95.0,133.0,101.0,116.0,97.0,82.0,101.0,125.0,118.0,105.0,107.0,83.0,84.0,88.0,89.0,99.0,80.0,105.0,93.0,74.0,87.0,96.0,102.0,89.0,108.0,85.0,86.0,110.0,92.0,109.0,101.0,81.0,98.0,100.0,82.0,108.0,81.0,100.0,102.0,93.0,88.0,93.0,86.0,100.0,96.0,83.0,96.0,71.0,88.0,98.0,96.0,89.0,107.0,91.0,81.0,88.0,89.0,117.0,86.0,78.0,103.0,72.0,124.0,101.0,92.0,125.0,121.0,96.0,127.0,90.0,92.0,140.0,88.0,90.0,115.0,90.0,109.0,83.0,128.0,99.0,104.0,91.0,89.0,122.0,91.0,110.0,97.0,106.0,89.0,75.0,108.0,92.0,77.0,134.0,90.0,92.0,106.0,101.0,263.0,99.0,87.0,86.0,132.0,98.0,98.0,98.0,130.0,90.0,93.0,97.0,107.0,94.0,126.0,99.0,91.0,98.0,78.0,84.0,84.0,170.0,99.0,110.0,110.0,93.0,107.0,121.0,74.0,95.0,77.0,91.0,100.0,93.0,99.0,103.0,110.0,81.0,92.0,96.0,99.0,100.0,98.0,89.0,92.0,98.0,117.0,119.0,134.0,90.0,111.0,87.0,100.0,93.0,103.0,114.0,98.0,85.0,83.0,99.0,108.0,86.0,97.0,104.0,100.0,92.0,94.0,90.0,71.0,89.0,97.0,90.0,114.0,120.0,91.0,101.0,103.0,95.0,76.0,105.0,77.0,88.0,88.0,173.0,100.0,86.0,107.0,95.0,116.0,143.0,90.0,347.0,109.0,110.0,105.0,96.0,105.0,100.0,116.0,98.0,100.0,111.0,148.0,95.0,92.0,101.0,89.0,89.0,103.0,140.0,105.0,94.0,132.0,97.0,79.0,82.0,111.0,83.0,102.0,97.0,108.0,88.0,87.0,98.0,99.0,99.0,104.0,103.0,103.0,94.0,99.0,103.0,102.0,112.0,103.0,77.0,88.0,167.0,92.0,165.0,118.0,82.0,98.0,97.0,115.0,124.0,127.0,94.0,97.0,106.0,87.0,110.0,98.0,103.0,79.0,80.0,105.0,92.0,98.0,89.0,80.0,91.0,104.0,94.0,94.0,93.0,94.0,91.0,79.0,111.0,101.0,89.0,111.0,106.0,113.0,92.0,104.0,104.0,90.0,94.0,230.0,100.0,110.0,119.0,102.0,108.0,85.0,113.0,88.0,97.0,106.0,85.0,92.0,95.0,87.0,97.0,113.0,103.0,86.0,116.0,92.0,82.0,159.0,114.0,161.0,98.0,83.0,97.0,100.0,105.0,91.0,99.0,89.0,93.0,123.0,95.0,94.0,98.0,93.0,98.0,103.0,86.0,70.0,96.0,91.0,133.0,77.0,73.0,75.0,106.0,91.0,121.0,88.0,85.0,177.0,101.0,79.0,85.0,97.0,114.0,90.0,102.0,76.0,101.0,116.0,99.0,84.0,147.0,109.0,86.0,78.0,99.0,101.0,123.0,97.0,99.0,107.0,85.0,82.0,88.0,110.0,105.0,98.0,103.0,103.0,80.0,102.0,119.0,92.0,105.0,87.0,92.0,103.0,97.0,107.0,82.0,81.0,143.0,117.0,99.0,99.0,90.0,120.0,95.0,97.0,99.0,126.0,93.0,140.0,67.0,110.0,106.0,101.0,95.0,90.0,105.0,78.0,83.0,89.0,95.0,101.0,90.0,98.0,89.0,166.0,86.0,71.0,88.0,99.0,87.0,97.0,115.0,92.0,93.0,103.0,92.0,99.0,173.0,76.0,85.0,109.0,93.0,92.0,93.0,102.0,94.0,97.0,90.0,92.0,100.0,99.0,85.0,97.0,90.0,106.0,95.0,107.0,87.0,91.0,147.0,96.0,91.0,86.0,211.0,98.0,92.0,88.0,98.0,93.0,93.0,88.0,103.0,123.0,98.0,93.0,86.0,77.0,122.0,98.0,97.0,98.0,101.0,110.0,95.0,70.0,97.0,94.0,91.0,86.0,94.0,96.0,104.0,90.0,94.0,80.0,100.0,92.0,103.0,91.0,109.0,104.0,101.0,73.0,96.0,100.0,139.0,95.0,106.0,85.0,107.0,92.0,141.0,113.0,97.0,93.0,98.0,90.0,80.0,89.0,94.0,98.0,90.0,99.0,143.0,96.0,86.0,94.0,73.0,120.0,150.0,100.0,97.0,97.0,104.0,85.0,88.0,95.0,89.0,104.0,93.0,90.0,90.0,94.0,120.0,93.0,89.0,120.0,94.0,86.0,94.0,101.0,80.0,188.0,101.0,109.0,95.0,91.0,89.0,81.0,90.0,209.0,86.0,168.0,102.0,104.0,83.0,91.0,118.0,92.0,85.0,162.0,111.0,100.0,96.0,117.0,86.0,93.0,110.0,86.0,123.0,107.0,99.0,91.0,91.0,85.0,84.0,108.0,90.0,94.0,91.0,97.0,107.0,85.0,111.0,84.0,82.0,82.0,109.0,95.0,89.0,100.0,122.0,118.0,129.0,100.0,90.0,114.0,109.0,104.0,95.0,91.0,100.0,83.0,102.0,102.0,117.0,84.0,81.0,102.0,98.0,110.0,103.0,100.0,142.0,98.0,86.0,92.0,118.0,92.0,97.0,92.0,109.0,101.0,85.0,106.0,88.0,77.0,100.0,95.0,115.0,105.0,94.0,106.0,90.0,93.0,126.0,111.0,123.0,109.0,114.0,103.0,89.0,91.0,96.0,99.0,85.0,97.0,96.0,76.0,102.0,78.0,110.0,75.0,97.0,99.0,76.0,102.0,92.0,88.0,91.0,110.0,88.0,95.0,86.0,103.0,101.0,101.0,107.0,91.0,82.0,101.0,102.0,182.0,102.0,100.0,136.0,104.0,72.0,85.0,91.0,94.0,99.0,78.0,106.0,115.0,89.0,97.0,88.0,91.0,95.0,89.0,125.0,83.0,109.0,95.0,146.0,89.0,123.0,90.0,188.0,89.0,105.0,78.0,95.0,90.0,93.0,105.0,89.0,90.0,71.0,92.0,104.0,102.0,90.0,103.0,85.0,104.0,91.0,100.0,101.0,96.0,91.0,84.0,88.0,92.0,101.0,87.0,91.0,84.0,134.0,94.0,95.0,101.0,96.0,85.0,102.0,107.0,96.0,106.0,87.0,79.0,87.0,97.0,140.0,97.0,89.0,152.0,80.0,118.0,89.0,105.0,97.0,87.0,170.0,115.0,117.0,88.0,106.0,102.0,89.0,97.0,98.0,90.0,75.0,180.0,90.0,113.0,100.0,108.0,98.0,89.0,89.0,91.0,94.0,81.0,93.0,95.0,108.0,89.0,114.0,91.0,144.0,86.0,98.0,91.0,122.0,80.0,129.0,83.0,102.0,104.0,93.0,114.0,78.0,80.0,82.0,119.0,90.0,77.0,95.0,106.0,85.0,79.0,142.0,110.0,101.0,89.0,103.0,98.0,88.0,102.0,104.0,105.0,175.0,104.0,130.0,199.0,97.0,82.0,84.0,88.0,96.0,104.0,98.0,98.0,87.0,138.0,110.0,99.0,93.0,93.0,86.0,89.0,92.0,99.0,117.0,87.0,99.0,100.0,94.0,70.0,114.0,101.0,80.0,92.0,102.0,88.0,111.0,88.0,99.0,110.0,87.0,203.0,97.0,80.0,86.0,197.0,86.0,97.0,104.0,107.0,81.0,100.0,106.0,88.0,107.0,102.0,125.0,98.0,113.0,107.0,103.0,96.0,99.0,96.0,90.0,98.0,90.0,96.0,111.0,100.0,113.0,96.0,103.0,121.0,89.0,101.0,98.0,139.0,93.0,93.0,85.0,94.0,88.0,245.0,162.0,100.0,86.0,93.0,114.0,110.0,88.0,86.0,191.0,109.0,91.0,101.0,103.0,89.0,89.0,87.0,94.0,113.0,88.0,82.0,104.0,94.0,96.0,97.0,79.0,106.0,87.0,123.0,121.0,108.0,83.0,98.0,121.0,101.0,110.0,162.0,102.0,97.0,93.0,102.0,90.0,111.0,85.0,99.0,106.0,89.0,103.0,80.0,85.0,89.0,97.0,100.0,100.0,90.0,103.0,111.0,98.0,88.0,101.0,78.0,112.0,101.0,96.0,109.0,93.0,101.0,109.0,85.0,110.0,220.0,101.0,79.0,103.0,125.0,91.0,88.0,107.0,94.0,114.0,104.0,85.0,94.0,107.0,92.0,112.0,92.0,83.0,97.0,94.0,96.0,91.0,100.0,124.0,120.0,99.0,98.0,110.0,104.0,94.0,83.0,104.0,119.0,106.0,97.0,94.0,103.0,116.0,124.0,92.0],\"xaxis\":\"x2\",\"yaxis\":\"y2\",\"type\":\"box\"},{\"alignmentgroup\":\"True\",\"bingroup\":\"x\",\"histnorm\":\"density\",\"hovertemplate\":\"smoking=0<br>fasting blood sugar=%{x}<br>density=%{y}<extra></extra>\",\"legendgroup\":\"0\",\"marker\":{\"color\":\"#EF553B\",\"opacity\":0.5,\"pattern\":{\"shape\":\"\"}},\"name\":\"0\",\"offsetgroup\":\"0\",\"orientation\":\"v\",\"showlegend\":true,\"x\":[96.0,80.0,158.0,101.0,101.0,91.0,93.0,95.0,94.0,82.0,108.0,91.0,89.0,78.0,83.0,97.0,103.0,98.0,115.0,94.0,102.0,86.0,98.0,80.0,99.0,89.0,82.0,97.0,100.0,104.0,136.0,102.0,89.0,126.0,92.0,97.0,92.0,95.0,74.0,106.0,107.0,91.0,117.0,96.0,88.0,108.0,92.0,93.0,99.0,101.0,96.0,102.0,125.0,186.0,100.0,99.0,85.0,97.0,88.0,96.0,95.0,122.0,94.0,94.0,95.0,136.0,103.0,101.0,83.0,91.0,91.0,85.0,96.0,96.0,92.0,139.0,99.0,95.0,109.0,93.0,97.0,137.0,96.0,102.0,85.0,103.0,86.0,79.0,82.0,94.0,103.0,87.0,87.0,95.0,98.0,86.0,81.0,82.0,96.0,124.0,95.0,94.0,103.0,108.0,91.0,96.0,101.0,107.0,107.0,103.0,96.0,100.0,88.0,99.0,109.0,130.0,93.0,106.0,102.0,96.0,106.0,100.0,79.0,84.0,97.0,84.0,95.0,86.0,101.0,95.0,89.0,104.0,98.0,87.0,92.0,89.0,92.0,97.0,85.0,101.0,99.0,95.0,99.0,98.0,114.0,76.0,91.0,81.0,94.0,102.0,101.0,90.0,96.0,95.0,90.0,103.0,84.0,87.0,97.0,108.0,92.0,92.0,114.0,112.0,90.0,113.0,89.0,92.0,97.0,86.0,98.0,92.0,100.0,103.0,94.0,93.0,102.0,86.0,108.0,129.0,101.0,126.0,106.0,83.0,96.0,81.0,111.0,82.0,104.0,94.0,92.0,86.0,101.0,108.0,88.0,104.0,103.0,88.0,86.0,87.0,92.0,103.0,105.0,132.0,97.0,129.0,103.0,87.0,104.0,86.0,93.0,83.0,85.0,90.0,95.0,109.0,113.0,89.0,92.0,111.0,112.0,107.0,84.0,106.0,165.0,86.0,100.0,89.0,87.0,87.0,94.0,94.0,109.0,108.0,95.0,122.0,86.0,157.0,89.0,87.0,93.0,87.0,110.0,89.0,95.0,95.0,97.0,80.0,87.0,87.0,100.0,90.0,97.0,102.0,102.0,96.0,99.0,96.0,84.0,107.0,87.0,99.0,118.0,103.0,103.0,116.0,87.0,90.0,86.0,104.0,88.0,88.0,122.0,75.0,86.0,94.0,85.0,132.0,110.0,83.0,100.0,127.0,97.0,89.0,83.0,102.0,94.0,95.0,91.0,92.0,93.0,105.0,100.0,98.0,82.0,106.0,90.0,99.0,96.0,99.0,77.0,116.0,89.0,92.0,96.0,83.0,99.0,102.0,88.0,91.0,91.0,100.0,104.0,94.0,206.0,95.0,90.0,86.0,114.0,83.0,101.0,102.0,88.0,90.0,118.0,93.0,64.0,97.0,101.0,93.0,88.0,101.0,99.0,96.0,109.0,92.0,100.0,87.0,72.0,101.0,111.0,84.0,110.0,107.0,96.0,84.0,82.0,115.0,107.0,98.0,99.0,90.0,82.0,86.0,99.0,87.0,88.0,91.0,81.0,87.0,87.0,93.0,89.0,86.0,102.0,109.0,83.0,102.0,88.0,103.0,100.0,89.0,79.0,90.0,89.0,100.0,95.0,98.0,86.0,89.0,79.0,92.0,129.0,94.0,93.0,80.0,100.0,106.0,86.0,86.0,118.0,89.0,117.0,83.0,98.0,121.0,129.0,96.0,147.0,105.0,88.0,91.0,109.0,113.0,244.0,84.0,83.0,120.0,94.0,96.0,97.0,102.0,107.0,106.0,79.0,86.0,97.0,107.0,97.0,86.0,110.0,102.0,103.0,103.0,93.0,100.0,96.0,106.0,100.0,89.0,97.0,80.0,88.0,114.0,124.0,91.0,108.0,94.0,96.0,107.0,91.0,87.0,100.0,94.0,98.0,89.0,87.0,95.0,108.0,97.0,91.0,99.0,99.0,84.0,101.0,98.0,88.0,107.0,93.0,89.0,80.0,101.0,107.0,98.0,92.0,100.0,89.0,92.0,89.0,129.0,104.0,101.0,82.0,81.0,98.0,112.0,93.0,90.0,102.0,113.0,96.0,148.0,121.0,81.0,113.0,99.0,97.0,94.0,95.0,77.0,80.0,87.0,90.0,97.0,93.0,97.0,115.0,98.0,104.0,86.0,80.0,93.0,87.0,108.0,91.0,76.0,115.0,87.0,109.0,112.0,108.0,87.0,104.0,99.0,90.0,98.0,106.0,87.0,92.0,164.0,99.0,86.0,97.0,95.0,76.0,75.0,103.0,88.0,88.0,98.0,83.0,96.0,144.0,91.0,105.0,99.0,98.0,86.0,99.0,91.0,99.0,91.0,86.0,97.0,88.0,106.0,90.0,101.0,104.0,97.0,100.0,78.0,99.0,103.0,98.0,97.0,96.0,94.0,92.0,98.0,103.0,112.0,187.0,90.0,93.0,95.0,120.0,102.0,100.0,94.0,102.0,102.0,89.0,91.0,100.0,98.0,109.0,91.0,107.0,102.0,96.0,116.0,93.0,86.0,86.0,84.0,87.0,104.0,82.0,87.0,107.0,103.0,88.0,97.0,88.0,123.0,76.0,83.0,89.0,95.0,80.0,87.0,84.0,94.0,90.0,154.0,77.0,85.0,100.0,87.0,109.0,72.0,109.0,100.0,89.0,71.0,94.0,109.0,84.0,96.0,88.0,94.0,85.0,91.0,87.0,77.0,88.0,88.0,110.0,91.0,91.0,87.0,114.0,82.0,124.0,88.0,71.0,97.0,82.0,122.0,98.0,76.0,96.0,95.0,98.0,111.0,79.0,115.0,88.0,97.0,84.0,81.0,86.0,102.0,105.0,89.0,85.0,91.0,113.0,96.0,106.0,102.0,106.0,131.0,100.0,124.0,84.0,83.0,95.0,88.0,102.0,88.0,82.0,93.0,96.0,95.0,105.0,100.0,92.0,84.0,99.0,90.0,101.0,104.0,86.0,77.0,91.0,83.0,98.0,97.0,94.0,101.0,95.0,103.0,86.0,95.0,101.0,102.0,84.0,116.0,88.0,94.0,90.0,90.0,96.0,106.0,84.0,89.0,91.0,82.0,83.0,100.0,143.0,123.0,102.0,98.0,98.0,94.0,84.0,86.0,91.0,93.0,112.0,84.0,187.0,85.0,82.0,94.0,101.0,90.0,106.0,75.0,95.0,93.0,110.0,96.0,102.0,93.0,98.0,89.0,90.0,93.0,79.0,103.0,98.0,97.0,98.0,91.0,88.0,104.0,88.0,93.0,118.0,98.0,90.0,97.0,108.0,99.0,82.0,100.0,112.0,96.0,96.0,99.0,99.0,97.0,92.0,97.0,83.0,87.0,137.0,92.0,73.0,99.0,99.0,98.0,112.0,91.0,92.0,91.0,116.0,129.0,111.0,87.0,96.0,86.0,87.0,108.0,85.0,102.0,84.0,97.0,90.0,108.0,97.0,91.0,99.0,85.0,99.0,92.0,82.0,84.0,124.0,100.0,83.0,93.0,88.0,89.0,94.0,85.0,101.0,95.0,90.0,90.0,89.0,88.0,122.0,106.0,102.0,99.0,100.0,95.0,91.0,88.0,101.0,90.0,84.0,94.0,100.0,89.0,87.0,96.0,77.0,97.0,97.0,132.0,104.0,89.0,73.0,96.0,90.0,105.0,105.0,86.0,95.0,175.0,107.0,102.0,95.0,72.0,88.0,93.0,91.0,117.0,70.0,93.0,88.0,102.0,142.0,83.0,101.0,87.0,111.0,91.0,107.0,98.0,125.0,91.0,108.0,79.0,102.0,97.0,115.0,91.0,109.0,99.0,102.0,99.0,92.0,88.0,93.0,98.0,115.0,83.0,110.0,103.0,87.0,158.0,82.0,102.0,97.0,98.0,92.0,98.0,127.0,115.0,83.0,98.0,95.0,89.0,90.0,72.0,101.0,104.0,54.0,84.0,100.0,102.0,98.0,83.0,86.0,128.0,81.0,92.0,90.0,103.0,89.0,106.0,93.0,109.0,97.0,105.0,95.0,106.0,83.0,93.0,103.0,88.0,110.0,86.0,114.0,85.0,76.0,125.0,103.0,96.0,84.0,89.0,111.0,86.0,88.0,97.0,95.0,81.0,89.0,97.0,88.0,88.0,91.0,92.0,93.0,83.0,102.0,95.0,133.0,91.0,107.0,88.0,84.0,101.0,89.0,93.0,87.0,97.0,105.0,88.0,94.0,89.0,92.0,99.0,102.0,84.0,90.0,82.0,94.0,96.0,91.0,87.0,110.0,102.0,82.0,92.0,104.0,99.0,87.0,110.0,108.0,83.0,138.0,92.0,93.0,90.0,92.0,132.0,88.0,92.0,101.0,88.0,73.0,96.0,103.0,105.0,102.0,107.0,85.0,103.0,96.0,79.0,93.0,102.0,83.0,87.0,89.0,81.0,134.0,97.0,83.0,87.0,99.0,137.0,104.0,119.0,187.0,85.0,101.0,79.0,96.0,91.0,117.0,88.0,101.0,89.0,105.0,125.0,143.0,91.0,89.0,87.0,94.0,121.0,86.0,140.0,70.0,81.0,76.0,95.0,92.0,92.0,94.0,152.0,86.0,76.0,90.0,78.0,93.0,101.0,91.0,96.0,100.0,94.0,115.0,89.0,91.0,104.0,91.0,105.0,131.0,97.0,110.0,101.0,85.0,100.0,163.0,89.0,90.0,89.0,84.0,90.0,97.0,86.0,90.0,96.0,120.0,83.0,83.0,103.0,88.0,89.0,106.0,83.0,101.0,118.0,98.0,122.0,110.0,124.0,103.0,88.0,88.0,154.0,79.0,90.0,88.0,99.0,93.0,96.0,100.0,106.0,95.0,102.0,108.0,98.0,85.0,98.0,86.0,157.0,138.0,95.0,89.0,98.0,103.0,93.0,76.0,96.0,107.0,110.0,84.0,115.0,95.0,83.0,120.0,93.0,90.0,90.0,78.0,88.0,83.0,97.0,95.0,96.0,88.0,110.0,92.0,90.0,101.0,87.0,94.0,104.0,108.0,95.0,93.0,92.0,98.0,108.0,112.0,83.0,96.0,85.0,137.0,91.0,82.0,111.0,92.0,101.0,112.0,125.0,88.0,145.0,111.0,81.0,90.0,96.0,94.0,97.0,73.0,135.0,75.0,97.0,115.0,88.0,125.0,85.0,98.0,93.0,97.0,89.0,93.0,94.0,99.0,108.0,110.0,83.0,126.0,85.0,84.0,95.0,77.0,92.0,90.0,101.0,105.0,86.0,89.0,83.0,95.0,81.0,90.0,104.0,117.0,85.0,93.0,102.0,84.0,111.0,99.0,91.0,104.0,102.0,136.0,85.0,78.0,94.0,104.0,91.0,92.0,96.0,91.0,82.0,103.0,93.0,94.0,92.0,104.0,99.0,134.0,85.0,89.0,77.0,91.0,89.0,91.0,88.0,92.0,98.0,115.0,114.0,89.0,101.0,93.0,114.0,97.0,156.0,150.0,90.0,89.0,101.0,96.0,87.0,85.0,87.0,96.0,105.0,93.0,143.0,89.0,95.0,100.0,114.0,76.0,108.0,64.0,275.0,93.0,108.0,101.0,108.0,90.0,101.0,114.0,99.0,82.0,92.0,100.0,108.0,96.0,108.0,76.0,105.0,93.0,86.0,117.0,92.0,92.0,105.0,93.0,87.0,85.0,78.0,89.0,101.0,98.0,98.0,83.0,115.0,93.0,93.0,102.0,92.0,92.0,94.0,104.0,90.0,96.0,91.0,112.0,110.0,85.0,111.0,97.0,95.0,98.0,92.0,85.0,104.0,89.0,105.0,85.0,97.0,92.0,86.0,90.0,99.0,85.0,89.0,90.0,87.0,105.0,94.0,88.0,101.0,84.0,86.0,105.0,97.0,103.0,79.0,91.0,93.0,100.0,86.0,79.0,98.0,91.0,110.0,93.0,91.0,84.0,102.0,85.0,85.0,83.0,99.0,86.0,97.0,106.0,96.0,94.0,93.0,88.0,99.0,98.0,86.0,85.0,104.0,113.0,95.0,93.0,93.0,100.0,95.0,105.0,96.0,97.0,74.0,96.0,101.0,80.0,99.0,228.0,95.0,96.0,97.0,102.0,95.0,81.0,82.0,99.0,94.0,100.0,122.0,80.0,90.0,90.0,164.0,102.0,85.0,120.0,96.0,110.0,94.0,115.0,93.0,101.0,88.0,102.0,86.0,80.0,91.0,114.0,89.0,112.0,105.0,101.0,184.0,97.0,98.0,86.0,119.0,97.0,71.0,97.0,93.0,104.0,90.0,200.0,99.0,97.0,88.0,121.0,97.0,99.0,139.0,104.0,99.0,91.0,139.0,93.0,91.0,91.0,104.0,102.0,96.0,84.0,83.0,97.0,109.0,94.0,102.0,91.0,89.0,92.0,98.0,87.0,102.0,93.0,94.0,99.0,102.0,91.0,123.0,93.0,94.0,109.0,91.0,93.0,102.0,101.0,81.0,114.0,95.0,83.0,88.0,83.0,119.0,97.0,90.0,88.0,94.0,101.0,256.0,106.0,82.0,112.0,101.0,239.0,90.0,88.0,94.0,104.0,106.0,102.0,86.0,93.0,87.0,77.0,78.0,78.0,107.0,90.0,106.0,85.0,98.0,83.0,81.0,115.0,89.0,98.0,94.0,91.0,69.0,100.0,90.0,93.0,71.0,96.0,87.0,80.0,113.0,115.0,91.0,100.0,102.0,93.0,84.0,111.0,81.0,95.0,92.0,83.0,107.0,93.0,117.0,77.0,86.0,108.0,96.0,85.0,87.0,102.0,106.0,98.0,100.0,90.0,93.0,93.0,107.0,88.0,78.0,85.0,92.0,92.0,95.0,81.0,91.0,131.0,95.0,75.0,84.0,80.0,75.0,103.0,92.0,71.0,91.0,84.0,88.0,84.0,94.0,83.0,97.0,106.0,101.0,93.0,99.0,111.0,92.0,112.0,89.0,106.0,88.0,102.0,103.0,87.0,93.0,89.0,96.0,92.0,89.0,101.0,93.0,97.0,89.0,87.0,135.0,76.0,89.0,88.0,84.0,96.0,114.0,94.0,142.0,96.0,92.0,84.0,96.0,97.0,74.0,106.0,89.0,92.0,83.0,84.0,101.0,92.0,102.0,87.0,94.0,90.0,86.0,97.0,74.0,102.0,91.0,92.0,78.0,96.0,100.0,92.0,95.0,85.0,104.0,101.0,93.0,93.0,80.0,80.0,87.0,84.0,86.0,92.0,92.0,110.0,83.0,92.0,111.0,113.0,96.0,89.0,106.0,99.0,90.0,90.0,97.0,109.0,86.0,92.0,95.0,97.0,99.0,91.0,92.0,100.0,79.0,88.0,94.0,84.0,104.0,91.0,97.0,95.0,109.0,92.0,109.0,109.0,117.0,95.0,81.0,91.0,113.0,92.0,182.0,84.0,104.0,105.0,111.0,129.0,110.0,90.0,97.0,98.0,94.0,98.0,102.0,89.0,93.0,121.0,78.0,150.0,84.0,85.0,104.0,74.0,94.0,92.0,94.0,95.0,86.0,90.0,99.0,86.0,92.0,94.0,91.0,79.0,104.0,97.0,95.0,110.0,91.0,80.0,82.0,91.0,105.0,96.0,117.0,97.0,96.0,100.0,82.0,88.0,106.0,85.0,90.0,82.0,100.0,91.0,90.0,87.0,106.0,77.0,95.0,94.0,102.0,144.0,112.0,115.0,97.0,136.0,89.0,95.0,87.0,83.0,103.0,97.0,97.0,90.0,93.0,108.0,111.0,120.0,105.0,104.0,102.0,90.0,84.0,99.0,252.0,81.0,97.0,91.0,88.0,92.0,79.0,92.0,104.0,100.0,83.0,112.0,154.0,91.0,89.0,92.0,84.0,86.0,101.0,131.0,86.0,83.0,103.0,97.0,100.0,105.0,87.0,97.0,85.0,92.0,99.0,94.0,105.0,87.0,110.0,88.0,113.0,98.0,132.0,82.0,102.0,102.0,83.0,97.0,88.0,96.0,98.0,88.0,90.0,105.0,87.0,60.0,98.0,92.0,85.0,113.0,112.0,102.0,88.0,102.0,79.0,96.0,100.0,98.0,93.0,103.0,96.0,81.0,82.0,90.0,100.0,98.0,113.0,98.0,105.0,89.0,84.0,96.0,90.0,94.0,87.0,110.0,89.0,80.0,93.0,91.0,91.0,87.0,94.0,82.0,109.0,139.0,85.0,80.0,91.0,103.0,96.0,82.0,115.0,101.0,96.0,118.0,92.0,83.0,82.0,89.0,91.0,91.0,91.0,97.0,96.0,94.0,93.0,103.0,84.0,91.0,102.0,93.0,103.0,78.0,103.0,91.0,100.0,104.0,97.0,82.0,94.0,106.0,96.0,86.0,91.0,103.0,98.0,123.0,94.0,84.0,96.0,90.0,84.0,74.0,87.0,96.0,97.0,99.0,131.0,103.0,100.0,88.0,97.0,79.0,82.0,88.0,112.0,131.0,74.0,91.0,129.0,100.0,86.0,108.0,94.0,97.0,85.0,93.0,93.0,81.0,90.0,92.0,93.0,90.0,90.0,105.0,90.0,95.0,82.0,91.0,95.0,88.0,83.0,84.0,102.0,92.0,105.0,97.0,102.0,87.0,98.0,82.0,90.0,99.0,84.0,86.0,108.0,119.0,96.0,104.0,83.0,104.0,96.0,114.0,90.0,103.0,108.0,90.0,102.0,90.0,91.0,88.0,102.0,94.0,122.0,96.0,156.0,106.0,95.0,100.0,112.0,91.0,65.0,89.0,102.0,92.0,93.0,94.0,128.0,77.0,92.0,104.0,88.0,87.0,91.0,95.0,106.0,72.0,92.0,139.0,99.0,97.0,86.0,97.0,90.0,101.0,98.0,82.0,94.0,103.0,97.0,215.0,86.0,83.0,86.0,88.0,75.0,102.0,86.0,103.0,97.0,86.0,88.0,102.0,85.0,94.0,94.0,95.0,117.0,92.0,97.0,90.0,114.0,86.0,99.0,64.0,101.0,72.0,88.0,119.0,88.0,106.0,93.0,98.0,93.0,92.0,104.0,128.0,99.0,93.0,120.0,88.0,103.0,99.0,103.0,74.0,86.0,79.0,148.0,95.0,93.0,106.0,84.0,83.0,97.0,109.0,100.0,96.0,91.0,97.0,94.0,115.0,114.0,86.0,88.0,94.0,98.0,86.0,96.0,95.0,85.0,93.0,88.0,77.0,86.0,95.0,94.0,103.0,107.0,92.0,93.0,91.0,93.0,89.0,86.0,103.0,88.0,86.0,99.0,94.0,88.0,80.0,95.0,93.0,108.0,87.0,107.0,95.0,87.0,96.0,94.0,97.0,93.0,106.0,97.0,87.0,99.0,203.0,98.0,91.0,93.0,120.0,89.0,88.0,84.0,66.0,89.0,85.0,86.0,97.0,95.0,88.0,88.0,172.0,96.0,100.0,78.0,99.0,98.0,83.0,110.0,93.0,86.0,96.0,77.0,94.0,89.0,110.0,85.0,103.0,89.0,88.0,92.0,105.0,78.0,104.0,107.0,102.0,107.0,89.0,93.0,95.0,92.0,106.0,93.0,94.0,89.0,103.0,185.0,68.0,112.0,103.0,102.0,95.0,100.0,81.0,94.0,100.0,97.0,104.0,86.0,94.0,98.0,82.0,79.0,80.0,89.0,94.0,85.0,101.0,95.0,85.0,102.0,97.0,99.0,113.0,91.0,104.0,84.0,89.0,103.0,95.0,101.0,83.0,99.0,84.0,96.0,126.0,98.0,80.0,167.0,90.0,86.0,144.0,94.0,95.0,92.0,90.0,87.0,124.0,100.0,92.0,99.0,96.0,99.0,81.0,85.0,81.0,115.0,98.0,108.0,86.0,86.0,102.0,99.0,81.0,148.0,102.0,95.0,114.0,88.0,95.0,77.0,98.0,115.0,87.0,100.0,86.0,104.0,95.0,98.0,110.0,120.0,87.0,90.0,101.0,89.0,109.0,94.0,87.0,115.0,97.0,95.0,90.0,100.0,88.0,93.0,99.0,80.0,88.0,79.0,107.0,113.0,99.0,111.0,117.0,87.0,97.0,86.0,101.0,80.0,90.0,87.0,96.0,116.0,85.0,130.0,87.0,103.0,105.0,93.0,102.0,92.0,96.0,92.0,112.0,94.0,83.0,88.0,92.0,101.0,99.0,160.0,96.0,95.0,82.0,81.0,83.0,99.0,106.0,100.0,112.0,90.0,95.0,97.0,77.0,139.0,95.0,93.0,93.0,109.0,98.0,86.0,78.0,94.0,86.0,77.0,129.0,78.0,79.0,113.0,279.0,75.0,93.0,94.0,125.0,87.0,86.0,92.0,87.0,96.0,93.0,99.0,99.0,90.0,138.0,94.0,80.0,104.0,72.0,91.0,89.0,108.0,89.0,107.0,106.0,94.0,93.0,86.0,96.0,101.0,91.0,94.0,159.0,84.0,90.0,99.0,108.0,100.0,92.0,97.0,91.0,93.0,83.0,79.0,91.0,97.0,79.0,105.0,111.0,89.0,81.0,101.0,103.0,102.0,76.0,111.0,100.0,97.0,100.0,94.0,104.0,115.0,91.0,108.0,86.0,95.0,106.0,86.0,97.0,94.0,106.0,109.0,97.0,92.0,80.0,91.0,93.0,98.0,92.0,135.0,177.0,94.0,73.0,96.0,148.0,112.0,117.0,97.0,116.0,107.0,95.0,73.0,98.0,87.0,99.0,108.0,100.0,97.0,86.0,85.0,86.0,96.0,97.0,86.0,100.0,93.0,99.0,277.0,104.0,102.0,79.0,97.0,95.0,103.0,90.0,108.0,110.0,116.0,128.0,119.0,96.0,101.0,88.0,90.0,107.0,101.0,107.0,141.0,97.0,107.0,105.0,94.0,104.0,95.0,116.0,108.0,160.0,110.0,87.0,97.0,96.0,86.0,106.0,89.0,98.0,90.0,90.0,82.0,70.0,96.0,91.0,93.0,86.0,113.0,90.0,101.0,91.0,94.0,100.0,94.0,99.0,79.0,98.0,90.0,135.0,101.0,121.0,97.0,100.0,97.0,135.0,98.0,241.0,84.0,100.0,82.0,108.0,74.0,91.0,99.0,104.0,100.0,80.0,93.0,90.0,90.0,118.0,101.0,101.0,98.0,95.0,129.0,99.0,90.0,104.0,136.0,131.0,90.0,89.0,71.0,84.0,110.0,91.0,123.0,90.0,85.0,82.0,94.0,92.0,92.0,108.0,105.0,81.0,98.0,109.0,90.0,107.0,92.0,83.0,79.0,100.0,79.0,90.0,91.0,91.0,92.0,76.0,123.0,93.0,111.0,101.0,97.0,109.0,87.0,106.0,130.0,89.0,91.0,90.0,97.0,100.0,92.0,111.0,92.0,102.0,89.0,89.0,103.0,96.0,90.0,84.0,93.0,86.0,92.0,100.0,97.0,123.0,120.0,98.0,100.0,99.0,106.0,92.0,88.0,91.0,91.0,108.0,93.0,93.0,110.0,98.0,93.0,131.0,89.0,100.0,84.0,88.0,92.0,87.0,103.0,89.0,112.0,91.0,92.0,96.0,91.0,95.0,97.0,83.0,88.0,87.0,109.0,95.0,108.0,122.0,97.0,76.0,142.0,105.0,100.0,84.0,83.0,101.0,100.0,94.0,89.0,102.0,98.0,91.0,118.0,198.0,84.0,92.0,89.0,114.0,91.0,84.0,113.0,98.0,80.0,95.0,149.0,91.0,85.0,95.0,96.0,87.0,74.0,116.0,88.0,88.0,271.0,80.0,80.0,99.0,100.0,278.0,95.0,107.0,89.0,86.0,103.0,107.0,83.0,87.0,92.0,96.0,104.0,103.0,82.0,78.0,94.0,84.0,95.0,91.0,98.0,85.0,115.0,92.0,113.0,94.0,84.0,92.0,77.0,107.0,99.0,73.0,81.0,103.0,98.0,97.0,106.0,96.0,76.0,82.0,107.0,82.0,89.0,102.0,109.0,92.0,79.0,95.0,94.0,89.0,103.0,101.0,85.0,96.0,103.0,206.0,96.0,89.0,90.0,100.0,99.0,113.0,91.0,89.0,75.0,108.0,94.0,77.0,98.0,101.0,99.0,76.0,95.0,84.0,100.0,94.0,89.0,98.0,102.0,98.0,87.0,88.0,128.0,98.0,92.0,114.0,97.0,93.0,112.0,95.0,101.0,113.0,99.0,84.0,97.0,106.0,97.0,96.0,95.0,92.0,112.0,93.0,99.0,102.0,90.0,93.0,101.0,103.0,101.0,124.0,91.0,104.0,97.0,79.0,94.0,75.0,78.0,93.0,106.0,91.0,94.0,96.0,89.0,121.0,83.0,73.0,98.0,103.0,97.0,91.0,89.0,88.0,87.0,91.0,85.0,117.0,97.0,135.0,90.0,91.0,81.0,97.0,92.0,118.0,92.0,87.0,88.0,87.0,105.0,185.0,106.0,115.0,97.0,93.0,92.0,77.0,93.0,91.0,94.0,79.0,101.0,88.0,83.0,125.0,95.0,103.0,87.0,91.0,102.0,103.0,90.0,91.0,98.0,90.0,84.0,114.0,91.0,101.0,91.0,94.0,120.0,91.0,99.0,112.0,106.0,97.0,78.0,104.0,95.0,88.0,97.0,99.0,99.0,116.0,96.0,111.0,75.0,100.0,95.0,77.0,99.0,96.0,177.0,89.0,94.0,103.0,147.0,101.0,100.0,98.0,82.0,99.0,85.0,92.0,90.0,82.0,105.0,102.0,99.0,115.0,102.0,100.0,110.0,97.0,77.0,106.0,130.0,85.0,82.0,95.0,96.0,96.0,131.0,89.0,93.0,91.0,91.0,96.0,101.0,100.0,104.0,84.0,107.0,89.0,95.0,104.0,107.0,134.0,80.0,104.0,130.0,85.0,84.0,89.0,110.0,101.0,92.0,91.0,89.0,104.0,86.0,126.0,88.0,82.0,95.0,88.0,90.0,96.0,123.0,88.0,88.0,90.0,88.0,82.0,95.0,99.0,96.0,96.0,93.0,87.0,100.0,112.0,99.0,183.0,88.0,103.0,99.0,102.0,90.0,74.0,77.0,99.0,81.0,211.0,107.0,132.0,138.0,243.0,88.0,98.0,88.0,81.0,108.0,97.0,75.0,80.0,101.0,95.0,95.0,97.0,92.0,103.0,86.0,99.0,114.0,109.0,111.0,92.0,96.0,99.0,91.0,97.0,143.0,96.0,96.0,112.0,95.0,94.0,120.0,85.0,83.0,110.0,90.0,106.0,128.0,94.0,95.0,101.0,113.0,101.0,104.0,111.0,112.0,77.0,87.0,104.0,94.0,133.0,82.0,92.0,83.0,86.0,100.0,103.0,96.0,86.0,107.0,119.0,99.0,97.0,93.0,107.0,106.0,91.0,114.0,114.0,103.0,89.0,91.0,94.0,141.0,77.0,73.0,106.0,108.0,101.0,94.0,99.0,87.0,93.0,313.0,79.0,114.0,84.0,99.0,87.0,98.0,94.0,94.0,91.0,81.0,92.0,91.0,97.0,113.0,135.0,92.0,97.0,84.0,93.0,80.0,85.0,89.0,94.0,113.0,117.0,87.0,76.0,83.0,97.0,120.0,96.0,85.0,100.0,86.0,149.0,100.0,93.0,89.0,107.0,78.0,85.0,73.0,94.0,91.0,98.0,96.0,99.0,86.0,104.0,210.0,101.0,86.0,93.0,94.0,90.0,81.0,103.0,106.0,98.0,75.0,88.0,93.0,132.0,96.0,97.0,110.0,101.0,96.0,91.0,94.0,96.0,82.0,98.0,97.0,84.0,91.0,98.0,104.0,94.0,76.0,92.0,82.0,104.0,90.0,86.0,102.0,110.0,92.0,84.0,92.0,113.0,84.0,99.0,91.0,175.0,103.0,104.0,90.0,100.0,91.0,89.0,85.0,104.0,118.0,94.0,96.0,101.0,85.0,107.0,91.0,82.0,98.0,112.0,97.0,97.0,97.0,91.0,82.0,98.0,80.0,103.0,85.0,99.0,92.0,90.0,81.0,105.0,90.0,83.0,88.0,87.0,88.0,79.0,92.0,120.0,92.0,93.0,91.0,83.0,96.0,90.0,88.0,98.0,114.0,70.0,93.0,102.0,90.0,71.0,104.0,126.0,83.0,88.0,118.0,94.0,97.0,104.0,94.0,92.0,82.0,89.0,105.0,95.0,94.0,94.0,91.0,105.0,164.0,98.0,108.0,92.0,96.0,104.0,85.0,101.0,89.0,164.0,95.0,91.0,87.0,137.0,88.0,164.0,95.0,104.0,99.0,86.0,81.0,96.0,92.0,98.0,94.0,101.0,113.0,96.0,99.0,93.0,98.0,127.0,80.0,106.0,93.0,82.0,99.0,100.0,105.0,91.0,73.0,95.0,99.0,89.0,101.0,88.0,73.0,120.0,90.0,117.0,82.0,103.0,100.0,97.0,79.0,107.0,86.0,143.0,94.0,100.0,86.0,97.0,78.0,86.0,94.0,116.0],\"xaxis\":\"x\",\"yaxis\":\"y\",\"type\":\"histogram\"},{\"alignmentgroup\":\"True\",\"hovertemplate\":\"smoking=0<br>fasting blood sugar=%{x}<extra></extra>\",\"legendgroup\":\"0\",\"marker\":{\"color\":\"#EF553B\"},\"name\":\"0\",\"notched\":true,\"offsetgroup\":\"0\",\"showlegend\":false,\"x\":[96.0,80.0,158.0,101.0,101.0,91.0,93.0,95.0,94.0,82.0,108.0,91.0,89.0,78.0,83.0,97.0,103.0,98.0,115.0,94.0,102.0,86.0,98.0,80.0,99.0,89.0,82.0,97.0,100.0,104.0,136.0,102.0,89.0,126.0,92.0,97.0,92.0,95.0,74.0,106.0,107.0,91.0,117.0,96.0,88.0,108.0,92.0,93.0,99.0,101.0,96.0,102.0,125.0,186.0,100.0,99.0,85.0,97.0,88.0,96.0,95.0,122.0,94.0,94.0,95.0,136.0,103.0,101.0,83.0,91.0,91.0,85.0,96.0,96.0,92.0,139.0,99.0,95.0,109.0,93.0,97.0,137.0,96.0,102.0,85.0,103.0,86.0,79.0,82.0,94.0,103.0,87.0,87.0,95.0,98.0,86.0,81.0,82.0,96.0,124.0,95.0,94.0,103.0,108.0,91.0,96.0,101.0,107.0,107.0,103.0,96.0,100.0,88.0,99.0,109.0,130.0,93.0,106.0,102.0,96.0,106.0,100.0,79.0,84.0,97.0,84.0,95.0,86.0,101.0,95.0,89.0,104.0,98.0,87.0,92.0,89.0,92.0,97.0,85.0,101.0,99.0,95.0,99.0,98.0,114.0,76.0,91.0,81.0,94.0,102.0,101.0,90.0,96.0,95.0,90.0,103.0,84.0,87.0,97.0,108.0,92.0,92.0,114.0,112.0,90.0,113.0,89.0,92.0,97.0,86.0,98.0,92.0,100.0,103.0,94.0,93.0,102.0,86.0,108.0,129.0,101.0,126.0,106.0,83.0,96.0,81.0,111.0,82.0,104.0,94.0,92.0,86.0,101.0,108.0,88.0,104.0,103.0,88.0,86.0,87.0,92.0,103.0,105.0,132.0,97.0,129.0,103.0,87.0,104.0,86.0,93.0,83.0,85.0,90.0,95.0,109.0,113.0,89.0,92.0,111.0,112.0,107.0,84.0,106.0,165.0,86.0,100.0,89.0,87.0,87.0,94.0,94.0,109.0,108.0,95.0,122.0,86.0,157.0,89.0,87.0,93.0,87.0,110.0,89.0,95.0,95.0,97.0,80.0,87.0,87.0,100.0,90.0,97.0,102.0,102.0,96.0,99.0,96.0,84.0,107.0,87.0,99.0,118.0,103.0,103.0,116.0,87.0,90.0,86.0,104.0,88.0,88.0,122.0,75.0,86.0,94.0,85.0,132.0,110.0,83.0,100.0,127.0,97.0,89.0,83.0,102.0,94.0,95.0,91.0,92.0,93.0,105.0,100.0,98.0,82.0,106.0,90.0,99.0,96.0,99.0,77.0,116.0,89.0,92.0,96.0,83.0,99.0,102.0,88.0,91.0,91.0,100.0,104.0,94.0,206.0,95.0,90.0,86.0,114.0,83.0,101.0,102.0,88.0,90.0,118.0,93.0,64.0,97.0,101.0,93.0,88.0,101.0,99.0,96.0,109.0,92.0,100.0,87.0,72.0,101.0,111.0,84.0,110.0,107.0,96.0,84.0,82.0,115.0,107.0,98.0,99.0,90.0,82.0,86.0,99.0,87.0,88.0,91.0,81.0,87.0,87.0,93.0,89.0,86.0,102.0,109.0,83.0,102.0,88.0,103.0,100.0,89.0,79.0,90.0,89.0,100.0,95.0,98.0,86.0,89.0,79.0,92.0,129.0,94.0,93.0,80.0,100.0,106.0,86.0,86.0,118.0,89.0,117.0,83.0,98.0,121.0,129.0,96.0,147.0,105.0,88.0,91.0,109.0,113.0,244.0,84.0,83.0,120.0,94.0,96.0,97.0,102.0,107.0,106.0,79.0,86.0,97.0,107.0,97.0,86.0,110.0,102.0,103.0,103.0,93.0,100.0,96.0,106.0,100.0,89.0,97.0,80.0,88.0,114.0,124.0,91.0,108.0,94.0,96.0,107.0,91.0,87.0,100.0,94.0,98.0,89.0,87.0,95.0,108.0,97.0,91.0,99.0,99.0,84.0,101.0,98.0,88.0,107.0,93.0,89.0,80.0,101.0,107.0,98.0,92.0,100.0,89.0,92.0,89.0,129.0,104.0,101.0,82.0,81.0,98.0,112.0,93.0,90.0,102.0,113.0,96.0,148.0,121.0,81.0,113.0,99.0,97.0,94.0,95.0,77.0,80.0,87.0,90.0,97.0,93.0,97.0,115.0,98.0,104.0,86.0,80.0,93.0,87.0,108.0,91.0,76.0,115.0,87.0,109.0,112.0,108.0,87.0,104.0,99.0,90.0,98.0,106.0,87.0,92.0,164.0,99.0,86.0,97.0,95.0,76.0,75.0,103.0,88.0,88.0,98.0,83.0,96.0,144.0,91.0,105.0,99.0,98.0,86.0,99.0,91.0,99.0,91.0,86.0,97.0,88.0,106.0,90.0,101.0,104.0,97.0,100.0,78.0,99.0,103.0,98.0,97.0,96.0,94.0,92.0,98.0,103.0,112.0,187.0,90.0,93.0,95.0,120.0,102.0,100.0,94.0,102.0,102.0,89.0,91.0,100.0,98.0,109.0,91.0,107.0,102.0,96.0,116.0,93.0,86.0,86.0,84.0,87.0,104.0,82.0,87.0,107.0,103.0,88.0,97.0,88.0,123.0,76.0,83.0,89.0,95.0,80.0,87.0,84.0,94.0,90.0,154.0,77.0,85.0,100.0,87.0,109.0,72.0,109.0,100.0,89.0,71.0,94.0,109.0,84.0,96.0,88.0,94.0,85.0,91.0,87.0,77.0,88.0,88.0,110.0,91.0,91.0,87.0,114.0,82.0,124.0,88.0,71.0,97.0,82.0,122.0,98.0,76.0,96.0,95.0,98.0,111.0,79.0,115.0,88.0,97.0,84.0,81.0,86.0,102.0,105.0,89.0,85.0,91.0,113.0,96.0,106.0,102.0,106.0,131.0,100.0,124.0,84.0,83.0,95.0,88.0,102.0,88.0,82.0,93.0,96.0,95.0,105.0,100.0,92.0,84.0,99.0,90.0,101.0,104.0,86.0,77.0,91.0,83.0,98.0,97.0,94.0,101.0,95.0,103.0,86.0,95.0,101.0,102.0,84.0,116.0,88.0,94.0,90.0,90.0,96.0,106.0,84.0,89.0,91.0,82.0,83.0,100.0,143.0,123.0,102.0,98.0,98.0,94.0,84.0,86.0,91.0,93.0,112.0,84.0,187.0,85.0,82.0,94.0,101.0,90.0,106.0,75.0,95.0,93.0,110.0,96.0,102.0,93.0,98.0,89.0,90.0,93.0,79.0,103.0,98.0,97.0,98.0,91.0,88.0,104.0,88.0,93.0,118.0,98.0,90.0,97.0,108.0,99.0,82.0,100.0,112.0,96.0,96.0,99.0,99.0,97.0,92.0,97.0,83.0,87.0,137.0,92.0,73.0,99.0,99.0,98.0,112.0,91.0,92.0,91.0,116.0,129.0,111.0,87.0,96.0,86.0,87.0,108.0,85.0,102.0,84.0,97.0,90.0,108.0,97.0,91.0,99.0,85.0,99.0,92.0,82.0,84.0,124.0,100.0,83.0,93.0,88.0,89.0,94.0,85.0,101.0,95.0,90.0,90.0,89.0,88.0,122.0,106.0,102.0,99.0,100.0,95.0,91.0,88.0,101.0,90.0,84.0,94.0,100.0,89.0,87.0,96.0,77.0,97.0,97.0,132.0,104.0,89.0,73.0,96.0,90.0,105.0,105.0,86.0,95.0,175.0,107.0,102.0,95.0,72.0,88.0,93.0,91.0,117.0,70.0,93.0,88.0,102.0,142.0,83.0,101.0,87.0,111.0,91.0,107.0,98.0,125.0,91.0,108.0,79.0,102.0,97.0,115.0,91.0,109.0,99.0,102.0,99.0,92.0,88.0,93.0,98.0,115.0,83.0,110.0,103.0,87.0,158.0,82.0,102.0,97.0,98.0,92.0,98.0,127.0,115.0,83.0,98.0,95.0,89.0,90.0,72.0,101.0,104.0,54.0,84.0,100.0,102.0,98.0,83.0,86.0,128.0,81.0,92.0,90.0,103.0,89.0,106.0,93.0,109.0,97.0,105.0,95.0,106.0,83.0,93.0,103.0,88.0,110.0,86.0,114.0,85.0,76.0,125.0,103.0,96.0,84.0,89.0,111.0,86.0,88.0,97.0,95.0,81.0,89.0,97.0,88.0,88.0,91.0,92.0,93.0,83.0,102.0,95.0,133.0,91.0,107.0,88.0,84.0,101.0,89.0,93.0,87.0,97.0,105.0,88.0,94.0,89.0,92.0,99.0,102.0,84.0,90.0,82.0,94.0,96.0,91.0,87.0,110.0,102.0,82.0,92.0,104.0,99.0,87.0,110.0,108.0,83.0,138.0,92.0,93.0,90.0,92.0,132.0,88.0,92.0,101.0,88.0,73.0,96.0,103.0,105.0,102.0,107.0,85.0,103.0,96.0,79.0,93.0,102.0,83.0,87.0,89.0,81.0,134.0,97.0,83.0,87.0,99.0,137.0,104.0,119.0,187.0,85.0,101.0,79.0,96.0,91.0,117.0,88.0,101.0,89.0,105.0,125.0,143.0,91.0,89.0,87.0,94.0,121.0,86.0,140.0,70.0,81.0,76.0,95.0,92.0,92.0,94.0,152.0,86.0,76.0,90.0,78.0,93.0,101.0,91.0,96.0,100.0,94.0,115.0,89.0,91.0,104.0,91.0,105.0,131.0,97.0,110.0,101.0,85.0,100.0,163.0,89.0,90.0,89.0,84.0,90.0,97.0,86.0,90.0,96.0,120.0,83.0,83.0,103.0,88.0,89.0,106.0,83.0,101.0,118.0,98.0,122.0,110.0,124.0,103.0,88.0,88.0,154.0,79.0,90.0,88.0,99.0,93.0,96.0,100.0,106.0,95.0,102.0,108.0,98.0,85.0,98.0,86.0,157.0,138.0,95.0,89.0,98.0,103.0,93.0,76.0,96.0,107.0,110.0,84.0,115.0,95.0,83.0,120.0,93.0,90.0,90.0,78.0,88.0,83.0,97.0,95.0,96.0,88.0,110.0,92.0,90.0,101.0,87.0,94.0,104.0,108.0,95.0,93.0,92.0,98.0,108.0,112.0,83.0,96.0,85.0,137.0,91.0,82.0,111.0,92.0,101.0,112.0,125.0,88.0,145.0,111.0,81.0,90.0,96.0,94.0,97.0,73.0,135.0,75.0,97.0,115.0,88.0,125.0,85.0,98.0,93.0,97.0,89.0,93.0,94.0,99.0,108.0,110.0,83.0,126.0,85.0,84.0,95.0,77.0,92.0,90.0,101.0,105.0,86.0,89.0,83.0,95.0,81.0,90.0,104.0,117.0,85.0,93.0,102.0,84.0,111.0,99.0,91.0,104.0,102.0,136.0,85.0,78.0,94.0,104.0,91.0,92.0,96.0,91.0,82.0,103.0,93.0,94.0,92.0,104.0,99.0,134.0,85.0,89.0,77.0,91.0,89.0,91.0,88.0,92.0,98.0,115.0,114.0,89.0,101.0,93.0,114.0,97.0,156.0,150.0,90.0,89.0,101.0,96.0,87.0,85.0,87.0,96.0,105.0,93.0,143.0,89.0,95.0,100.0,114.0,76.0,108.0,64.0,275.0,93.0,108.0,101.0,108.0,90.0,101.0,114.0,99.0,82.0,92.0,100.0,108.0,96.0,108.0,76.0,105.0,93.0,86.0,117.0,92.0,92.0,105.0,93.0,87.0,85.0,78.0,89.0,101.0,98.0,98.0,83.0,115.0,93.0,93.0,102.0,92.0,92.0,94.0,104.0,90.0,96.0,91.0,112.0,110.0,85.0,111.0,97.0,95.0,98.0,92.0,85.0,104.0,89.0,105.0,85.0,97.0,92.0,86.0,90.0,99.0,85.0,89.0,90.0,87.0,105.0,94.0,88.0,101.0,84.0,86.0,105.0,97.0,103.0,79.0,91.0,93.0,100.0,86.0,79.0,98.0,91.0,110.0,93.0,91.0,84.0,102.0,85.0,85.0,83.0,99.0,86.0,97.0,106.0,96.0,94.0,93.0,88.0,99.0,98.0,86.0,85.0,104.0,113.0,95.0,93.0,93.0,100.0,95.0,105.0,96.0,97.0,74.0,96.0,101.0,80.0,99.0,228.0,95.0,96.0,97.0,102.0,95.0,81.0,82.0,99.0,94.0,100.0,122.0,80.0,90.0,90.0,164.0,102.0,85.0,120.0,96.0,110.0,94.0,115.0,93.0,101.0,88.0,102.0,86.0,80.0,91.0,114.0,89.0,112.0,105.0,101.0,184.0,97.0,98.0,86.0,119.0,97.0,71.0,97.0,93.0,104.0,90.0,200.0,99.0,97.0,88.0,121.0,97.0,99.0,139.0,104.0,99.0,91.0,139.0,93.0,91.0,91.0,104.0,102.0,96.0,84.0,83.0,97.0,109.0,94.0,102.0,91.0,89.0,92.0,98.0,87.0,102.0,93.0,94.0,99.0,102.0,91.0,123.0,93.0,94.0,109.0,91.0,93.0,102.0,101.0,81.0,114.0,95.0,83.0,88.0,83.0,119.0,97.0,90.0,88.0,94.0,101.0,256.0,106.0,82.0,112.0,101.0,239.0,90.0,88.0,94.0,104.0,106.0,102.0,86.0,93.0,87.0,77.0,78.0,78.0,107.0,90.0,106.0,85.0,98.0,83.0,81.0,115.0,89.0,98.0,94.0,91.0,69.0,100.0,90.0,93.0,71.0,96.0,87.0,80.0,113.0,115.0,91.0,100.0,102.0,93.0,84.0,111.0,81.0,95.0,92.0,83.0,107.0,93.0,117.0,77.0,86.0,108.0,96.0,85.0,87.0,102.0,106.0,98.0,100.0,90.0,93.0,93.0,107.0,88.0,78.0,85.0,92.0,92.0,95.0,81.0,91.0,131.0,95.0,75.0,84.0,80.0,75.0,103.0,92.0,71.0,91.0,84.0,88.0,84.0,94.0,83.0,97.0,106.0,101.0,93.0,99.0,111.0,92.0,112.0,89.0,106.0,88.0,102.0,103.0,87.0,93.0,89.0,96.0,92.0,89.0,101.0,93.0,97.0,89.0,87.0,135.0,76.0,89.0,88.0,84.0,96.0,114.0,94.0,142.0,96.0,92.0,84.0,96.0,97.0,74.0,106.0,89.0,92.0,83.0,84.0,101.0,92.0,102.0,87.0,94.0,90.0,86.0,97.0,74.0,102.0,91.0,92.0,78.0,96.0,100.0,92.0,95.0,85.0,104.0,101.0,93.0,93.0,80.0,80.0,87.0,84.0,86.0,92.0,92.0,110.0,83.0,92.0,111.0,113.0,96.0,89.0,106.0,99.0,90.0,90.0,97.0,109.0,86.0,92.0,95.0,97.0,99.0,91.0,92.0,100.0,79.0,88.0,94.0,84.0,104.0,91.0,97.0,95.0,109.0,92.0,109.0,109.0,117.0,95.0,81.0,91.0,113.0,92.0,182.0,84.0,104.0,105.0,111.0,129.0,110.0,90.0,97.0,98.0,94.0,98.0,102.0,89.0,93.0,121.0,78.0,150.0,84.0,85.0,104.0,74.0,94.0,92.0,94.0,95.0,86.0,90.0,99.0,86.0,92.0,94.0,91.0,79.0,104.0,97.0,95.0,110.0,91.0,80.0,82.0,91.0,105.0,96.0,117.0,97.0,96.0,100.0,82.0,88.0,106.0,85.0,90.0,82.0,100.0,91.0,90.0,87.0,106.0,77.0,95.0,94.0,102.0,144.0,112.0,115.0,97.0,136.0,89.0,95.0,87.0,83.0,103.0,97.0,97.0,90.0,93.0,108.0,111.0,120.0,105.0,104.0,102.0,90.0,84.0,99.0,252.0,81.0,97.0,91.0,88.0,92.0,79.0,92.0,104.0,100.0,83.0,112.0,154.0,91.0,89.0,92.0,84.0,86.0,101.0,131.0,86.0,83.0,103.0,97.0,100.0,105.0,87.0,97.0,85.0,92.0,99.0,94.0,105.0,87.0,110.0,88.0,113.0,98.0,132.0,82.0,102.0,102.0,83.0,97.0,88.0,96.0,98.0,88.0,90.0,105.0,87.0,60.0,98.0,92.0,85.0,113.0,112.0,102.0,88.0,102.0,79.0,96.0,100.0,98.0,93.0,103.0,96.0,81.0,82.0,90.0,100.0,98.0,113.0,98.0,105.0,89.0,84.0,96.0,90.0,94.0,87.0,110.0,89.0,80.0,93.0,91.0,91.0,87.0,94.0,82.0,109.0,139.0,85.0,80.0,91.0,103.0,96.0,82.0,115.0,101.0,96.0,118.0,92.0,83.0,82.0,89.0,91.0,91.0,91.0,97.0,96.0,94.0,93.0,103.0,84.0,91.0,102.0,93.0,103.0,78.0,103.0,91.0,100.0,104.0,97.0,82.0,94.0,106.0,96.0,86.0,91.0,103.0,98.0,123.0,94.0,84.0,96.0,90.0,84.0,74.0,87.0,96.0,97.0,99.0,131.0,103.0,100.0,88.0,97.0,79.0,82.0,88.0,112.0,131.0,74.0,91.0,129.0,100.0,86.0,108.0,94.0,97.0,85.0,93.0,93.0,81.0,90.0,92.0,93.0,90.0,90.0,105.0,90.0,95.0,82.0,91.0,95.0,88.0,83.0,84.0,102.0,92.0,105.0,97.0,102.0,87.0,98.0,82.0,90.0,99.0,84.0,86.0,108.0,119.0,96.0,104.0,83.0,104.0,96.0,114.0,90.0,103.0,108.0,90.0,102.0,90.0,91.0,88.0,102.0,94.0,122.0,96.0,156.0,106.0,95.0,100.0,112.0,91.0,65.0,89.0,102.0,92.0,93.0,94.0,128.0,77.0,92.0,104.0,88.0,87.0,91.0,95.0,106.0,72.0,92.0,139.0,99.0,97.0,86.0,97.0,90.0,101.0,98.0,82.0,94.0,103.0,97.0,215.0,86.0,83.0,86.0,88.0,75.0,102.0,86.0,103.0,97.0,86.0,88.0,102.0,85.0,94.0,94.0,95.0,117.0,92.0,97.0,90.0,114.0,86.0,99.0,64.0,101.0,72.0,88.0,119.0,88.0,106.0,93.0,98.0,93.0,92.0,104.0,128.0,99.0,93.0,120.0,88.0,103.0,99.0,103.0,74.0,86.0,79.0,148.0,95.0,93.0,106.0,84.0,83.0,97.0,109.0,100.0,96.0,91.0,97.0,94.0,115.0,114.0,86.0,88.0,94.0,98.0,86.0,96.0,95.0,85.0,93.0,88.0,77.0,86.0,95.0,94.0,103.0,107.0,92.0,93.0,91.0,93.0,89.0,86.0,103.0,88.0,86.0,99.0,94.0,88.0,80.0,95.0,93.0,108.0,87.0,107.0,95.0,87.0,96.0,94.0,97.0,93.0,106.0,97.0,87.0,99.0,203.0,98.0,91.0,93.0,120.0,89.0,88.0,84.0,66.0,89.0,85.0,86.0,97.0,95.0,88.0,88.0,172.0,96.0,100.0,78.0,99.0,98.0,83.0,110.0,93.0,86.0,96.0,77.0,94.0,89.0,110.0,85.0,103.0,89.0,88.0,92.0,105.0,78.0,104.0,107.0,102.0,107.0,89.0,93.0,95.0,92.0,106.0,93.0,94.0,89.0,103.0,185.0,68.0,112.0,103.0,102.0,95.0,100.0,81.0,94.0,100.0,97.0,104.0,86.0,94.0,98.0,82.0,79.0,80.0,89.0,94.0,85.0,101.0,95.0,85.0,102.0,97.0,99.0,113.0,91.0,104.0,84.0,89.0,103.0,95.0,101.0,83.0,99.0,84.0,96.0,126.0,98.0,80.0,167.0,90.0,86.0,144.0,94.0,95.0,92.0,90.0,87.0,124.0,100.0,92.0,99.0,96.0,99.0,81.0,85.0,81.0,115.0,98.0,108.0,86.0,86.0,102.0,99.0,81.0,148.0,102.0,95.0,114.0,88.0,95.0,77.0,98.0,115.0,87.0,100.0,86.0,104.0,95.0,98.0,110.0,120.0,87.0,90.0,101.0,89.0,109.0,94.0,87.0,115.0,97.0,95.0,90.0,100.0,88.0,93.0,99.0,80.0,88.0,79.0,107.0,113.0,99.0,111.0,117.0,87.0,97.0,86.0,101.0,80.0,90.0,87.0,96.0,116.0,85.0,130.0,87.0,103.0,105.0,93.0,102.0,92.0,96.0,92.0,112.0,94.0,83.0,88.0,92.0,101.0,99.0,160.0,96.0,95.0,82.0,81.0,83.0,99.0,106.0,100.0,112.0,90.0,95.0,97.0,77.0,139.0,95.0,93.0,93.0,109.0,98.0,86.0,78.0,94.0,86.0,77.0,129.0,78.0,79.0,113.0,279.0,75.0,93.0,94.0,125.0,87.0,86.0,92.0,87.0,96.0,93.0,99.0,99.0,90.0,138.0,94.0,80.0,104.0,72.0,91.0,89.0,108.0,89.0,107.0,106.0,94.0,93.0,86.0,96.0,101.0,91.0,94.0,159.0,84.0,90.0,99.0,108.0,100.0,92.0,97.0,91.0,93.0,83.0,79.0,91.0,97.0,79.0,105.0,111.0,89.0,81.0,101.0,103.0,102.0,76.0,111.0,100.0,97.0,100.0,94.0,104.0,115.0,91.0,108.0,86.0,95.0,106.0,86.0,97.0,94.0,106.0,109.0,97.0,92.0,80.0,91.0,93.0,98.0,92.0,135.0,177.0,94.0,73.0,96.0,148.0,112.0,117.0,97.0,116.0,107.0,95.0,73.0,98.0,87.0,99.0,108.0,100.0,97.0,86.0,85.0,86.0,96.0,97.0,86.0,100.0,93.0,99.0,277.0,104.0,102.0,79.0,97.0,95.0,103.0,90.0,108.0,110.0,116.0,128.0,119.0,96.0,101.0,88.0,90.0,107.0,101.0,107.0,141.0,97.0,107.0,105.0,94.0,104.0,95.0,116.0,108.0,160.0,110.0,87.0,97.0,96.0,86.0,106.0,89.0,98.0,90.0,90.0,82.0,70.0,96.0,91.0,93.0,86.0,113.0,90.0,101.0,91.0,94.0,100.0,94.0,99.0,79.0,98.0,90.0,135.0,101.0,121.0,97.0,100.0,97.0,135.0,98.0,241.0,84.0,100.0,82.0,108.0,74.0,91.0,99.0,104.0,100.0,80.0,93.0,90.0,90.0,118.0,101.0,101.0,98.0,95.0,129.0,99.0,90.0,104.0,136.0,131.0,90.0,89.0,71.0,84.0,110.0,91.0,123.0,90.0,85.0,82.0,94.0,92.0,92.0,108.0,105.0,81.0,98.0,109.0,90.0,107.0,92.0,83.0,79.0,100.0,79.0,90.0,91.0,91.0,92.0,76.0,123.0,93.0,111.0,101.0,97.0,109.0,87.0,106.0,130.0,89.0,91.0,90.0,97.0,100.0,92.0,111.0,92.0,102.0,89.0,89.0,103.0,96.0,90.0,84.0,93.0,86.0,92.0,100.0,97.0,123.0,120.0,98.0,100.0,99.0,106.0,92.0,88.0,91.0,91.0,108.0,93.0,93.0,110.0,98.0,93.0,131.0,89.0,100.0,84.0,88.0,92.0,87.0,103.0,89.0,112.0,91.0,92.0,96.0,91.0,95.0,97.0,83.0,88.0,87.0,109.0,95.0,108.0,122.0,97.0,76.0,142.0,105.0,100.0,84.0,83.0,101.0,100.0,94.0,89.0,102.0,98.0,91.0,118.0,198.0,84.0,92.0,89.0,114.0,91.0,84.0,113.0,98.0,80.0,95.0,149.0,91.0,85.0,95.0,96.0,87.0,74.0,116.0,88.0,88.0,271.0,80.0,80.0,99.0,100.0,278.0,95.0,107.0,89.0,86.0,103.0,107.0,83.0,87.0,92.0,96.0,104.0,103.0,82.0,78.0,94.0,84.0,95.0,91.0,98.0,85.0,115.0,92.0,113.0,94.0,84.0,92.0,77.0,107.0,99.0,73.0,81.0,103.0,98.0,97.0,106.0,96.0,76.0,82.0,107.0,82.0,89.0,102.0,109.0,92.0,79.0,95.0,94.0,89.0,103.0,101.0,85.0,96.0,103.0,206.0,96.0,89.0,90.0,100.0,99.0,113.0,91.0,89.0,75.0,108.0,94.0,77.0,98.0,101.0,99.0,76.0,95.0,84.0,100.0,94.0,89.0,98.0,102.0,98.0,87.0,88.0,128.0,98.0,92.0,114.0,97.0,93.0,112.0,95.0,101.0,113.0,99.0,84.0,97.0,106.0,97.0,96.0,95.0,92.0,112.0,93.0,99.0,102.0,90.0,93.0,101.0,103.0,101.0,124.0,91.0,104.0,97.0,79.0,94.0,75.0,78.0,93.0,106.0,91.0,94.0,96.0,89.0,121.0,83.0,73.0,98.0,103.0,97.0,91.0,89.0,88.0,87.0,91.0,85.0,117.0,97.0,135.0,90.0,91.0,81.0,97.0,92.0,118.0,92.0,87.0,88.0,87.0,105.0,185.0,106.0,115.0,97.0,93.0,92.0,77.0,93.0,91.0,94.0,79.0,101.0,88.0,83.0,125.0,95.0,103.0,87.0,91.0,102.0,103.0,90.0,91.0,98.0,90.0,84.0,114.0,91.0,101.0,91.0,94.0,120.0,91.0,99.0,112.0,106.0,97.0,78.0,104.0,95.0,88.0,97.0,99.0,99.0,116.0,96.0,111.0,75.0,100.0,95.0,77.0,99.0,96.0,177.0,89.0,94.0,103.0,147.0,101.0,100.0,98.0,82.0,99.0,85.0,92.0,90.0,82.0,105.0,102.0,99.0,115.0,102.0,100.0,110.0,97.0,77.0,106.0,130.0,85.0,82.0,95.0,96.0,96.0,131.0,89.0,93.0,91.0,91.0,96.0,101.0,100.0,104.0,84.0,107.0,89.0,95.0,104.0,107.0,134.0,80.0,104.0,130.0,85.0,84.0,89.0,110.0,101.0,92.0,91.0,89.0,104.0,86.0,126.0,88.0,82.0,95.0,88.0,90.0,96.0,123.0,88.0,88.0,90.0,88.0,82.0,95.0,99.0,96.0,96.0,93.0,87.0,100.0,112.0,99.0,183.0,88.0,103.0,99.0,102.0,90.0,74.0,77.0,99.0,81.0,211.0,107.0,132.0,138.0,243.0,88.0,98.0,88.0,81.0,108.0,97.0,75.0,80.0,101.0,95.0,95.0,97.0,92.0,103.0,86.0,99.0,114.0,109.0,111.0,92.0,96.0,99.0,91.0,97.0,143.0,96.0,96.0,112.0,95.0,94.0,120.0,85.0,83.0,110.0,90.0,106.0,128.0,94.0,95.0,101.0,113.0,101.0,104.0,111.0,112.0,77.0,87.0,104.0,94.0,133.0,82.0,92.0,83.0,86.0,100.0,103.0,96.0,86.0,107.0,119.0,99.0,97.0,93.0,107.0,106.0,91.0,114.0,114.0,103.0,89.0,91.0,94.0,141.0,77.0,73.0,106.0,108.0,101.0,94.0,99.0,87.0,93.0,313.0,79.0,114.0,84.0,99.0,87.0,98.0,94.0,94.0,91.0,81.0,92.0,91.0,97.0,113.0,135.0,92.0,97.0,84.0,93.0,80.0,85.0,89.0,94.0,113.0,117.0,87.0,76.0,83.0,97.0,120.0,96.0,85.0,100.0,86.0,149.0,100.0,93.0,89.0,107.0,78.0,85.0,73.0,94.0,91.0,98.0,96.0,99.0,86.0,104.0,210.0,101.0,86.0,93.0,94.0,90.0,81.0,103.0,106.0,98.0,75.0,88.0,93.0,132.0,96.0,97.0,110.0,101.0,96.0,91.0,94.0,96.0,82.0,98.0,97.0,84.0,91.0,98.0,104.0,94.0,76.0,92.0,82.0,104.0,90.0,86.0,102.0,110.0,92.0,84.0,92.0,113.0,84.0,99.0,91.0,175.0,103.0,104.0,90.0,100.0,91.0,89.0,85.0,104.0,118.0,94.0,96.0,101.0,85.0,107.0,91.0,82.0,98.0,112.0,97.0,97.0,97.0,91.0,82.0,98.0,80.0,103.0,85.0,99.0,92.0,90.0,81.0,105.0,90.0,83.0,88.0,87.0,88.0,79.0,92.0,120.0,92.0,93.0,91.0,83.0,96.0,90.0,88.0,98.0,114.0,70.0,93.0,102.0,90.0,71.0,104.0,126.0,83.0,88.0,118.0,94.0,97.0,104.0,94.0,92.0,82.0,89.0,105.0,95.0,94.0,94.0,91.0,105.0,164.0,98.0,108.0,92.0,96.0,104.0,85.0,101.0,89.0,164.0,95.0,91.0,87.0,137.0,88.0,164.0,95.0,104.0,99.0,86.0,81.0,96.0,92.0,98.0,94.0,101.0,113.0,96.0,99.0,93.0,98.0,127.0,80.0,106.0,93.0,82.0,99.0,100.0,105.0,91.0,73.0,95.0,99.0,89.0,101.0,88.0,73.0,120.0,90.0,117.0,82.0,103.0,100.0,97.0,79.0,107.0,86.0,143.0,94.0,100.0,86.0,97.0,78.0,86.0,94.0,116.0],\"xaxis\":\"x2\",\"yaxis\":\"y2\",\"type\":\"box\"}],                        {\"template\":{\"data\":{\"bar\":[{\"error_x\":{\"color\":\"#2a3f5f\"},\"error_y\":{\"color\":\"#2a3f5f\"},\"marker\":{\"line\":{\"color\":\"#E5ECF6\",\"width\":0.5},\"pattern\":{\"fillmode\":\"overlay\",\"size\":10,\"solidity\":0.2}},\"type\":\"bar\"}],\"barpolar\":[{\"marker\":{\"line\":{\"color\":\"#E5ECF6\",\"width\":0.5},\"pattern\":{\"fillmode\":\"overlay\",\"size\":10,\"solidity\":0.2}},\"type\":\"barpolar\"}],\"carpet\":[{\"aaxis\":{\"endlinecolor\":\"#2a3f5f\",\"gridcolor\":\"white\",\"linecolor\":\"white\",\"minorgridcolor\":\"white\",\"startlinecolor\":\"#2a3f5f\"},\"baxis\":{\"endlinecolor\":\"#2a3f5f\",\"gridcolor\":\"white\",\"linecolor\":\"white\",\"minorgridcolor\":\"white\",\"startlinecolor\":\"#2a3f5f\"},\"type\":\"carpet\"}],\"choropleth\":[{\"colorbar\":{\"outlinewidth\":0,\"ticks\":\"\"},\"type\":\"choropleth\"}],\"contour\":[{\"colorbar\":{\"outlinewidth\":0,\"ticks\":\"\"},\"colorscale\":[[0.0,\"#0d0887\"],[0.1111111111111111,\"#46039f\"],[0.2222222222222222,\"#7201a8\"],[0.3333333333333333,\"#9c179e\"],[0.4444444444444444,\"#bd3786\"],[0.5555555555555556,\"#d8576b\"],[0.6666666666666666,\"#ed7953\"],[0.7777777777777778,\"#fb9f3a\"],[0.8888888888888888,\"#fdca26\"],[1.0,\"#f0f921\"]],\"type\":\"contour\"}],\"contourcarpet\":[{\"colorbar\":{\"outlinewidth\":0,\"ticks\":\"\"},\"type\":\"contourcarpet\"}],\"heatmap\":[{\"colorbar\":{\"outlinewidth\":0,\"ticks\":\"\"},\"colorscale\":[[0.0,\"#0d0887\"],[0.1111111111111111,\"#46039f\"],[0.2222222222222222,\"#7201a8\"],[0.3333333333333333,\"#9c179e\"],[0.4444444444444444,\"#bd3786\"],[0.5555555555555556,\"#d8576b\"],[0.6666666666666666,\"#ed7953\"],[0.7777777777777778,\"#fb9f3a\"],[0.8888888888888888,\"#fdca26\"],[1.0,\"#f0f921\"]],\"type\":\"heatmap\"}],\"heatmapgl\":[{\"colorbar\":{\"outlinewidth\":0,\"ticks\":\"\"},\"colorscale\":[[0.0,\"#0d0887\"],[0.1111111111111111,\"#46039f\"],[0.2222222222222222,\"#7201a8\"],[0.3333333333333333,\"#9c179e\"],[0.4444444444444444,\"#bd3786\"],[0.5555555555555556,\"#d8576b\"],[0.6666666666666666,\"#ed7953\"],[0.7777777777777778,\"#fb9f3a\"],[0.8888888888888888,\"#fdca26\"],[1.0,\"#f0f921\"]],\"type\":\"heatmapgl\"}],\"histogram\":[{\"marker\":{\"pattern\":{\"fillmode\":\"overlay\",\"size\":10,\"solidity\":0.2}},\"type\":\"histogram\"}],\"histogram2d\":[{\"colorbar\":{\"outlinewidth\":0,\"ticks\":\"\"},\"colorscale\":[[0.0,\"#0d0887\"],[0.1111111111111111,\"#46039f\"],[0.2222222222222222,\"#7201a8\"],[0.3333333333333333,\"#9c179e\"],[0.4444444444444444,\"#bd3786\"],[0.5555555555555556,\"#d8576b\"],[0.6666666666666666,\"#ed7953\"],[0.7777777777777778,\"#fb9f3a\"],[0.8888888888888888,\"#fdca26\"],[1.0,\"#f0f921\"]],\"type\":\"histogram2d\"}],\"histogram2dcontour\":[{\"colorbar\":{\"outlinewidth\":0,\"ticks\":\"\"},\"colorscale\":[[0.0,\"#0d0887\"],[0.1111111111111111,\"#46039f\"],[0.2222222222222222,\"#7201a8\"],[0.3333333333333333,\"#9c179e\"],[0.4444444444444444,\"#bd3786\"],[0.5555555555555556,\"#d8576b\"],[0.6666666666666666,\"#ed7953\"],[0.7777777777777778,\"#fb9f3a\"],[0.8888888888888888,\"#fdca26\"],[1.0,\"#f0f921\"]],\"type\":\"histogram2dcontour\"}],\"mesh3d\":[{\"colorbar\":{\"outlinewidth\":0,\"ticks\":\"\"},\"type\":\"mesh3d\"}],\"parcoords\":[{\"line\":{\"colorbar\":{\"outlinewidth\":0,\"ticks\":\"\"}},\"type\":\"parcoords\"}],\"pie\":[{\"automargin\":true,\"type\":\"pie\"}],\"scatter\":[{\"marker\":{\"colorbar\":{\"outlinewidth\":0,\"ticks\":\"\"}},\"type\":\"scatter\"}],\"scatter3d\":[{\"line\":{\"colorbar\":{\"outlinewidth\":0,\"ticks\":\"\"}},\"marker\":{\"colorbar\":{\"outlinewidth\":0,\"ticks\":\"\"}},\"type\":\"scatter3d\"}],\"scattercarpet\":[{\"marker\":{\"colorbar\":{\"outlinewidth\":0,\"ticks\":\"\"}},\"type\":\"scattercarpet\"}],\"scattergeo\":[{\"marker\":{\"colorbar\":{\"outlinewidth\":0,\"ticks\":\"\"}},\"type\":\"scattergeo\"}],\"scattergl\":[{\"marker\":{\"colorbar\":{\"outlinewidth\":0,\"ticks\":\"\"}},\"type\":\"scattergl\"}],\"scattermapbox\":[{\"marker\":{\"colorbar\":{\"outlinewidth\":0,\"ticks\":\"\"}},\"type\":\"scattermapbox\"}],\"scatterpolar\":[{\"marker\":{\"colorbar\":{\"outlinewidth\":0,\"ticks\":\"\"}},\"type\":\"scatterpolar\"}],\"scatterpolargl\":[{\"marker\":{\"colorbar\":{\"outlinewidth\":0,\"ticks\":\"\"}},\"type\":\"scatterpolargl\"}],\"scatterternary\":[{\"marker\":{\"colorbar\":{\"outlinewidth\":0,\"ticks\":\"\"}},\"type\":\"scatterternary\"}],\"surface\":[{\"colorbar\":{\"outlinewidth\":0,\"ticks\":\"\"},\"colorscale\":[[0.0,\"#0d0887\"],[0.1111111111111111,\"#46039f\"],[0.2222222222222222,\"#7201a8\"],[0.3333333333333333,\"#9c179e\"],[0.4444444444444444,\"#bd3786\"],[0.5555555555555556,\"#d8576b\"],[0.6666666666666666,\"#ed7953\"],[0.7777777777777778,\"#fb9f3a\"],[0.8888888888888888,\"#fdca26\"],[1.0,\"#f0f921\"]],\"type\":\"surface\"}],\"table\":[{\"cells\":{\"fill\":{\"color\":\"#EBF0F8\"},\"line\":{\"color\":\"white\"}},\"header\":{\"fill\":{\"color\":\"#C8D4E3\"},\"line\":{\"color\":\"white\"}},\"type\":\"table\"}]},\"layout\":{\"annotationdefaults\":{\"arrowcolor\":\"#2a3f5f\",\"arrowhead\":0,\"arrowwidth\":1},\"autotypenumbers\":\"strict\",\"coloraxis\":{\"colorbar\":{\"outlinewidth\":0,\"ticks\":\"\"}},\"colorscale\":{\"diverging\":[[0,\"#8e0152\"],[0.1,\"#c51b7d\"],[0.2,\"#de77ae\"],[0.3,\"#f1b6da\"],[0.4,\"#fde0ef\"],[0.5,\"#f7f7f7\"],[0.6,\"#e6f5d0\"],[0.7,\"#b8e186\"],[0.8,\"#7fbc41\"],[0.9,\"#4d9221\"],[1,\"#276419\"]],\"sequential\":[[0.0,\"#0d0887\"],[0.1111111111111111,\"#46039f\"],[0.2222222222222222,\"#7201a8\"],[0.3333333333333333,\"#9c179e\"],[0.4444444444444444,\"#bd3786\"],[0.5555555555555556,\"#d8576b\"],[0.6666666666666666,\"#ed7953\"],[0.7777777777777778,\"#fb9f3a\"],[0.8888888888888888,\"#fdca26\"],[1.0,\"#f0f921\"]],\"sequentialminus\":[[0.0,\"#0d0887\"],[0.1111111111111111,\"#46039f\"],[0.2222222222222222,\"#7201a8\"],[0.3333333333333333,\"#9c179e\"],[0.4444444444444444,\"#bd3786\"],[0.5555555555555556,\"#d8576b\"],[0.6666666666666666,\"#ed7953\"],[0.7777777777777778,\"#fb9f3a\"],[0.8888888888888888,\"#fdca26\"],[1.0,\"#f0f921\"]]},\"colorway\":[\"#636efa\",\"#EF553B\",\"#00cc96\",\"#ab63fa\",\"#FFA15A\",\"#19d3f3\",\"#FF6692\",\"#B6E880\",\"#FF97FF\",\"#FECB52\"],\"font\":{\"color\":\"#2a3f5f\"},\"geo\":{\"bgcolor\":\"white\",\"lakecolor\":\"white\",\"landcolor\":\"#E5ECF6\",\"showlakes\":true,\"showland\":true,\"subunitcolor\":\"white\"},\"hoverlabel\":{\"align\":\"left\"},\"hovermode\":\"closest\",\"mapbox\":{\"style\":\"light\"},\"paper_bgcolor\":\"white\",\"plot_bgcolor\":\"#E5ECF6\",\"polar\":{\"angularaxis\":{\"gridcolor\":\"white\",\"linecolor\":\"white\",\"ticks\":\"\"},\"bgcolor\":\"#E5ECF6\",\"radialaxis\":{\"gridcolor\":\"white\",\"linecolor\":\"white\",\"ticks\":\"\"}},\"scene\":{\"xaxis\":{\"backgroundcolor\":\"#E5ECF6\",\"gridcolor\":\"white\",\"gridwidth\":2,\"linecolor\":\"white\",\"showbackground\":true,\"ticks\":\"\",\"zerolinecolor\":\"white\"},\"yaxis\":{\"backgroundcolor\":\"#E5ECF6\",\"gridcolor\":\"white\",\"gridwidth\":2,\"linecolor\":\"white\",\"showbackground\":true,\"ticks\":\"\",\"zerolinecolor\":\"white\"},\"zaxis\":{\"backgroundcolor\":\"#E5ECF6\",\"gridcolor\":\"white\",\"gridwidth\":2,\"linecolor\":\"white\",\"showbackground\":true,\"ticks\":\"\",\"zerolinecolor\":\"white\"}},\"shapedefaults\":{\"line\":{\"color\":\"#2a3f5f\"}},\"ternary\":{\"aaxis\":{\"gridcolor\":\"white\",\"linecolor\":\"white\",\"ticks\":\"\"},\"baxis\":{\"gridcolor\":\"white\",\"linecolor\":\"white\",\"ticks\":\"\"},\"bgcolor\":\"#E5ECF6\",\"caxis\":{\"gridcolor\":\"white\",\"linecolor\":\"white\",\"ticks\":\"\"}},\"title\":{\"x\":0.05},\"xaxis\":{\"automargin\":true,\"gridcolor\":\"white\",\"linecolor\":\"white\",\"ticks\":\"\",\"title\":{\"standoff\":15},\"zerolinecolor\":\"white\",\"zerolinewidth\":2},\"yaxis\":{\"automargin\":true,\"gridcolor\":\"white\",\"linecolor\":\"white\",\"ticks\":\"\",\"title\":{\"standoff\":15},\"zerolinecolor\":\"white\",\"zerolinewidth\":2}}},\"xaxis\":{\"anchor\":\"y\",\"domain\":[0.0,1.0],\"title\":{\"text\":\"fasting blood sugar\"}},\"yaxis\":{\"anchor\":\"x\",\"domain\":[0.0,0.7326],\"title\":{\"text\":\"density\"}},\"xaxis2\":{\"anchor\":\"y2\",\"domain\":[0.0,1.0],\"matches\":\"x\",\"showticklabels\":false,\"showgrid\":true},\"yaxis2\":{\"anchor\":\"x2\",\"domain\":[0.7426,1.0],\"matches\":\"y2\",\"showticklabels\":false,\"showline\":false,\"ticks\":\"\",\"showgrid\":false},\"legend\":{\"title\":{\"text\":\"smoking\"},\"tracegroupgap\":0},\"margin\":{\"t\":60},\"barmode\":\"overlay\",\"title\":{\"text\":\"fasting blood sugar histogram\",\"x\":0.5,\"xanchor\":\"center\",\"yanchor\":\"top\"}},                        {\"responsive\": true}                    ).then(function(){\n",
              "                            \n",
              "var gd = document.getElementById('c51ab7f5-272d-4e5a-84eb-94cb54268884');\n",
              "var x = new MutationObserver(function (mutations, observer) {{\n",
              "        var display = window.getComputedStyle(gd).display;\n",
              "        if (!display || display === 'none') {{\n",
              "            console.log([gd, 'removed!']);\n",
              "            Plotly.purge(gd);\n",
              "            observer.disconnect();\n",
              "        }}\n",
              "}});\n",
              "\n",
              "// Listen for the removal of the full notebook cells\n",
              "var notebookContainer = gd.closest('#notebook-container');\n",
              "if (notebookContainer) {{\n",
              "    x.observe(notebookContainer, {childList: true});\n",
              "}}\n",
              "\n",
              "// Listen for the clearing of the current output cell\n",
              "var outputEl = gd.closest('.output');\n",
              "if (outputEl) {{\n",
              "    x.observe(outputEl, {childList: true});\n",
              "}}\n",
              "\n",
              "                        })                };                            </script>        </div>\n",
              "</body>\n",
              "</html>"
            ]
          },
          "metadata": {}
        },
        {
          "output_type": "stream",
          "name": "stdout",
          "text": [
            "mean: 99.2571, std: 20.5696, skew: 4.1938, kurtosis: 28.7598 \n"
          ]
        }
      ]
    },
    {
      "cell_type": "markdown",
      "source": [
        "#Модуль B"
      ],
      "metadata": {
        "id": "Fuahq1cimTSZ"
      }
    },
    {
      "cell_type": "markdown",
      "source": [
        "##Разбиение выборки на X и y, функция по оценке качеств модели"
      ],
      "metadata": {
        "id": "iP4UuuqRnSRI"
      }
    },
    {
      "cell_type": "code",
      "source": [
        "from sklearn.model_selection import train_test_split\n",
        "from sklearn.preprocessing import StandardScaler\n",
        "from sklearn.metrics import f1_score"
      ],
      "metadata": {
        "id": "D9pf6HzvnyAi"
      },
      "execution_count": null,
      "outputs": []
    },
    {
      "cell_type": "code",
      "source": [
        "X = smoking_dataframe.drop(columns = ['smoking']) #признаки объектов без целевого\n",
        "y = smoking_dataframe['smoking'] #целевой признак"
      ],
      "metadata": {
        "id": "LXg54B8LnRxA"
      },
      "execution_count": null,
      "outputs": []
    },
    {
      "cell_type": "code",
      "source": [
        "def loss_func_classifier(df, model, y_test, y_pred, params):  # функция для оценки качества обученной модели\n",
        "  te_ac = accuracy_score(y_test, y_pred).round(4) #используются основные метрики качества для задач классификации\n",
        "  te_rec = recall_score(y_test, y_pred).round(4)\n",
        "  te_prec = precision_score(y_test, y_pred).round(4)\n",
        "  te_auc = roc_auc_score(y_test, y_pred).round(4)\n",
        "  te_f1_score = f1_score(y_test, y_pred).round(4)\n",
        "  new_row = {'model' : model, 'test_accuracy' : te_ac, 'test_recall' : te_rec, 'test_AUC' : te_auc, 'test_precision' : te_prec, 'f1_score' : te_f1_score, 'hyper_params' : params}\n",
        "  df = df.append(new_row, ignore_index = True)\n",
        "  return df"
      ],
      "metadata": {
        "id": "4ALy7-1jzlDB"
      },
      "execution_count": null,
      "outputs": []
    },
    {
      "cell_type": "markdown",
      "source": [
        "##2.1 Понижение размерности и отбор признаков"
      ],
      "metadata": {
        "id": "03FuK2NCmfrw"
      }
    },
    {
      "cell_type": "code",
      "source": [
        "#Для выявления того, насколько важен тот или иной признак воспользуемся методом отбора на основе важности признаков"
      ],
      "metadata": {
        "id": "7gJzjf0FmVIw"
      },
      "execution_count": null,
      "outputs": []
    },
    {
      "cell_type": "code",
      "source": [
        "from sklearn.ensemble import ExtraTreesClassifier "
      ],
      "metadata": {
        "id": "UCIR3jN0nIZY"
      },
      "execution_count": null,
      "outputs": []
    },
    {
      "cell_type": "code",
      "source": [
        "X.head(5)"
      ],
      "metadata": {
        "colab": {
          "base_uri": "https://localhost:8080/",
          "height": 334
        },
        "id": "xk2uXUEwpSI4",
        "outputId": "774c8b46-0dde-45f2-a564-314bccae77ca"
      },
      "execution_count": null,
      "outputs": [
        {
          "output_type": "execute_result",
          "data": {
            "text/plain": [
              "    ID  gender   age  height(cm)  weight(kg)  waist(cm)  systolic  relaxation  \\\n",
              "2    2     0.0  55.0       170.0        60.0       80.0     138.0        86.0   \n",
              "3    3     0.0  40.0       165.0        70.0       88.0     100.0        60.0   \n",
              "4    4     1.0  40.0       155.0        60.0       86.0     120.0        74.0   \n",
              "7    7     0.0  45.0       165.0        90.0       96.0     153.0        96.0   \n",
              "11  12     0.0  30.0       170.0        75.0       87.0     124.0        78.0   \n",
              "\n",
              "    fasting blood sugar  Cholesterol  ...  serum creatinine   AST   ALT  \\\n",
              "2                  89.0        242.0  ...               1.0  21.0  16.0   \n",
              "3                  96.0        322.0  ...               1.0  19.0  26.0   \n",
              "4                  80.0        184.0  ...               0.6  16.0  14.0   \n",
              "7                 158.0        222.0  ...               1.3  38.0  71.0   \n",
              "11                101.0        184.0  ...               1.1  34.0  69.0   \n",
              "\n",
              "      Gtp  dental caries  tartar  eyesight_left  eyesight_right  hear_left  \\\n",
              "2    22.0            0.0     0.0            0.8             0.8        1.0   \n",
              "3    18.0            0.0     1.0            1.5             1.5        1.0   \n",
              "4    22.0            0.0     0.0            1.0             1.0        1.0   \n",
              "7   111.0            0.0     1.0            1.2             1.0        1.0   \n",
              "11   64.0            0.0     1.0            1.2             1.2        1.0   \n",
              "\n",
              "    hear_right  \n",
              "2          1.0  \n",
              "3          1.0  \n",
              "4          1.0  \n",
              "7          1.0  \n",
              "11         1.0  \n",
              "\n",
              "[5 rows x 25 columns]"
            ],
            "text/html": [
              "\n",
              "  <div id=\"df-6cbd6d3a-c3a9-475f-8281-167c05f1228e\">\n",
              "    <div class=\"colab-df-container\">\n",
              "      <div>\n",
              "<style scoped>\n",
              "    .dataframe tbody tr th:only-of-type {\n",
              "        vertical-align: middle;\n",
              "    }\n",
              "\n",
              "    .dataframe tbody tr th {\n",
              "        vertical-align: top;\n",
              "    }\n",
              "\n",
              "    .dataframe thead th {\n",
              "        text-align: right;\n",
              "    }\n",
              "</style>\n",
              "<table border=\"1\" class=\"dataframe\">\n",
              "  <thead>\n",
              "    <tr style=\"text-align: right;\">\n",
              "      <th></th>\n",
              "      <th>ID</th>\n",
              "      <th>gender</th>\n",
              "      <th>age</th>\n",
              "      <th>height(cm)</th>\n",
              "      <th>weight(kg)</th>\n",
              "      <th>waist(cm)</th>\n",
              "      <th>systolic</th>\n",
              "      <th>relaxation</th>\n",
              "      <th>fasting blood sugar</th>\n",
              "      <th>Cholesterol</th>\n",
              "      <th>...</th>\n",
              "      <th>serum creatinine</th>\n",
              "      <th>AST</th>\n",
              "      <th>ALT</th>\n",
              "      <th>Gtp</th>\n",
              "      <th>dental caries</th>\n",
              "      <th>tartar</th>\n",
              "      <th>eyesight_left</th>\n",
              "      <th>eyesight_right</th>\n",
              "      <th>hear_left</th>\n",
              "      <th>hear_right</th>\n",
              "    </tr>\n",
              "  </thead>\n",
              "  <tbody>\n",
              "    <tr>\n",
              "      <th>2</th>\n",
              "      <td>2</td>\n",
              "      <td>0.0</td>\n",
              "      <td>55.0</td>\n",
              "      <td>170.0</td>\n",
              "      <td>60.0</td>\n",
              "      <td>80.0</td>\n",
              "      <td>138.0</td>\n",
              "      <td>86.0</td>\n",
              "      <td>89.0</td>\n",
              "      <td>242.0</td>\n",
              "      <td>...</td>\n",
              "      <td>1.0</td>\n",
              "      <td>21.0</td>\n",
              "      <td>16.0</td>\n",
              "      <td>22.0</td>\n",
              "      <td>0.0</td>\n",
              "      <td>0.0</td>\n",
              "      <td>0.8</td>\n",
              "      <td>0.8</td>\n",
              "      <td>1.0</td>\n",
              "      <td>1.0</td>\n",
              "    </tr>\n",
              "    <tr>\n",
              "      <th>3</th>\n",
              "      <td>3</td>\n",
              "      <td>0.0</td>\n",
              "      <td>40.0</td>\n",
              "      <td>165.0</td>\n",
              "      <td>70.0</td>\n",
              "      <td>88.0</td>\n",
              "      <td>100.0</td>\n",
              "      <td>60.0</td>\n",
              "      <td>96.0</td>\n",
              "      <td>322.0</td>\n",
              "      <td>...</td>\n",
              "      <td>1.0</td>\n",
              "      <td>19.0</td>\n",
              "      <td>26.0</td>\n",
              "      <td>18.0</td>\n",
              "      <td>0.0</td>\n",
              "      <td>1.0</td>\n",
              "      <td>1.5</td>\n",
              "      <td>1.5</td>\n",
              "      <td>1.0</td>\n",
              "      <td>1.0</td>\n",
              "    </tr>\n",
              "    <tr>\n",
              "      <th>4</th>\n",
              "      <td>4</td>\n",
              "      <td>1.0</td>\n",
              "      <td>40.0</td>\n",
              "      <td>155.0</td>\n",
              "      <td>60.0</td>\n",
              "      <td>86.0</td>\n",
              "      <td>120.0</td>\n",
              "      <td>74.0</td>\n",
              "      <td>80.0</td>\n",
              "      <td>184.0</td>\n",
              "      <td>...</td>\n",
              "      <td>0.6</td>\n",
              "      <td>16.0</td>\n",
              "      <td>14.0</td>\n",
              "      <td>22.0</td>\n",
              "      <td>0.0</td>\n",
              "      <td>0.0</td>\n",
              "      <td>1.0</td>\n",
              "      <td>1.0</td>\n",
              "      <td>1.0</td>\n",
              "      <td>1.0</td>\n",
              "    </tr>\n",
              "    <tr>\n",
              "      <th>7</th>\n",
              "      <td>7</td>\n",
              "      <td>0.0</td>\n",
              "      <td>45.0</td>\n",
              "      <td>165.0</td>\n",
              "      <td>90.0</td>\n",
              "      <td>96.0</td>\n",
              "      <td>153.0</td>\n",
              "      <td>96.0</td>\n",
              "      <td>158.0</td>\n",
              "      <td>222.0</td>\n",
              "      <td>...</td>\n",
              "      <td>1.3</td>\n",
              "      <td>38.0</td>\n",
              "      <td>71.0</td>\n",
              "      <td>111.0</td>\n",
              "      <td>0.0</td>\n",
              "      <td>1.0</td>\n",
              "      <td>1.2</td>\n",
              "      <td>1.0</td>\n",
              "      <td>1.0</td>\n",
              "      <td>1.0</td>\n",
              "    </tr>\n",
              "    <tr>\n",
              "      <th>11</th>\n",
              "      <td>12</td>\n",
              "      <td>0.0</td>\n",
              "      <td>30.0</td>\n",
              "      <td>170.0</td>\n",
              "      <td>75.0</td>\n",
              "      <td>87.0</td>\n",
              "      <td>124.0</td>\n",
              "      <td>78.0</td>\n",
              "      <td>101.0</td>\n",
              "      <td>184.0</td>\n",
              "      <td>...</td>\n",
              "      <td>1.1</td>\n",
              "      <td>34.0</td>\n",
              "      <td>69.0</td>\n",
              "      <td>64.0</td>\n",
              "      <td>0.0</td>\n",
              "      <td>1.0</td>\n",
              "      <td>1.2</td>\n",
              "      <td>1.2</td>\n",
              "      <td>1.0</td>\n",
              "      <td>1.0</td>\n",
              "    </tr>\n",
              "  </tbody>\n",
              "</table>\n",
              "<p>5 rows × 25 columns</p>\n",
              "</div>\n",
              "      <button class=\"colab-df-convert\" onclick=\"convertToInteractive('df-6cbd6d3a-c3a9-475f-8281-167c05f1228e')\"\n",
              "              title=\"Convert this dataframe to an interactive table.\"\n",
              "              style=\"display:none;\">\n",
              "        \n",
              "  <svg xmlns=\"http://www.w3.org/2000/svg\" height=\"24px\"viewBox=\"0 0 24 24\"\n",
              "       width=\"24px\">\n",
              "    <path d=\"M0 0h24v24H0V0z\" fill=\"none\"/>\n",
              "    <path d=\"M18.56 5.44l.94 2.06.94-2.06 2.06-.94-2.06-.94-.94-2.06-.94 2.06-2.06.94zm-11 1L8.5 8.5l.94-2.06 2.06-.94-2.06-.94L8.5 2.5l-.94 2.06-2.06.94zm10 10l.94 2.06.94-2.06 2.06-.94-2.06-.94-.94-2.06-.94 2.06-2.06.94z\"/><path d=\"M17.41 7.96l-1.37-1.37c-.4-.4-.92-.59-1.43-.59-.52 0-1.04.2-1.43.59L10.3 9.45l-7.72 7.72c-.78.78-.78 2.05 0 2.83L4 21.41c.39.39.9.59 1.41.59.51 0 1.02-.2 1.41-.59l7.78-7.78 2.81-2.81c.8-.78.8-2.07 0-2.86zM5.41 20L4 18.59l7.72-7.72 1.47 1.35L5.41 20z\"/>\n",
              "  </svg>\n",
              "      </button>\n",
              "      \n",
              "  <style>\n",
              "    .colab-df-container {\n",
              "      display:flex;\n",
              "      flex-wrap:wrap;\n",
              "      gap: 12px;\n",
              "    }\n",
              "\n",
              "    .colab-df-convert {\n",
              "      background-color: #E8F0FE;\n",
              "      border: none;\n",
              "      border-radius: 50%;\n",
              "      cursor: pointer;\n",
              "      display: none;\n",
              "      fill: #1967D2;\n",
              "      height: 32px;\n",
              "      padding: 0 0 0 0;\n",
              "      width: 32px;\n",
              "    }\n",
              "\n",
              "    .colab-df-convert:hover {\n",
              "      background-color: #E2EBFA;\n",
              "      box-shadow: 0px 1px 2px rgba(60, 64, 67, 0.3), 0px 1px 3px 1px rgba(60, 64, 67, 0.15);\n",
              "      fill: #174EA6;\n",
              "    }\n",
              "\n",
              "    [theme=dark] .colab-df-convert {\n",
              "      background-color: #3B4455;\n",
              "      fill: #D2E3FC;\n",
              "    }\n",
              "\n",
              "    [theme=dark] .colab-df-convert:hover {\n",
              "      background-color: #434B5C;\n",
              "      box-shadow: 0px 1px 3px 1px rgba(0, 0, 0, 0.15);\n",
              "      filter: drop-shadow(0px 1px 2px rgba(0, 0, 0, 0.3));\n",
              "      fill: #FFFFFF;\n",
              "    }\n",
              "  </style>\n",
              "\n",
              "      <script>\n",
              "        const buttonEl =\n",
              "          document.querySelector('#df-6cbd6d3a-c3a9-475f-8281-167c05f1228e button.colab-df-convert');\n",
              "        buttonEl.style.display =\n",
              "          google.colab.kernel.accessAllowed ? 'block' : 'none';\n",
              "\n",
              "        async function convertToInteractive(key) {\n",
              "          const element = document.querySelector('#df-6cbd6d3a-c3a9-475f-8281-167c05f1228e');\n",
              "          const dataTable =\n",
              "            await google.colab.kernel.invokeFunction('convertToInteractive',\n",
              "                                                     [key], {});\n",
              "          if (!dataTable) return;\n",
              "\n",
              "          const docLinkHtml = 'Like what you see? Visit the ' +\n",
              "            '<a target=\"_blank\" href=https://colab.research.google.com/notebooks/data_table.ipynb>data table notebook</a>'\n",
              "            + ' to learn more about interactive tables.';\n",
              "          element.innerHTML = '';\n",
              "          dataTable['output_type'] = 'display_data';\n",
              "          await google.colab.output.renderOutput(dataTable, element);\n",
              "          const docLink = document.createElement('div');\n",
              "          docLink.innerHTML = docLinkHtml;\n",
              "          element.appendChild(docLink);\n",
              "        }\n",
              "      </script>\n",
              "    </div>\n",
              "  </div>\n",
              "  "
            ]
          },
          "metadata": {},
          "execution_count": 726
        }
      ]
    },
    {
      "cell_type": "code",
      "source": [
        "model = ExtraTreesClassifier()\n",
        "model.fit(X, y)\n",
        "print(model.feature_importances_) #видно, что у некоторых признаков вклад в значение целевого признака крайне мал. \n",
        "#Удалим данные те признаки из набора данных, значение которых < 0.03"
      ],
      "metadata": {
        "colab": {
          "base_uri": "https://localhost:8080/"
        },
        "id": "10J35AZLnKgJ",
        "outputId": "d0c290f8-3a91-44fe-a156-8a9a434ed1bf"
      },
      "execution_count": null,
      "outputs": [
        {
          "output_type": "stream",
          "name": "stdout",
          "text": [
            "[0.03590459 0.18079526 0.04513074 0.05853966 0.04488321 0.03693474\n",
            " 0.0365445  0.0359697  0.03637212 0.03581867 0.05080229 0.03688943\n",
            " 0.03564587 0.0529391  0.01106041 0.04161083 0.03564283 0.0374293\n",
            " 0.0492855  0.01227495 0.01308955 0.0340884  0.03370194 0.00417797\n",
            " 0.00446845]\n"
          ]
        }
      ]
    },
    {
      "cell_type": "code",
      "source": [
        "[X.columns[i] for i, v in enumerate(model.feature_importances_) if v < 0.03] #получаем индексы элементов списка - это самые неинформативные признаки"
      ],
      "metadata": {
        "colab": {
          "base_uri": "https://localhost:8080/"
        },
        "id": "XkfokfBZp9Fw",
        "outputId": "0bcb92e9-46b7-4aa8-db26-783ce34a5964"
      },
      "execution_count": null,
      "outputs": [
        {
          "output_type": "execute_result",
          "data": {
            "text/plain": [
              "['Urine protein', 'dental caries', 'tartar', 'hear_left', 'hear_right']"
            ]
          },
          "metadata": {},
          "execution_count": 728
        }
      ]
    },
    {
      "cell_type": "code",
      "source": [
        "[X.columns[i] for i, v in enumerate(model.feature_importances_) if v > 0.04] #получаем индексы элементов списка - это самые информативные признаки"
      ],
      "metadata": {
        "colab": {
          "base_uri": "https://localhost:8080/"
        },
        "id": "JsrltRtQskSh",
        "outputId": "3abb4778-1b8f-476d-b836-456538c0142a"
      },
      "execution_count": null,
      "outputs": [
        {
          "output_type": "execute_result",
          "data": {
            "text/plain": [
              "['gender',\n",
              " 'age',\n",
              " 'height(cm)',\n",
              " 'weight(kg)',\n",
              " 'triglyceride',\n",
              " 'hemoglobin',\n",
              " 'serum creatinine',\n",
              " 'Gtp']"
            ]
          },
          "metadata": {},
          "execution_count": 729
        }
      ]
    },
    {
      "cell_type": "code",
      "source": [
        "X = X.drop(columns = ['Urine protein', 'dental caries', 'tartar', 'hear_left', 'hear_right']) #удаляем самые неинформативные признаки"
      ],
      "metadata": {
        "id": "EXprBM4YpHki"
      },
      "execution_count": null,
      "outputs": []
    },
    {
      "cell_type": "code",
      "source": [
        "#Понизим размерность методом главных компонент\n",
        "from sklearn.decomposition import PCA"
      ],
      "metadata": {
        "id": "HfR05PQSq6e5"
      },
      "execution_count": null,
      "outputs": []
    },
    {
      "cell_type": "code",
      "source": [
        "pca = PCA(n_components=3) #выбираем 3 компоненты\n",
        "fit = pca.fit(X)\n",
        "X_pca = fit.transform(X) #данные с пониженной размерностью\n",
        "\n",
        "print(\"Данные с пониженной размерностью: \", fit.explained_variance_ratio_)\n",
        "print(X_pca)"
      ],
      "metadata": {
        "colab": {
          "base_uri": "https://localhost:8080/"
        },
        "id": "N25BsERvrT02",
        "outputId": "9e9c7eea-f214-45a4-f9f8-daa0dfeb75b5"
      },
      "execution_count": null,
      "outputs": [
        {
          "output_type": "stream",
          "name": "stdout",
          "text": [
            "Данные с пониженной размерностью:  [9.99943436e-01 2.22835334e-05 1.15619628e-05]\n",
            "[[ 2.80981855e+04  5.05768433e+01  5.55583419e+01]\n",
            " [ 2.80971825e+04  1.30011965e+02  1.56458097e+02]\n",
            " [ 2.80961903e+04 -5.94950388e+01 -6.49930971e+00]\n",
            " ...\n",
            " [-2.72658169e+04  1.26208597e+02  1.13996625e+02]\n",
            " [-2.73418077e+04 -8.50895550e+01 -1.98919253e+01]\n",
            " [-2.73808097e+04 -4.00373849e+01  4.32117033e-01]]\n"
          ]
        }
      ]
    },
    {
      "cell_type": "markdown",
      "source": [
        "##2.2 Визуализация"
      ],
      "metadata": {
        "id": "U_Mj1flsrk5i"
      }
    },
    {
      "cell_type": "code",
      "source": [
        "#отобразим несколько графиков, передающих зависимость целевого признака от прочих. В ходе построения графиков опираемся на результаты пункта 2.1\n",
        "#['gender','age','height(cm)','weight(kg)','triglyceride','hemoglobin','serum creatinine','Gtp'] - самые информативные признаки"
      ],
      "metadata": {
        "id": "rEwc4iq7sE2Z"
      },
      "execution_count": null,
      "outputs": []
    },
    {
      "cell_type": "code",
      "source": [
        "smoking_graph = smoking_dataframe[[x for x in smoking_dataframe.columns if 'smoking' in x] + ['gender','age','height(cm)','weight(kg)','triglyceride','hemoglobin','serum creatinine','Gtp']]"
      ],
      "metadata": {
        "id": "nBuiXBd0tho-"
      },
      "execution_count": null,
      "outputs": []
    },
    {
      "cell_type": "code",
      "source": [
        "smoking_graph.groupby('smoking').sum().plot(kind='bar', rot=45)  #из графика чётко прослеживается зависимость признака smoking от признаков, описанных выше"
      ],
      "metadata": {
        "colab": {
          "base_uri": "https://localhost:8080/",
          "height": 298
        },
        "id": "ltlIVG8orfrF",
        "outputId": "d620af2c-dcd3-45ec-aedd-d7f1f91e1793"
      },
      "execution_count": null,
      "outputs": [
        {
          "output_type": "execute_result",
          "data": {
            "text/plain": [
              "<matplotlib.axes._subplots.AxesSubplot at 0x7f0fb0415290>"
            ]
          },
          "metadata": {},
          "execution_count": 735
        },
        {
          "output_type": "display_data",
          "data": {
            "text/plain": [
              "<Figure size 432x288 with 1 Axes>"
            ],
            "image/png": "[encoded data removed]"
          },
          "metadata": {
            "needs_background": "light"
          }
        }
      ]
    },
    {
      "cell_type": "markdown",
      "source": [
        "##2.3 Разбиение данных на обучающую и тестовую выборку"
      ],
      "metadata": {
        "id": "uziemlGlvmVw"
      }
    },
    {
      "cell_type": "code",
      "source": [
        "(X_train, X_test, y_train, y_test) = train_test_split(X, y,  \n",
        "                                     test_size=0.3, \n",
        "                                     random_state=smoking_dataframe.shape[0]) #разбиваем и перемешиваем выборку на обучающую и тестовую в отношении 7 к 3\n",
        "scaler = StandardScaler() #производим скалирование выборки\n",
        "scaler.fit(X_train)\n",
        "X_train = scaler.transform(X_train)\n",
        "X_test = scaler.transform(X_test)"
      ],
      "metadata": {
        "id": "2PTiJ-zvviYi"
      },
      "execution_count": null,
      "outputs": []
    },
    {
      "cell_type": "markdown",
      "source": [
        "##2.4 Выбор модели "
      ],
      "metadata": {
        "id": "VbZ_7dDvw__B"
      }
    },
    {
      "cell_type": "code",
      "source": [
        "import matplotlib.pyplot as plt\n",
        "from sklearn.model_selection import train_test_split\n",
        "from sklearn.metrics import auc, roc_curve, classification_report, roc_auc_score, confusion_matrix\n",
        "from sklearn.model_selection import RandomizedSearchCV\n",
        "from sklearn.model_selection import cross_val_score\n",
        "from sklearn.tree import DecisionTreeClassifier\n",
        "from sklearn import linear_model\n",
        "from sklearn.linear_model import Ridge\n",
        "from sklearn.linear_model import ElasticNet\n",
        "from sklearn.metrics import auc, roc_curve, classification_report, roc_auc_score, confusion_matrix, precision_score, recall_score, accuracy_score"
      ],
      "metadata": {
        "id": "YJKsCbcsyCWY"
      },
      "execution_count": null,
      "outputs": []
    },
    {
      "cell_type": "code",
      "source": [
        "Loss = ({'model' : [], 'test_accuracy' : [], 'test_recall' :[] , 'test_AUC' :[], 'f1_score' : [], 'test_precision' : [], 'hyper_params' : []}) \n",
        "df_Loss_Cl = pd.DataFrame(Loss) #заводим пустой датафрейм, куда будут записывать метрики качества каждой обучаемой модели"
      ],
      "metadata": {
        "id": "3ZST2Hibzqnp"
      },
      "execution_count": null,
      "outputs": []
    },
    {
      "cell_type": "markdown",
      "source": [
        "###2.4.1 Decision Tree Classifier"
      ],
      "metadata": {
        "id": "sm1PbpcvxPNh"
      }
    },
    {
      "cell_type": "code",
      "source": [
        "param_dist = {'splitter' : ['best', 'random'], 'max_depth' : np.arange(2, 100), 'min_samples_split' : np.arange(2, 25)}\n",
        "DTC_model = DecisionTreeClassifier() #подбор гиперпараметров для дерева классификации\n",
        "n_iter_search = 8 \n",
        "random_search_DTC = RandomizedSearchCV(DTC_model, \n",
        "                                   param_distributions=param_dist, \n",
        "                                   n_iter=n_iter_search, \n",
        "                                   cv=10, \n",
        "                                   scoring='roc_auc') \n",
        "random_search_DTC.fit(X_train, y_train) \n",
        "best_params_DTC = random_search_DTC.best_params_\n",
        "print(\"Лучшие параметры: {}\".format(random_search_DTC.best_params_)) #получаем гиперпараметры для нашего дерева посредством рандомизированного поиска по сетке\n"
      ],
      "metadata": {
        "colab": {
          "base_uri": "https://localhost:8080/"
        },
        "id": "lXETtgalw3LV",
        "outputId": "0c3915b4-eeba-42b9-92b4-62986b39f010"
      },
      "execution_count": null,
      "outputs": [
        {
          "output_type": "stream",
          "name": "stdout",
          "text": [
            "Лучшие параметры: {'splitter': 'best', 'min_samples_split': 7, 'max_depth': 6}\n"
          ]
        }
      ]
    },
    {
      "cell_type": "code",
      "source": [
        "DTC_model_fit = DecisionTreeClassifier(max_depth = best_params_DTC['max_depth'],  #обучаем модель с заданными гиперпараметрами\n",
        "                                                                      min_samples_split=best_params_DTC['min_samples_split'], splitter = best_params_DTC['splitter'])"
      ],
      "metadata": {
        "id": "LW7EiAHpycoZ"
      },
      "execution_count": null,
      "outputs": []
    },
    {
      "cell_type": "code",
      "source": [
        "DTC_model_fit.fit(X_train, y_train)\n",
        "y_pred_DTC = DTC_model_fit.predict(X_test)"
      ],
      "metadata": {
        "id": "aMhDNHlHywAK"
      },
      "execution_count": null,
      "outputs": []
    },
    {
      "cell_type": "code",
      "source": [
        "df_Loss_Cl = loss_func_classifier(df_Loss_Cl, \"Decision Tree Classifier\", y_test, y_pred_DTC, best_params_DTC)"
      ],
      "metadata": {
        "id": "5ivwnT-RzbtU"
      },
      "execution_count": null,
      "outputs": []
    },
    {
      "cell_type": "code",
      "source": [
        "df_Loss_Cl"
      ],
      "metadata": {
        "colab": {
          "base_uri": "https://localhost:8080/",
          "height": 81
        },
        "id": "kfPM3WDp7G6Z",
        "outputId": "a9bb3414-7ff2-4e23-8d22-62e0c13d2caf"
      },
      "execution_count": null,
      "outputs": [
        {
          "output_type": "execute_result",
          "data": {
            "text/plain": [
              "                      model  test_accuracy  test_recall  test_AUC  f1_score  \\\n",
              "0  Decision Tree Classifier          0.717       0.6753    0.7084     0.639   \n",
              "\n",
              "   test_precision                                       hyper_params  \n",
              "0          0.6065  {'splitter': 'best', 'min_samples_split': 7, '...  "
            ],
            "text/html": [
              "\n",
              "  <div id=\"df-ee970583-3498-4953-83ac-c1025dca71ed\">\n",
              "    <div class=\"colab-df-container\">\n",
              "      <div>\n",
              "<style scoped>\n",
              "    .dataframe tbody tr th:only-of-type {\n",
              "        vertical-align: middle;\n",
              "    }\n",
              "\n",
              "    .dataframe tbody tr th {\n",
              "        vertical-align: top;\n",
              "    }\n",
              "\n",
              "    .dataframe thead th {\n",
              "        text-align: right;\n",
              "    }\n",
              "</style>\n",
              "<table border=\"1\" class=\"dataframe\">\n",
              "  <thead>\n",
              "    <tr style=\"text-align: right;\">\n",
              "      <th></th>\n",
              "      <th>model</th>\n",
              "      <th>test_accuracy</th>\n",
              "      <th>test_recall</th>\n",
              "      <th>test_AUC</th>\n",
              "      <th>f1_score</th>\n",
              "      <th>test_precision</th>\n",
              "      <th>hyper_params</th>\n",
              "    </tr>\n",
              "  </thead>\n",
              "  <tbody>\n",
              "    <tr>\n",
              "      <th>0</th>\n",
              "      <td>Decision Tree Classifier</td>\n",
              "      <td>0.717</td>\n",
              "      <td>0.6753</td>\n",
              "      <td>0.7084</td>\n",
              "      <td>0.639</td>\n",
              "      <td>0.6065</td>\n",
              "      <td>{'splitter': 'best', 'min_samples_split': 7, '...</td>\n",
              "    </tr>\n",
              "  </tbody>\n",
              "</table>\n",
              "</div>\n",
              "      <button class=\"colab-df-convert\" onclick=\"convertToInteractive('df-ee970583-3498-4953-83ac-c1025dca71ed')\"\n",
              "              title=\"Convert this dataframe to an interactive table.\"\n",
              "              style=\"display:none;\">\n",
              "        \n",
              "  <svg xmlns=\"http://www.w3.org/2000/svg\" height=\"24px\"viewBox=\"0 0 24 24\"\n",
              "       width=\"24px\">\n",
              "    <path d=\"M0 0h24v24H0V0z\" fill=\"none\"/>\n",
              "    <path d=\"M18.56 5.44l.94 2.06.94-2.06 2.06-.94-2.06-.94-.94-2.06-.94 2.06-2.06.94zm-11 1L8.5 8.5l.94-2.06 2.06-.94-2.06-.94L8.5 2.5l-.94 2.06-2.06.94zm10 10l.94 2.06.94-2.06 2.06-.94-2.06-.94-.94-2.06-.94 2.06-2.06.94z\"/><path d=\"M17.41 7.96l-1.37-1.37c-.4-.4-.92-.59-1.43-.59-.52 0-1.04.2-1.43.59L10.3 9.45l-7.72 7.72c-.78.78-.78 2.05 0 2.83L4 21.41c.39.39.9.59 1.41.59.51 0 1.02-.2 1.41-.59l7.78-7.78 2.81-2.81c.8-.78.8-2.07 0-2.86zM5.41 20L4 18.59l7.72-7.72 1.47 1.35L5.41 20z\"/>\n",
              "  </svg>\n",
              "      </button>\n",
              "      \n",
              "  <style>\n",
              "    .colab-df-container {\n",
              "      display:flex;\n",
              "      flex-wrap:wrap;\n",
              "      gap: 12px;\n",
              "    }\n",
              "\n",
              "    .colab-df-convert {\n",
              "      background-color: #E8F0FE;\n",
              "      border: none;\n",
              "      border-radius: 50%;\n",
              "      cursor: pointer;\n",
              "      display: none;\n",
              "      fill: #1967D2;\n",
              "      height: 32px;\n",
              "      padding: 0 0 0 0;\n",
              "      width: 32px;\n",
              "    }\n",
              "\n",
              "    .colab-df-convert:hover {\n",
              "      background-color: #E2EBFA;\n",
              "      box-shadow: 0px 1px 2px rgba(60, 64, 67, 0.3), 0px 1px 3px 1px rgba(60, 64, 67, 0.15);\n",
              "      fill: #174EA6;\n",
              "    }\n",
              "\n",
              "    [theme=dark] .colab-df-convert {\n",
              "      background-color: #3B4455;\n",
              "      fill: #D2E3FC;\n",
              "    }\n",
              "\n",
              "    [theme=dark] .colab-df-convert:hover {\n",
              "      background-color: #434B5C;\n",
              "      box-shadow: 0px 1px 3px 1px rgba(0, 0, 0, 0.15);\n",
              "      filter: drop-shadow(0px 1px 2px rgba(0, 0, 0, 0.3));\n",
              "      fill: #FFFFFF;\n",
              "    }\n",
              "  </style>\n",
              "\n",
              "      <script>\n",
              "        const buttonEl =\n",
              "          document.querySelector('#df-ee970583-3498-4953-83ac-c1025dca71ed button.colab-df-convert');\n",
              "        buttonEl.style.display =\n",
              "          google.colab.kernel.accessAllowed ? 'block' : 'none';\n",
              "\n",
              "        async function convertToInteractive(key) {\n",
              "          const element = document.querySelector('#df-ee970583-3498-4953-83ac-c1025dca71ed');\n",
              "          const dataTable =\n",
              "            await google.colab.kernel.invokeFunction('convertToInteractive',\n",
              "                                                     [key], {});\n",
              "          if (!dataTable) return;\n",
              "\n",
              "          const docLinkHtml = 'Like what you see? Visit the ' +\n",
              "            '<a target=\"_blank\" href=https://colab.research.google.com/notebooks/data_table.ipynb>data table notebook</a>'\n",
              "            + ' to learn more about interactive tables.';\n",
              "          element.innerHTML = '';\n",
              "          dataTable['output_type'] = 'display_data';\n",
              "          await google.colab.output.renderOutput(dataTable, element);\n",
              "          const docLink = document.createElement('div');\n",
              "          docLink.innerHTML = docLinkHtml;\n",
              "          element.appendChild(docLink);\n",
              "        }\n",
              "      </script>\n",
              "    </div>\n",
              "  </div>\n",
              "  "
            ]
          },
          "metadata": {},
          "execution_count": 743
        }
      ]
    },
    {
      "cell_type": "markdown",
      "source": [
        "###2.4.2 Метод опорных векторов (SVM)"
      ],
      "metadata": {
        "id": "6OgX1HmA0b4x"
      }
    },
    {
      "cell_type": "code",
      "source": [
        "from sklearn.svm import SVC"
      ],
      "metadata": {
        "id": "XjApnqar0Z0p"
      },
      "execution_count": null,
      "outputs": []
    },
    {
      "cell_type": "code",
      "source": [
        "SVC_model_fit = SVC()"
      ],
      "metadata": {
        "id": "lmXcch8B2dBQ"
      },
      "execution_count": null,
      "outputs": []
    },
    {
      "cell_type": "code",
      "source": [
        "SVC_model_fit.fit(X_train, y_train)\n",
        "y_pred_SVC = SVC_model_fit.predict(X_test)"
      ],
      "metadata": {
        "id": "FdA1g7J34xuZ"
      },
      "execution_count": null,
      "outputs": []
    },
    {
      "cell_type": "code",
      "source": [
        "df_Loss_Cl = loss_func_classifier(df_Loss_Cl, \"SVC\", y_test, y_pred_SVC, {})"
      ],
      "metadata": {
        "id": "Tbse-3gA416B"
      },
      "execution_count": null,
      "outputs": []
    },
    {
      "cell_type": "code",
      "source": [
        "df_Loss_Cl"
      ],
      "metadata": {
        "colab": {
          "base_uri": "https://localhost:8080/",
          "height": 112
        },
        "id": "UTxJ8mUk7HhR",
        "outputId": "e37fc0e1-6126-43e1-d3ac-1e188f82f05c"
      },
      "execution_count": null,
      "outputs": [
        {
          "output_type": "execute_result",
          "data": {
            "text/plain": [
              "                      model  test_accuracy  test_recall  test_AUC  f1_score  \\\n",
              "0  Decision Tree Classifier         0.7170       0.6753    0.7084    0.6390   \n",
              "1                       SVC         0.7336       0.7079    0.7283    0.6634   \n",
              "\n",
              "   test_precision                                       hyper_params  \n",
              "0          0.6065  {'splitter': 'best', 'min_samples_split': 7, '...  \n",
              "1          0.6242                                                 {}  "
            ],
            "text/html": [
              "\n",
              "  <div id=\"df-265ef870-f09e-46b2-a9c9-101b7756dce6\">\n",
              "    <div class=\"colab-df-container\">\n",
              "      <div>\n",
              "<style scoped>\n",
              "    .dataframe tbody tr th:only-of-type {\n",
              "        vertical-align: middle;\n",
              "    }\n",
              "\n",
              "    .dataframe tbody tr th {\n",
              "        vertical-align: top;\n",
              "    }\n",
              "\n",
              "    .dataframe thead th {\n",
              "        text-align: right;\n",
              "    }\n",
              "</style>\n",
              "<table border=\"1\" class=\"dataframe\">\n",
              "  <thead>\n",
              "    <tr style=\"text-align: right;\">\n",
              "      <th></th>\n",
              "      <th>model</th>\n",
              "      <th>test_accuracy</th>\n",
              "      <th>test_recall</th>\n",
              "      <th>test_AUC</th>\n",
              "      <th>f1_score</th>\n",
              "      <th>test_precision</th>\n",
              "      <th>hyper_params</th>\n",
              "    </tr>\n",
              "  </thead>\n",
              "  <tbody>\n",
              "    <tr>\n",
              "      <th>0</th>\n",
              "      <td>Decision Tree Classifier</td>\n",
              "      <td>0.7170</td>\n",
              "      <td>0.6753</td>\n",
              "      <td>0.7084</td>\n",
              "      <td>0.6390</td>\n",
              "      <td>0.6065</td>\n",
              "      <td>{'splitter': 'best', 'min_samples_split': 7, '...</td>\n",
              "    </tr>\n",
              "    <tr>\n",
              "      <th>1</th>\n",
              "      <td>SVC</td>\n",
              "      <td>0.7336</td>\n",
              "      <td>0.7079</td>\n",
              "      <td>0.7283</td>\n",
              "      <td>0.6634</td>\n",
              "      <td>0.6242</td>\n",
              "      <td>{}</td>\n",
              "    </tr>\n",
              "  </tbody>\n",
              "</table>\n",
              "</div>\n",
              "      <button class=\"colab-df-convert\" onclick=\"convertToInteractive('df-265ef870-f09e-46b2-a9c9-101b7756dce6')\"\n",
              "              title=\"Convert this dataframe to an interactive table.\"\n",
              "              style=\"display:none;\">\n",
              "        \n",
              "  <svg xmlns=\"http://www.w3.org/2000/svg\" height=\"24px\"viewBox=\"0 0 24 24\"\n",
              "       width=\"24px\">\n",
              "    <path d=\"M0 0h24v24H0V0z\" fill=\"none\"/>\n",
              "    <path d=\"M18.56 5.44l.94 2.06.94-2.06 2.06-.94-2.06-.94-.94-2.06-.94 2.06-2.06.94zm-11 1L8.5 8.5l.94-2.06 2.06-.94-2.06-.94L8.5 2.5l-.94 2.06-2.06.94zm10 10l.94 2.06.94-2.06 2.06-.94-2.06-.94-.94-2.06-.94 2.06-2.06.94z\"/><path d=\"M17.41 7.96l-1.37-1.37c-.4-.4-.92-.59-1.43-.59-.52 0-1.04.2-1.43.59L10.3 9.45l-7.72 7.72c-.78.78-.78 2.05 0 2.83L4 21.41c.39.39.9.59 1.41.59.51 0 1.02-.2 1.41-.59l7.78-7.78 2.81-2.81c.8-.78.8-2.07 0-2.86zM5.41 20L4 18.59l7.72-7.72 1.47 1.35L5.41 20z\"/>\n",
              "  </svg>\n",
              "      </button>\n",
              "      \n",
              "  <style>\n",
              "    .colab-df-container {\n",
              "      display:flex;\n",
              "      flex-wrap:wrap;\n",
              "      gap: 12px;\n",
              "    }\n",
              "\n",
              "    .colab-df-convert {\n",
              "      background-color: #E8F0FE;\n",
              "      border: none;\n",
              "      border-radius: 50%;\n",
              "      cursor: pointer;\n",
              "      display: none;\n",
              "      fill: #1967D2;\n",
              "      height: 32px;\n",
              "      padding: 0 0 0 0;\n",
              "      width: 32px;\n",
              "    }\n",
              "\n",
              "    .colab-df-convert:hover {\n",
              "      background-color: #E2EBFA;\n",
              "      box-shadow: 0px 1px 2px rgba(60, 64, 67, 0.3), 0px 1px 3px 1px rgba(60, 64, 67, 0.15);\n",
              "      fill: #174EA6;\n",
              "    }\n",
              "\n",
              "    [theme=dark] .colab-df-convert {\n",
              "      background-color: #3B4455;\n",
              "      fill: #D2E3FC;\n",
              "    }\n",
              "\n",
              "    [theme=dark] .colab-df-convert:hover {\n",
              "      background-color: #434B5C;\n",
              "      box-shadow: 0px 1px 3px 1px rgba(0, 0, 0, 0.15);\n",
              "      filter: drop-shadow(0px 1px 2px rgba(0, 0, 0, 0.3));\n",
              "      fill: #FFFFFF;\n",
              "    }\n",
              "  </style>\n",
              "\n",
              "      <script>\n",
              "        const buttonEl =\n",
              "          document.querySelector('#df-265ef870-f09e-46b2-a9c9-101b7756dce6 button.colab-df-convert');\n",
              "        buttonEl.style.display =\n",
              "          google.colab.kernel.accessAllowed ? 'block' : 'none';\n",
              "\n",
              "        async function convertToInteractive(key) {\n",
              "          const element = document.querySelector('#df-265ef870-f09e-46b2-a9c9-101b7756dce6');\n",
              "          const dataTable =\n",
              "            await google.colab.kernel.invokeFunction('convertToInteractive',\n",
              "                                                     [key], {});\n",
              "          if (!dataTable) return;\n",
              "\n",
              "          const docLinkHtml = 'Like what you see? Visit the ' +\n",
              "            '<a target=\"_blank\" href=https://colab.research.google.com/notebooks/data_table.ipynb>data table notebook</a>'\n",
              "            + ' to learn more about interactive tables.';\n",
              "          element.innerHTML = '';\n",
              "          dataTable['output_type'] = 'display_data';\n",
              "          await google.colab.output.renderOutput(dataTable, element);\n",
              "          const docLink = document.createElement('div');\n",
              "          docLink.innerHTML = docLinkHtml;\n",
              "          element.appendChild(docLink);\n",
              "        }\n",
              "      </script>\n",
              "    </div>\n",
              "  </div>\n",
              "  "
            ]
          },
          "metadata": {},
          "execution_count": 748
        }
      ]
    },
    {
      "cell_type": "markdown",
      "source": [
        "###2.4.3 BaggingClassifier"
      ],
      "metadata": {
        "id": "1gdAb1z45D0z"
      }
    },
    {
      "cell_type": "code",
      "source": [
        "from sklearn.ensemble import BaggingClassifier"
      ],
      "metadata": {
        "id": "9qnTgtln5sfg"
      },
      "execution_count": null,
      "outputs": []
    },
    {
      "cell_type": "code",
      "source": [
        "param_dist = {'splitter' : ['best', 'random'], 'max_depth' : np.arange(2, 100), 'min_samples_split' : np.arange(2, 25)}\n",
        "DTC_model = DecisionTreeClassifier() #подбор гиперпараметров для дерева классификации\n",
        "n_iter_search = 8 \n",
        "random_search_DTC = RandomizedSearchCV(DTC_model, \n",
        "                                   param_distributions=param_dist, \n",
        "                                   n_iter=n_iter_search, \n",
        "                                   cv=10, \n",
        "                                   scoring='roc_auc') \n",
        "random_search_DTC.fit(X_train, y_train) \n",
        "best_params_DTC = random_search_DTC.best_params_\n",
        "print(\"Лучшие параметры: {}\".format(random_search_DTC.best_params_)) #получаем гиперпараметры для нашего дерева посредством рандомизированного поиска по сетке"
      ],
      "metadata": {
        "colab": {
          "base_uri": "https://localhost:8080/"
        },
        "id": "oSw9Wwm45X25",
        "outputId": "de51ea3d-7caa-476c-d00c-3343a235143b"
      },
      "execution_count": null,
      "outputs": [
        {
          "output_type": "stream",
          "name": "stdout",
          "text": [
            "Лучшие параметры: {'splitter': 'best', 'min_samples_split': 22, 'max_depth': 81}\n"
          ]
        }
      ]
    },
    {
      "cell_type": "code",
      "source": [
        "param_dist = {\"n_estimators\": np.arange(1, 201)}   \n",
        "Bag_model_C = BaggingClassifier(base_estimator= DecisionTreeClassifier(max_depth = best_params_DTC['max_depth'], \n",
        "                                                                      min_samples_split=best_params_DTC['min_samples_split']))\n",
        "n_iter_search = 5\n",
        "random_search_Bag = RandomizedSearchCV(Bag_model_C,  #подбор гиперпараметров для бэггинга с уже подобранными \n",
        "                                   param_distributions=param_dist,  #гиперпараметрами для дерева\n",
        "                                   n_iter=n_iter_search, \n",
        "                                   cv=10, \n",
        "                                   scoring='roc_auc') \n",
        "random_search_Bag.fit(X_train, y_train) \n",
        "best_params_bag_c = random_search_Bag.best_params_\n",
        "print(\"Лучшие параметры: {}\".format(random_search_Bag.best_params_))"
      ],
      "metadata": {
        "colab": {
          "base_uri": "https://localhost:8080/"
        },
        "id": "jB4ZZCOI5hGK",
        "outputId": "fc07cfd6-e064-4166-eed0-c20b9a58b82f"
      },
      "execution_count": null,
      "outputs": [
        {
          "output_type": "stream",
          "name": "stdout",
          "text": [
            "Лучшие параметры: {'n_estimators': 107}\n"
          ]
        }
      ]
    },
    {
      "cell_type": "code",
      "source": [
        "clf_bagging = BaggingClassifier(base_estimator= DecisionTreeClassifier(max_depth = best_params_DTC['max_depth'],  \n",
        "                                                                     splitter= best_params_DTC['splitter'],\n",
        "                                                                      min_samples_split=best_params_DTC['min_samples_split']), \n",
        "                               n_estimators=best_params_bag_c['n_estimators'])\n",
        "clf_bagging = clf_bagging.fit(X_train, y_train)\n",
        "y_pred_bagging = clf_bagging.predict(X_test) #обучение модели с указанными гиперпараметрами"
      ],
      "metadata": {
        "id": "3gcC_3Ml5oYQ"
      },
      "execution_count": null,
      "outputs": []
    },
    {
      "cell_type": "code",
      "source": [
        "df_Loss_Cl = loss_func_classifier(df_Loss_Cl, \"Bagging_cl_DTC\", y_test, y_pred_bagging, (best_params_bag_c, best_params_DTC))"
      ],
      "metadata": {
        "id": "qWX4GWxQ5_GJ"
      },
      "execution_count": null,
      "outputs": []
    },
    {
      "cell_type": "code",
      "source": [
        "df_Loss_Cl #все три обученные модели с метриками качества"
      ],
      "metadata": {
        "colab": {
          "base_uri": "https://localhost:8080/",
          "height": 143
        },
        "id": "o8wi_FXF7JCS",
        "outputId": "e23d250c-c8b4-4ab9-dcaa-64388b903c5a"
      },
      "execution_count": null,
      "outputs": [
        {
          "output_type": "execute_result",
          "data": {
            "text/plain": [
              "                      model  test_accuracy  test_recall  test_AUC  f1_score  \\\n",
              "0  Decision Tree Classifier         0.7170       0.6753    0.7084    0.6390   \n",
              "1                       SVC         0.7336       0.7079    0.7283    0.6634   \n",
              "2            Bagging_cl_DTC         0.7425       0.6942    0.7326    0.6667   \n",
              "\n",
              "   test_precision                                       hyper_params  \n",
              "0          0.6065  {'splitter': 'best', 'min_samples_split': 7, '...  \n",
              "1          0.6242                                                 {}  \n",
              "2          0.6413  ({'n_estimators': 107}, {'splitter': 'best', '...  "
            ],
            "text/html": [
              "\n",
              "  <div id=\"df-05be5fb8-4250-4650-ba66-2db16c9934f8\">\n",
              "    <div class=\"colab-df-container\">\n",
              "      <div>\n",
              "<style scoped>\n",
              "    .dataframe tbody tr th:only-of-type {\n",
              "        vertical-align: middle;\n",
              "    }\n",
              "\n",
              "    .dataframe tbody tr th {\n",
              "        vertical-align: top;\n",
              "    }\n",
              "\n",
              "    .dataframe thead th {\n",
              "        text-align: right;\n",
              "    }\n",
              "</style>\n",
              "<table border=\"1\" class=\"dataframe\">\n",
              "  <thead>\n",
              "    <tr style=\"text-align: right;\">\n",
              "      <th></th>\n",
              "      <th>model</th>\n",
              "      <th>test_accuracy</th>\n",
              "      <th>test_recall</th>\n",
              "      <th>test_AUC</th>\n",
              "      <th>f1_score</th>\n",
              "      <th>test_precision</th>\n",
              "      <th>hyper_params</th>\n",
              "    </tr>\n",
              "  </thead>\n",
              "  <tbody>\n",
              "    <tr>\n",
              "      <th>0</th>\n",
              "      <td>Decision Tree Classifier</td>\n",
              "      <td>0.7170</td>\n",
              "      <td>0.6753</td>\n",
              "      <td>0.7084</td>\n",
              "      <td>0.6390</td>\n",
              "      <td>0.6065</td>\n",
              "      <td>{'splitter': 'best', 'min_samples_split': 7, '...</td>\n",
              "    </tr>\n",
              "    <tr>\n",
              "      <th>1</th>\n",
              "      <td>SVC</td>\n",
              "      <td>0.7336</td>\n",
              "      <td>0.7079</td>\n",
              "      <td>0.7283</td>\n",
              "      <td>0.6634</td>\n",
              "      <td>0.6242</td>\n",
              "      <td>{}</td>\n",
              "    </tr>\n",
              "    <tr>\n",
              "      <th>2</th>\n",
              "      <td>Bagging_cl_DTC</td>\n",
              "      <td>0.7425</td>\n",
              "      <td>0.6942</td>\n",
              "      <td>0.7326</td>\n",
              "      <td>0.6667</td>\n",
              "      <td>0.6413</td>\n",
              "      <td>({'n_estimators': 107}, {'splitter': 'best', '...</td>\n",
              "    </tr>\n",
              "  </tbody>\n",
              "</table>\n",
              "</div>\n",
              "      <button class=\"colab-df-convert\" onclick=\"convertToInteractive('df-05be5fb8-4250-4650-ba66-2db16c9934f8')\"\n",
              "              title=\"Convert this dataframe to an interactive table.\"\n",
              "              style=\"display:none;\">\n",
              "        \n",
              "  <svg xmlns=\"http://www.w3.org/2000/svg\" height=\"24px\"viewBox=\"0 0 24 24\"\n",
              "       width=\"24px\">\n",
              "    <path d=\"M0 0h24v24H0V0z\" fill=\"none\"/>\n",
              "    <path d=\"M18.56 5.44l.94 2.06.94-2.06 2.06-.94-2.06-.94-.94-2.06-.94 2.06-2.06.94zm-11 1L8.5 8.5l.94-2.06 2.06-.94-2.06-.94L8.5 2.5l-.94 2.06-2.06.94zm10 10l.94 2.06.94-2.06 2.06-.94-2.06-.94-.94-2.06-.94 2.06-2.06.94z\"/><path d=\"M17.41 7.96l-1.37-1.37c-.4-.4-.92-.59-1.43-.59-.52 0-1.04.2-1.43.59L10.3 9.45l-7.72 7.72c-.78.78-.78 2.05 0 2.83L4 21.41c.39.39.9.59 1.41.59.51 0 1.02-.2 1.41-.59l7.78-7.78 2.81-2.81c.8-.78.8-2.07 0-2.86zM5.41 20L4 18.59l7.72-7.72 1.47 1.35L5.41 20z\"/>\n",
              "  </svg>\n",
              "      </button>\n",
              "      \n",
              "  <style>\n",
              "    .colab-df-container {\n",
              "      display:flex;\n",
              "      flex-wrap:wrap;\n",
              "      gap: 12px;\n",
              "    }\n",
              "\n",
              "    .colab-df-convert {\n",
              "      background-color: #E8F0FE;\n",
              "      border: none;\n",
              "      border-radius: 50%;\n",
              "      cursor: pointer;\n",
              "      display: none;\n",
              "      fill: #1967D2;\n",
              "      height: 32px;\n",
              "      padding: 0 0 0 0;\n",
              "      width: 32px;\n",
              "    }\n",
              "\n",
              "    .colab-df-convert:hover {\n",
              "      background-color: #E2EBFA;\n",
              "      box-shadow: 0px 1px 2px rgba(60, 64, 67, 0.3), 0px 1px 3px 1px rgba(60, 64, 67, 0.15);\n",
              "      fill: #174EA6;\n",
              "    }\n",
              "\n",
              "    [theme=dark] .colab-df-convert {\n",
              "      background-color: #3B4455;\n",
              "      fill: #D2E3FC;\n",
              "    }\n",
              "\n",
              "    [theme=dark] .colab-df-convert:hover {\n",
              "      background-color: #434B5C;\n",
              "      box-shadow: 0px 1px 3px 1px rgba(0, 0, 0, 0.15);\n",
              "      filter: drop-shadow(0px 1px 2px rgba(0, 0, 0, 0.3));\n",
              "      fill: #FFFFFF;\n",
              "    }\n",
              "  </style>\n",
              "\n",
              "      <script>\n",
              "        const buttonEl =\n",
              "          document.querySelector('#df-05be5fb8-4250-4650-ba66-2db16c9934f8 button.colab-df-convert');\n",
              "        buttonEl.style.display =\n",
              "          google.colab.kernel.accessAllowed ? 'block' : 'none';\n",
              "\n",
              "        async function convertToInteractive(key) {\n",
              "          const element = document.querySelector('#df-05be5fb8-4250-4650-ba66-2db16c9934f8');\n",
              "          const dataTable =\n",
              "            await google.colab.kernel.invokeFunction('convertToInteractive',\n",
              "                                                     [key], {});\n",
              "          if (!dataTable) return;\n",
              "\n",
              "          const docLinkHtml = 'Like what you see? Visit the ' +\n",
              "            '<a target=\"_blank\" href=https://colab.research.google.com/notebooks/data_table.ipynb>data table notebook</a>'\n",
              "            + ' to learn more about interactive tables.';\n",
              "          element.innerHTML = '';\n",
              "          dataTable['output_type'] = 'display_data';\n",
              "          await google.colab.output.renderOutput(dataTable, element);\n",
              "          const docLink = document.createElement('div');\n",
              "          docLink.innerHTML = docLinkHtml;\n",
              "          element.appendChild(docLink);\n",
              "        }\n",
              "      </script>\n",
              "    </div>\n",
              "  </div>\n",
              "  "
            ]
          },
          "metadata": {},
          "execution_count": 754
        }
      ]
    },
    {
      "cell_type": "markdown",
      "source": [
        "##2.5 Отчёт"
      ],
      "metadata": {
        "id": "Zw_AFQRr-e2R"
      }
    },
    {
      "cell_type": "markdown",
      "source": [
        "Проведя отбор признаков, понижение размерности имеющихся данных, обучение трёх моделей(SVC, DTC, Бэггинг на основе DTC) можно утвержать, что:\n",
        "\n",
        "1. Лучше всего себя показала модель, обученная по бэггингу на основе дерева классификации, это можно видеть, исходя из метрик качества, однако обучение этой модели заняло намного больше времени(~2), чем обучение модели на основе метода опорных векторов\n",
        "2. В данных присутствует зависимость между целевым признаком и остальными, это видно из графика в пункте 2.2\n",
        "3. Был произведён отбор признаков. Были убраны самые неинформативные, даже несмотря на это качество каждой из трёх моделей хорошее "
      ],
      "metadata": {
        "id": "JUkM2gkN-jMp"
      }
    }
  ]
}