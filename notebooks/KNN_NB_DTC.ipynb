{
 "cells": [
  {
   "cell_type": "code",
   "execution_count": 1,
   "id": "510237d0",
   "metadata": {},
   "outputs": [],
   "source": [
    "import numpy as np\n",
    "from collections import Counter"
   ]
  },
  {
   "cell_type": "code",
   "execution_count": 11,
   "id": "1250f8bf",
   "metadata": {},
   "outputs": [],
   "source": [
    "class KNN:\n",
    "    def __init__(self,k):\n",
    "        self.k=k\n",
    "    \n",
    "    def train(self, X_train,y_train): # Просто обозначить данные для обучения\n",
    "        self.X_train=X_train\n",
    "        self.y_train=y_train\n",
    "        \n",
    "    def predict(self,X,k): # Предсказание. Вызов методов, описанных ниже\n",
    "        dist=self.compute_distance(X)\n",
    "        return self.predict_labels(dist, k=k)\n",
    "    \n",
    "    def compute_distance(self,X): # Матрица дистанций исходной точки к другим точкам\n",
    "        num_test=X.shape[0]\n",
    "        num_train =self.X_train.shape[0]\n",
    "        dists=np.zeros((num_test, num_train))\n",
    "        for i in range(num_test):\n",
    "            dists[i,:]=np.sqrt(np.sum(np.square(self.X_train-X[i,:]), axis=1))# По Евклидовой норме\n",
    "            return dists\n",
    "        \n",
    "    def predict_labels(self, dists,k): #Предсказывания\n",
    "        num_test=dists.shape[0]\n",
    "        y_pred=np.zeros(num_test)\n",
    "        for i in range(num_test):\n",
    "            idx=np.argsort(dists[i,:])[:k] #Наиболее близкие индексы по Евклидовой норме \n",
    "            neighbors=self.y_train[idx].ravel() # Вектор столбец-> вектор строка\n",
    "            cntr=Counter(neighbors)\n",
    "            y_pred[i]=cntr.most_common(1)[0][0]\n",
    "            \n",
    "            return y_pred"
   ]
  },
  {
   "cell_type": "code",
   "execution_count": null,
   "id": "bdc69642",
   "metadata": {},
   "outputs": [],
   "source": []
  }
 ],
 "metadata": {
  "kernelspec": {
   "display_name": "Python 3",
   "language": "python",
   "name": "python3"
  },
  "language_info": {
   "codemirror_mode": {
    "name": "ipython",
    "version": 3
   },
   "file_extension": ".py",
   "mimetype": "text/x-python",
   "name": "python",
   "nbconvert_exporter": "python",
   "pygments_lexer": "ipython3",
   "version": "3.8.8"
  }
 },
 "nbformat": 4,
 "nbformat_minor": 5
}
