{
 "cells": [
  {
   "cell_type": "code",
   "execution_count": 1,
   "id": "e63aaa0b",
   "metadata": {},
   "outputs": [],
   "source": [
    "import pandas as pd"
   ]
  },
  {
   "cell_type": "code",
   "execution_count": 13,
   "id": "028a5b5c",
   "metadata": {
    "scrolled": true
   },
   "outputs": [
    {
     "data": {
      "text/plain": [
       "['user-id',\n",
       " 'user-age',\n",
       " 'user-gender',\n",
       " 'user-nationality',\n",
       " 'user-knowledge',\n",
       " 'user-loyalty',\n",
       " 'user-loan',\n",
       " 'user-income',\n",
       " 'user-savings',\n",
       " 'user-properties',\n",
       " 'user-riskAversion',\n",
       " 'user-marital',\n",
       " 'user-dependents',\n",
       " 'user-pension',\n",
       " 'product-type',\n",
       " 'product-risk',\n",
       " 'product-term',\n",
       " 'product-yield',\n",
       " 'transaction-id',\n",
       " 'year',\n",
       " 'month',\n",
       " 'score']"
      ]
     },
     "execution_count": 13,
     "metadata": {},
     "output_type": "execute_result"
    }
   ],
   "source": [
    "df=pd.read_csv('D:\\Python\\Github_ML\\Machine-Learning\\data\\dataset.csv')\n",
    "df.columns.tolist()"
   ]
  }
 ],
 "metadata": {
  "kernelspec": {
   "display_name": "Python 3",
   "language": "python",
   "name": "python3"
  },
  "language_info": {
   "codemirror_mode": {
    "name": "ipython",
    "version": 3
   },
   "file_extension": ".py",
   "mimetype": "text/x-python",
   "name": "python",
   "nbconvert_exporter": "python",
   "pygments_lexer": "ipython3",
   "version": "3.8.8"
  }
 },
 "nbformat": 4,
 "nbformat_minor": 5
}
