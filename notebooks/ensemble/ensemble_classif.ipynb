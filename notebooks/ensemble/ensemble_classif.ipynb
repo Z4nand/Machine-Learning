{
 "cells": [
  {
   "cell_type": "code",
   "execution_count": 100,
   "id": "454fad5e",
   "metadata": {},
   "outputs": [],
   "source": [
    "import pandas as pd\n",
    "import numpy as np\n",
    "from sklearn.model_selection import train_test_split\n",
    "from sklearn.tree import DecisionTreeClassifier\n",
    "from sklearn.pipeline import make_pipeline"
   ]
  },
  {
   "cell_type": "code",
   "execution_count": 317,
   "id": "4bd13dee",
   "metadata": {
    "scrolled": true
   },
   "outputs": [],
   "source": [
    "df=pd.read_csv('D:/Python/Github_ML/Machine-Learning/data/_preprocessed.csv', index_col=0)\n"
   ]
  },
  {
   "cell_type": "code",
   "execution_count": 318,
   "id": "4410816a",
   "metadata": {},
   "outputs": [],
   "source": [
    "idx=df.index[df['product-type']==0]"
   ]
  },
  {
   "cell_type": "code",
   "execution_count": 319,
   "id": "8a9a5ca6",
   "metadata": {},
   "outputs": [],
   "source": [
    "idx=idx[:3200]\n"
   ]
  },
  {
   "cell_type": "code",
   "execution_count": 320,
   "id": "97083191",
   "metadata": {},
   "outputs": [],
   "source": [
    "df=df.drop(labels=idx, axis=0)"
   ]
  },
  {
   "cell_type": "code",
   "execution_count": 321,
   "id": "956175e4",
   "metadata": {
    "scrolled": true
   },
   "outputs": [
    {
     "data": {
      "text/plain": [
       "(8185, 22)"
      ]
     },
     "execution_count": 321,
     "metadata": {},
     "output_type": "execute_result"
    }
   ],
   "source": [
    "df.shape"
   ]
  },
  {
   "cell_type": "code",
   "execution_count": 322,
   "id": "5358087e",
   "metadata": {},
   "outputs": [],
   "source": [
    "df=df.reindex(columns=[\n",
    " 'user-age',\n",
    " 'user-income',\n",
    " 'user-savings',\n",
    " 'user-properties',                   \n",
    " 'user-dependents',  \n",
    " 'user-pension',                   \n",
    " 'product-term',   \n",
    " 'year',\n",
    " 'month',\n",
    " 'score',\n",
    "    \n",
    " 'user-gender',\n",
    " 'user-nationality',\n",
    " 'user-knowledge',\n",
    " 'user-loyalty',\n",
    " 'user-loan',\n",
    " 'user-riskAversion',\n",
    " 'user-marital',\n",
    " 'product-yield',  \n",
    " 'product-risk',\n",
    "    \n",
    " 'product-type'\n",
    " \n",
    "])"
   ]
  },
  {
   "cell_type": "code",
   "execution_count": 323,
   "id": "afe134ae",
   "metadata": {},
   "outputs": [],
   "source": [
    "X = df.iloc[:, :-1].values\n",
    "y = df[\"product-type\"]\n",
    "X_train, X_test, y_train, y_test = train_test_split(X, y, test_size=0.20, random_state=44)"
   ]
  },
  {
   "cell_type": "code",
   "execution_count": 324,
   "id": "97079179",
   "metadata": {},
   "outputs": [],
   "source": [
    "v=np.split(X_train, [10], axis=1)\n",
    "w=np.split(X_test, [10], axis=1)"
   ]
  },
  {
   "cell_type": "code",
   "execution_count": 325,
   "id": "a573d009",
   "metadata": {},
   "outputs": [],
   "source": [
    "scaler = StandardScaler()\n",
    "scaler.fit(v[0])\n",
    "\n",
    "\n",
    "X_train=np.hstack((scaler.transform(v[0]), v[1]))\n",
    "\n",
    "X_test=np.hstack((scaler.transform(w[0]), w[1]))"
   ]
  },
  {
   "cell_type": "code",
   "execution_count": 326,
   "id": "7b7283a6",
   "metadata": {},
   "outputs": [],
   "source": [
    "# Оценка\n",
    "from sklearn.metrics import r2_score\n",
    "from sklearn.metrics import mean_squared_error\n",
    "from sklearn.metrics import mean_absolute_error\n",
    "\n",
    "def error_estimation(y_test, y_pred):\n",
    "    mse = mean_squared_error(y_test, y_pred) \n",
    "    print(\"MSE: \",mse)\n",
    "    \n",
    "    print(\"RMSE: {}\".format(np.sqrt(mse)))\n",
    "    \n",
    "    mae = mean_absolute_error(y_test, y_pred)\n",
    "    print(\"MAE: \",mae)\n",
    "\n",
    "    print(\"R2: \", r2_score(y_test, y_pred))"
   ]
  },
  {
   "cell_type": "markdown",
   "id": "3db8dade",
   "metadata": {},
   "source": [
    "## Bagging"
   ]
  },
  {
   "cell_type": "code",
   "execution_count": 327,
   "id": "6f69f993",
   "metadata": {},
   "outputs": [],
   "source": [
    "from sklearn.ensemble import BaggingClassifier\n",
    "from sklearn.metrics import classification_report, confusion_matrix"
   ]
  },
  {
   "cell_type": "code",
   "execution_count": 328,
   "id": "f04f3934",
   "metadata": {},
   "outputs": [
    {
     "data": {
      "text/plain": [
       "BaggingClassifier()"
      ]
     },
     "execution_count": 328,
     "metadata": {},
     "output_type": "execute_result"
    }
   ],
   "source": [
    "clf = BaggingClassifier()\n",
    "clf.fit(X_train, y_train)"
   ]
  },
  {
   "cell_type": "code",
   "execution_count": 329,
   "id": "247d8a62",
   "metadata": {},
   "outputs": [
    {
     "name": "stdout",
     "output_type": "stream",
     "text": [
      "[[313 195  90]\n",
      " [261 189 119]\n",
      " [210 165  95]]\n",
      "              precision    recall  f1-score   support\n",
      "\n",
      "           0       0.40      0.52      0.45       598\n",
      "           1       0.34      0.33      0.34       569\n",
      "           2       0.31      0.20      0.25       470\n",
      "\n",
      "    accuracy                           0.36      1637\n",
      "   macro avg       0.35      0.35      0.35      1637\n",
      "weighted avg       0.36      0.36      0.35      1637\n",
      "\n"
     ]
    }
   ],
   "source": [
    "y_pred = clf.predict(X_test)\n",
    "print(confusion_matrix(y_test, y_pred))\n",
    "print(classification_report(y_test, y_pred))"
   ]
  },
  {
   "cell_type": "markdown",
   "id": "cbf143f0",
   "metadata": {},
   "source": [
    "## Boosting"
   ]
  },
  {
   "cell_type": "code",
   "execution_count": 330,
   "id": "97f3ae90",
   "metadata": {},
   "outputs": [],
   "source": [
    "from sklearn.ensemble import GradientBoostingClassifier\n",
    "from sklearn.metrics import classification_report, confusion_matrix"
   ]
  },
  {
   "cell_type": "code",
   "execution_count": 331,
   "id": "84299f08",
   "metadata": {},
   "outputs": [
    {
     "data": {
      "text/plain": [
       "GradientBoostingClassifier()"
      ]
     },
     "execution_count": 331,
     "metadata": {},
     "output_type": "execute_result"
    }
   ],
   "source": [
    "bcl = GradientBoostingClassifier()\n",
    "bcl.fit(X_train, y_train)"
   ]
  },
  {
   "cell_type": "code",
   "execution_count": 332,
   "id": "73423560",
   "metadata": {},
   "outputs": [
    {
     "name": "stdout",
     "output_type": "stream",
     "text": [
      "[[313 195  90]\n",
      " [261 189 119]\n",
      " [210 165  95]]\n",
      "              precision    recall  f1-score   support\n",
      "\n",
      "           0       0.40      0.52      0.45       598\n",
      "           1       0.34      0.33      0.34       569\n",
      "           2       0.31      0.20      0.25       470\n",
      "\n",
      "    accuracy                           0.36      1637\n",
      "   macro avg       0.35      0.35      0.35      1637\n",
      "weighted avg       0.36      0.36      0.35      1637\n",
      "\n"
     ]
    }
   ],
   "source": [
    "y1_pred = clf.predict(X_test)\n",
    "print(confusion_matrix(y_test, y1_pred))\n",
    "print(classification_report(y_test, y1_pred))"
   ]
  },
  {
   "cell_type": "markdown",
   "id": "08e461e1",
   "metadata": {},
   "source": [
    "## Stacking"
   ]
  },
  {
   "cell_type": "code",
   "execution_count": 333,
   "id": "ce9c8fd1",
   "metadata": {},
   "outputs": [],
   "source": [
    "from sklearn.linear_model import LogisticRegression\n",
    "from sklearn.ensemble import StackingClassifier\n",
    "from sklearn.ensemble import RandomForestClassifier\n",
    "from sklearn.svm import LinearSVC"
   ]
  },
  {
   "cell_type": "code",
   "execution_count": 334,
   "id": "4487bbb9",
   "metadata": {},
   "outputs": [
    {
     "name": "stderr",
     "output_type": "stream",
     "text": [
      "D:\\Annexes\\forConda\\lib\\site-packages\\sklearn\\svm\\_base.py:985: ConvergenceWarning: Liblinear failed to converge, increase the number of iterations.\n",
      "  warnings.warn(\"Liblinear failed to converge, increase \"\n",
      "D:\\Annexes\\forConda\\lib\\site-packages\\sklearn\\svm\\_base.py:985: ConvergenceWarning: Liblinear failed to converge, increase the number of iterations.\n",
      "  warnings.warn(\"Liblinear failed to converge, increase \"\n",
      "D:\\Annexes\\forConda\\lib\\site-packages\\sklearn\\svm\\_base.py:985: ConvergenceWarning: Liblinear failed to converge, increase the number of iterations.\n",
      "  warnings.warn(\"Liblinear failed to converge, increase \"\n",
      "D:\\Annexes\\forConda\\lib\\site-packages\\sklearn\\svm\\_base.py:985: ConvergenceWarning: Liblinear failed to converge, increase the number of iterations.\n",
      "  warnings.warn(\"Liblinear failed to converge, increase \"\n",
      "D:\\Annexes\\forConda\\lib\\site-packages\\sklearn\\svm\\_base.py:985: ConvergenceWarning: Liblinear failed to converge, increase the number of iterations.\n",
      "  warnings.warn(\"Liblinear failed to converge, increase \"\n",
      "D:\\Annexes\\forConda\\lib\\site-packages\\sklearn\\svm\\_base.py:985: ConvergenceWarning: Liblinear failed to converge, increase the number of iterations.\n",
      "  warnings.warn(\"Liblinear failed to converge, increase \"\n"
     ]
    },
    {
     "data": {
      "text/plain": [
       "StackingClassifier(estimators=[('rf',\n",
       "                                RandomForestClassifier(n_estimators=10,\n",
       "                                                       random_state=42)),\n",
       "                               ('svr',\n",
       "                                Pipeline(steps=[('standardscaler',\n",
       "                                                 StandardScaler()),\n",
       "                                                ('linearsvc',\n",
       "                                                 LinearSVC(max_iter=100,\n",
       "                                                           random_state=42))]))],\n",
       "                   final_estimator=LogisticRegression())"
      ]
     },
     "execution_count": 334,
     "metadata": {},
     "output_type": "execute_result"
    }
   ],
   "source": [
    "estimators = [\n",
    "    ('rf', RandomForestClassifier(n_estimators=10, random_state=42)),\n",
    "    ('svr', make_pipeline(StandardScaler(), LinearSVC(random_state=42, max_iter=100)))]\n",
    "\n",
    "clf = StackingClassifier(estimators=estimators, final_estimator=LogisticRegression())\n",
    "clf.fit(X_train, y_train)"
   ]
  },
  {
   "cell_type": "code",
   "execution_count": 335,
   "id": "1cd4ad27",
   "metadata": {},
   "outputs": [
    {
     "name": "stdout",
     "output_type": "stream",
     "text": [
      "[[339 213  46]\n",
      " [248 268  53]\n",
      " [227 197  46]]\n",
      "              precision    recall  f1-score   support\n",
      "\n",
      "           0       0.42      0.57      0.48       598\n",
      "           1       0.40      0.47      0.43       569\n",
      "           2       0.32      0.10      0.15       470\n",
      "\n",
      "    accuracy                           0.40      1637\n",
      "   macro avg       0.38      0.38      0.35      1637\n",
      "weighted avg       0.38      0.40      0.37      1637\n",
      "\n"
     ]
    }
   ],
   "source": [
    "y2_pred = clf.predict(X_test)\n",
    "print(confusion_matrix(y_test, y2_pred))\n",
    "print(classification_report(y_test, y2_pred));"
   ]
  },
  {
   "cell_type": "markdown",
   "id": "12aab879",
   "metadata": {},
   "source": [
    "# Task 2"
   ]
  },
  {
   "cell_type": "code",
   "execution_count": 336,
   "id": "41459fd6",
   "metadata": {},
   "outputs": [],
   "source": [
    "from catboost import * "
   ]
  },
  {
   "cell_type": "code",
   "execution_count": 337,
   "id": "77aff3a4",
   "metadata": {},
   "outputs": [
    {
     "data": {
      "application/vnd.jupyter.widget-view+json": {
       "model_id": "a7e5a457ec6c480c90cc2d5645d15c45",
       "version_major": 2,
       "version_minor": 0
      },
      "text/plain": [
       "MetricVisualizer(layout=Layout(align_self='stretch', height='500px'))"
      ]
     },
     "metadata": {},
     "output_type": "display_data"
    },
    {
     "name": "stdout",
     "output_type": "stream",
     "text": [
      "0:\tlearn: 1.0944446\ttest: 1.0970837\tbest: 1.0970837 (0)\ttotal: 8.25ms\tremaining: 363ms\n",
      "30:\tlearn: 1.0425042\ttest: 1.0834979\tbest: 1.0834979 (30)\ttotal: 223ms\tremaining: 101ms\n",
      "44:\tlearn: 1.0267805\ttest: 1.0818893\tbest: 1.0818893 (44)\ttotal: 318ms\tremaining: 0us\n",
      "\n",
      "bestTest = 1.081889259\n",
      "bestIteration = 44\n",
      "\n"
     ]
    },
    {
     "data": {
      "text/plain": [
       "<catboost.core.CatBoostClassifier at 0x1db4a07f0d0>"
      ]
     },
     "execution_count": 337,
     "metadata": {},
     "output_type": "execute_result"
    }
   ],
   "source": [
    "from catboost import CatBoostClassifier\n",
    "\n",
    "model = CatBoostClassifier(\n",
    "    task_type = \"CPU\",\n",
    "    iterations = 45,\n",
    "    learning_rate = 0.1,\n",
    "    use_best_model = True,\n",
    "    loss_function ='MultiClass'\n",
    ")\n",
    "\n",
    "model.fit(X_train, y_train,\n",
    "         eval_set = (X_test, y_test),\n",
    "         verbose = 30,\n",
    "         plot = True\n",
    ")\n",
    "\n",
    "#y_pred = model.predict(X_test)"
   ]
  },
  {
   "cell_type": "code",
   "execution_count": 338,
   "id": "a7e07f31",
   "metadata": {},
   "outputs": [
    {
     "name": "stdout",
     "output_type": "stream",
     "text": [
      "[[313 195  90]\n",
      " [261 189 119]\n",
      " [210 165  95]]\n",
      "              precision    recall  f1-score   support\n",
      "\n",
      "           0       0.41      0.61      0.49       598\n",
      "           1       0.39      0.40      0.39       569\n",
      "           2       0.32      0.11      0.16       470\n",
      "\n",
      "    accuracy                           0.39      1637\n",
      "   macro avg       0.37      0.37      0.35      1637\n",
      "weighted avg       0.37      0.39      0.36      1637\n",
      "\n"
     ]
    }
   ],
   "source": [
    "print(confusion_matrix(y_test, y_pred))\n",
    "print(classification_report(y_test, model.predict(X_test)))"
   ]
  },
  {
   "cell_type": "code",
   "execution_count": null,
   "id": "da89e25a",
   "metadata": {},
   "outputs": [],
   "source": []
  },
  {
   "cell_type": "code",
   "execution_count": null,
   "id": "f0ba4268",
   "metadata": {},
   "outputs": [],
   "source": []
  }
 ],
 "metadata": {
  "kernelspec": {
   "display_name": "Python 3",
   "language": "python",
   "name": "python3"
  },
  "language_info": {
   "codemirror_mode": {
    "name": "ipython",
    "version": 3
   },
   "file_extension": ".py",
   "mimetype": "text/x-python",
   "name": "python",
   "nbconvert_exporter": "python",
   "pygments_lexer": "ipython3",
   "version": "3.8.8"
  }
 },
 "nbformat": 4,
 "nbformat_minor": 5
}
